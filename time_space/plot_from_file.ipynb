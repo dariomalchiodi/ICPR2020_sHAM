{
 "cells": [
  {
   "cell_type": "code",
   "execution_count": 1,
   "metadata": {},
   "outputs": [],
   "source": [
    "import numpy as np\n",
    "import seaborn as sns\n",
    "import matplotlib.pyplot as plt\n",
    "import pandas as pd\n",
    "import matplotlib"
   ]
  },
  {
   "cell_type": "code",
   "execution_count": 2,
   "metadata": {},
   "outputs": [],
   "source": [
    "import matplotlib.pylab as pylab\n",
    "params = {'legend.fontsize': 'xx-large',\n",
    "          'figure.figsize': (8, 12),\n",
    "         'axes.labelsize': 'xx-large',\n",
    "         'axes.titlesize':'xx-large',\n",
    "         'xtick.labelsize':'xx-large',\n",
    "         'ytick.labelsize':'xx-large'}\n",
    "pylab.rcParams.update(params)"
   ]
  },
  {
   "cell_type": "code",
   "execution_count": 3,
   "metadata": {},
   "outputs": [],
   "source": [
    "def convert_ws_in_cols(ws):\n",
    "    ws_0 = []\n",
    "    ws_1 = []\n",
    "    ws_2 = []\n",
    "    for ws_e in ws:\n",
    "        splitted = list(ws_e[1:-1].split(\", \"))\n",
    "        ws_0.append(int(splitted[0]))\n",
    "        ws_1.append(int(splitted[1]))\n",
    "        if len(splitted) == 3:\n",
    "            ws_2.append(int(splitted[2]))\n",
    "        else:\n",
    "            ws_2.append(0)\n",
    "    return ws_0, ws_1, ws_2"
   ]
  },
  {
   "cell_type": "code",
   "execution_count": 4,
   "metadata": {},
   "outputs": [],
   "source": [
    "def read_block_ws_huffman(net, clusters, unique, diff_acc, space, time, df):\n",
    "    if net == \"LeNet-MNIST-linkDM\":\n",
    "        net = [\"LeNet-MNIST\"]*len(clusters)\n",
    "    else:\n",
    "        net = [net]*len(clusters)\n",
    "    ws_0, ws_1, ws_2 = convert_ws_in_cols(clusters)\n",
    "    new_df_to_append = pd.DataFrame(list(zip(net, clusters, ws_0, ws_1, ws_2, unique, diff_acc, space, time)), columns =['net', 'ws', 'ws_0', 'ws_1', 'ws_2', 'unique', 'diff_acc', 'space', 'time'])\n",
    "    df = pd.concat([df, new_df_to_append], ignore_index=True)\n",
    "    return df"
   ]
  },
  {
   "cell_type": "code",
   "execution_count": 5,
   "metadata": {},
   "outputs": [],
   "source": [
    "#IF YOU RUN ALL EXPERIMENTS ON YOUR MACHINE YOU HAVE TO: directory_res = \"results/\"\n",
    "directory_res = \"results_just_runned/\""
   ]
  },
  {
   "cell_type": "markdown",
   "metadata": {},
   "source": [
    "# VGG19\n",
    "## WS with HAM"
   ]
  },
  {
   "cell_type": "code",
   "execution_count": 6,
   "metadata": {},
   "outputs": [],
   "source": [
    "file = open(directory_res+'huffman_ws.txt', 'r')"
   ]
  },
  {
   "cell_type": "code",
   "execution_count": 7,
   "metadata": {},
   "outputs": [],
   "source": [
    "Lines = file.readlines() \n",
    "df = pd.DataFrame(columns =['net', 'ws', 'ws_0', 'ws_1', 'ws_2', 'unique', 'diff_acc', 'space', 'time'])\n",
    "for row, line in enumerate(Lines):\n",
    "    if row == 0:\n",
    "        net = line.split(\"/\")[1]\n",
    "    elif row % 6 == 0:\n",
    "        df = read_block_ws_huffman(net, clusters, unique, diff_acc, space, time, df)\n",
    "        net = line.split(\"/\")[1]\n",
    "    else:\n",
    "        exec(line)\n",
    "df = read_block_ws_huffman(net, clusters, unique, diff_acc, space, time, df)"
   ]
  },
  {
   "cell_type": "code",
   "execution_count": 8,
   "metadata": {},
   "outputs": [],
   "source": [
    "df_sorted = df.sort_values(by=['net', 'ws_0', 'ws_1', 'ws_2'], ascending=True)"
   ]
  },
  {
   "cell_type": "code",
   "execution_count": 9,
   "metadata": {},
   "outputs": [],
   "source": [
    "def get_accuracy_bar_plots(df, lim_acc, max_time, legend=False):\n",
    "    ws_0_values = (2, 32, 128, 1024)\n",
    "    metrics = ('diff_acc', 'time', 'space')\n",
    "    nets = ('VGG19-MNIST', 'VGG19-CIFAR10')\n",
    "    metrics_to_print = (r'$\\Delta_{perf}$', 'time', r'$\\psi$')\n",
    "\n",
    "    rows = len(metrics)\n",
    "    cols = len(ws_0_values)\n",
    "\n",
    "    fig, axes = plt.subplots(rows, cols, figsize=(8, 12)) #2020\n",
    "    fig.subplots_adjust(hspace=0.05, wspace=0)\n",
    "\n",
    "\n",
    "\n",
    "    for r, metric in enumerate(metrics):\n",
    "        for c, ws_0 in enumerate(ws_0_values):\n",
    "            extract = df[(df.ws_0==ws_0)].loc[:, ['ws', metric, 'net']]\n",
    "            mask = (extract.net == 'VGG19-MNIST')\n",
    "            axes[r, c].bar(extract[mask].ws+\"2\", extract[mask][metric], color='#003f5c')\n",
    "            mask = (extract.net == 'VGG19-CIFAR10')\n",
    "            axes[r, c].bar(extract[mask].ws+\"3\", extract[mask][metric], color='#ffa600')\n",
    "\n",
    "    if legend:\n",
    "        axes[2,1].legend(nets, loc=1)\n",
    "\n",
    "    for r in range(rows):\n",
    "        for c in range(cols):\n",
    "            plt.sca(axes[r][c])\n",
    "            \n",
    "            if r == 0:\n",
    "                plt.ylim(lim_acc)\n",
    "                plt.axhline(0, ls='-')\n",
    "                \n",
    "            if r == 1:\n",
    "                plt.ylim(1, max_time)\n",
    "                \n",
    "            if r == 2:\n",
    "                plt.ylim(0.,1.)\n",
    "                plt.axhline(1, ls='-')\n",
    "            \n",
    "            if r == rows - 1:\n",
    "                plt.xticks(range(4), (2, 32, 128, 1024))\n",
    "                plt.tick_params(axis='x', which='major')\n",
    "                plt.xticks([])\n",
    "                plt.xlabel(ws_0_values[c])\n",
    "            else:\n",
    "                plt.xticks([])\n",
    "            \n",
    "            if c > 0:\n",
    "                plt.yticks([])\n",
    "\n",
    "            if c == cols - 1:\n",
    "                axes[r][c].yaxis.set_label_position('right')\n",
    "                plt.ylabel(metrics_to_print[r], fontsize=22)"
   ]
  },
  {
   "cell_type": "code",
   "execution_count": 10,
   "metadata": {},
   "outputs": [],
   "source": [
    "max_time = 287 #df_sorted[(df_sorted.net==\"VGG19-CIFAR10\")].max()[8]"
   ]
  },
  {
   "cell_type": "code",
   "execution_count": 11,
   "metadata": {},
   "outputs": [],
   "source": [
    "acc_lim = (-0.003, 0.003)"
   ]
  },
  {
   "cell_type": "code",
   "execution_count": 12,
   "metadata": {},
   "outputs": [
    {
     "data": {
      "image/png": "[encoded data removed]",
      "text/plain": [
       "<Figure size 576x864 with 12 Axes>"
      ]
     },
     "metadata": {
      "needs_background": "light"
     },
     "output_type": "display_data"
    }
   ],
   "source": [
    "get_accuracy_bar_plots(df_sorted, acc_lim, max_time, True)\n",
    "plt.savefig(\"plots_results/ws_huffman.png\")"
   ]
  },
  {
   "cell_type": "code",
   "execution_count": 13,
   "metadata": {
    "scrolled": true
   },
   "outputs": [
    {
     "data": {
      "text/html": [
       "<div>\n",
       "<style scoped>\n",
       "    .dataframe tbody tr th:only-of-type {\n",
       "        vertical-align: middle;\n",
       "    }\n",
       "\n",
       "    .dataframe tbody tr th {\n",
       "        vertical-align: top;\n",
       "    }\n",
       "\n",
       "    .dataframe thead th {\n",
       "        text-align: right;\n",
       "    }\n",
       "</style>\n",
       "<table border=\"1\" class=\"dataframe\">\n",
       "  <thead>\n",
       "    <tr style=\"text-align: right;\">\n",
       "      <th></th>\n",
       "      <th>net</th>\n",
       "      <th>ws</th>\n",
       "      <th>ws_0</th>\n",
       "      <th>ws_1</th>\n",
       "      <th>ws_2</th>\n",
       "      <th>unique</th>\n",
       "      <th>diff_acc</th>\n",
       "      <th>space</th>\n",
       "      <th>time</th>\n",
       "    </tr>\n",
       "  </thead>\n",
       "  <tbody>\n",
       "    <tr>\n",
       "      <th>91</th>\n",
       "      <td>VGG19-MNIST</td>\n",
       "      <td>[128, 32, 32]</td>\n",
       "      <td>128</td>\n",
       "      <td>32</td>\n",
       "      <td>32</td>\n",
       "      <td>[128, 32, 32]</td>\n",
       "      <td>0.0003</td>\n",
       "      <td>0.321</td>\n",
       "      <td>163</td>\n",
       "    </tr>\n",
       "  </tbody>\n",
       "</table>\n",
       "</div>"
      ],
      "text/plain": [
       "            net             ws ws_0 ws_1 ws_2         unique  diff_acc  space  \\\n",
       "91  VGG19-MNIST  [128, 32, 32]  128   32   32  [128, 32, 32]    0.0003  0.321   \n",
       "\n",
       "   time  \n",
       "91  163  "
      ]
     },
     "execution_count": 13,
     "metadata": {},
     "output_type": "execute_result"
    }
   ],
   "source": [
    "#BEST PERFORMANCE CONFIGURATION FOR VGG19-MNIST\n",
    "(df_sorted[(df_sorted.diff_acc>=0) & (df_sorted.net==\"VGG19-MNIST\")].sort_values(by=[\"diff_acc\"], ascending=False)[:1])"
   ]
  },
  {
   "cell_type": "code",
   "execution_count": 14,
   "metadata": {},
   "outputs": [
    {
     "data": {
      "text/html": [
       "<div>\n",
       "<style scoped>\n",
       "    .dataframe tbody tr th:only-of-type {\n",
       "        vertical-align: middle;\n",
       "    }\n",
       "\n",
       "    .dataframe tbody tr th {\n",
       "        vertical-align: top;\n",
       "    }\n",
       "\n",
       "    .dataframe thead th {\n",
       "        text-align: right;\n",
       "    }\n",
       "</style>\n",
       "<table border=\"1\" class=\"dataframe\">\n",
       "  <thead>\n",
       "    <tr style=\"text-align: right;\">\n",
       "      <th></th>\n",
       "      <th>net</th>\n",
       "      <th>ws</th>\n",
       "      <th>ws_0</th>\n",
       "      <th>ws_1</th>\n",
       "      <th>ws_2</th>\n",
       "      <th>unique</th>\n",
       "      <th>diff_acc</th>\n",
       "      <th>space</th>\n",
       "      <th>time</th>\n",
       "    </tr>\n",
       "  </thead>\n",
       "  <tbody>\n",
       "    <tr>\n",
       "      <th>74</th>\n",
       "      <td>VGG19-CIFAR10</td>\n",
       "      <td>[32, 32, 2]</td>\n",
       "      <td>32</td>\n",
       "      <td>32</td>\n",
       "      <td>2</td>\n",
       "      <td>[32, 32, 2]</td>\n",
       "      <td>0.0027</td>\n",
       "      <td>0.306</td>\n",
       "      <td>165</td>\n",
       "    </tr>\n",
       "  </tbody>\n",
       "</table>\n",
       "</div>"
      ],
      "text/plain": [
       "              net           ws ws_0 ws_1 ws_2       unique  diff_acc  space  \\\n",
       "74  VGG19-CIFAR10  [32, 32, 2]   32   32    2  [32, 32, 2]    0.0027  0.306   \n",
       "\n",
       "   time  \n",
       "74  165  "
      ]
     },
     "execution_count": 14,
     "metadata": {},
     "output_type": "execute_result"
    }
   ],
   "source": [
    "#BEST PERFORMANCE CONFIGURATION FOR VGG19-CIFAR10\n",
    "(df_sorted[(df_sorted.diff_acc>=0) & (df_sorted.net==\"VGG19-CIFAR10\")].sort_values(by=[\"diff_acc\"], ascending=False)[:1])"
   ]
  },
  {
   "cell_type": "code",
   "execution_count": 15,
   "metadata": {},
   "outputs": [
    {
     "data": {
      "text/html": [
       "<div>\n",
       "<style scoped>\n",
       "    .dataframe tbody tr th:only-of-type {\n",
       "        vertical-align: middle;\n",
       "    }\n",
       "\n",
       "    .dataframe tbody tr th {\n",
       "        vertical-align: top;\n",
       "    }\n",
       "\n",
       "    .dataframe thead th {\n",
       "        text-align: right;\n",
       "    }\n",
       "</style>\n",
       "<table border=\"1\" class=\"dataframe\">\n",
       "  <thead>\n",
       "    <tr style=\"text-align: right;\">\n",
       "      <th></th>\n",
       "      <th>net</th>\n",
       "      <th>ws</th>\n",
       "      <th>ws_0</th>\n",
       "      <th>ws_1</th>\n",
       "      <th>ws_2</th>\n",
       "      <th>unique</th>\n",
       "      <th>diff_acc</th>\n",
       "      <th>space</th>\n",
       "      <th>time</th>\n",
       "    </tr>\n",
       "  </thead>\n",
       "  <tbody>\n",
       "    <tr>\n",
       "      <th>89</th>\n",
       "      <td>VGG19-MNIST</td>\n",
       "      <td>[128, 2, 32]</td>\n",
       "      <td>128</td>\n",
       "      <td>2</td>\n",
       "      <td>32</td>\n",
       "      <td>[128, 2, 32]</td>\n",
       "      <td>0.0</td>\n",
       "      <td>0.104</td>\n",
       "      <td>160</td>\n",
       "    </tr>\n",
       "  </tbody>\n",
       "</table>\n",
       "</div>"
      ],
      "text/plain": [
       "            net            ws ws_0 ws_1 ws_2        unique  diff_acc  space  \\\n",
       "89  VGG19-MNIST  [128, 2, 32]  128    2   32  [128, 2, 32]       0.0  0.104   \n",
       "\n",
       "   time  \n",
       "89  160  "
      ]
     },
     "execution_count": 15,
     "metadata": {},
     "output_type": "execute_result"
    }
   ],
   "source": [
    "#BEST SPACE CONFIGURATION FOR VGG19-MNIST\n",
    "df_sorted[(df_sorted.diff_acc>=0) & (df_sorted.net==\"VGG19-MNIST\")].sort_values(by=[\"space\"], ascending=True)[:1]"
   ]
  },
  {
   "cell_type": "code",
   "execution_count": 16,
   "metadata": {},
   "outputs": [
    {
     "data": {
      "text/html": [
       "<div>\n",
       "<style scoped>\n",
       "    .dataframe tbody tr th:only-of-type {\n",
       "        vertical-align: middle;\n",
       "    }\n",
       "\n",
       "    .dataframe tbody tr th {\n",
       "        vertical-align: top;\n",
       "    }\n",
       "\n",
       "    .dataframe thead th {\n",
       "        text-align: right;\n",
       "    }\n",
       "</style>\n",
       "<table border=\"1\" class=\"dataframe\">\n",
       "  <thead>\n",
       "    <tr style=\"text-align: right;\">\n",
       "      <th></th>\n",
       "      <th>net</th>\n",
       "      <th>ws</th>\n",
       "      <th>ws_0</th>\n",
       "      <th>ws_1</th>\n",
       "      <th>ws_2</th>\n",
       "      <th>unique</th>\n",
       "      <th>diff_acc</th>\n",
       "      <th>space</th>\n",
       "      <th>time</th>\n",
       "    </tr>\n",
       "  </thead>\n",
       "  <tbody>\n",
       "    <tr>\n",
       "      <th>65</th>\n",
       "      <td>VGG19-CIFAR10</td>\n",
       "      <td>[2, 2, 32]</td>\n",
       "      <td>2</td>\n",
       "      <td>2</td>\n",
       "      <td>32</td>\n",
       "      <td>[2, 2, 32]</td>\n",
       "      <td>0.0016</td>\n",
       "      <td>0.063</td>\n",
       "      <td>155</td>\n",
       "    </tr>\n",
       "  </tbody>\n",
       "</table>\n",
       "</div>"
      ],
      "text/plain": [
       "              net          ws ws_0 ws_1 ws_2      unique  diff_acc  space time\n",
       "65  VGG19-CIFAR10  [2, 2, 32]    2    2   32  [2, 2, 32]    0.0016  0.063  155"
      ]
     },
     "execution_count": 16,
     "metadata": {},
     "output_type": "execute_result"
    }
   ],
   "source": [
    "#BEST SPACE CONFIGURATION FOR VGG19-CIFAR10\n",
    "df_sorted[(df_sorted.diff_acc>=0) & (df_sorted.net==\"VGG19-CIFAR10\")].sort_values(by=[\"space\"], ascending=True)[1:2]"
   ]
  },
  {
   "cell_type": "markdown",
   "metadata": {},
   "source": [
    "## PQ with HAM "
   ]
  },
  {
   "cell_type": "code",
   "execution_count": 17,
   "metadata": {},
   "outputs": [
    {
     "data": {
      "image/png": "[encoded data removed]",
      "text/plain": [
       "<Figure size 576x864 with 12 Axes>"
      ]
     },
     "metadata": {
      "needs_background": "light"
     },
     "output_type": "display_data"
    }
   ],
   "source": [
    "file = open(directory_res+'huffman_pq.txt', 'r')\n",
    "Lines = file.readlines() \n",
    "df = pd.DataFrame(columns =['net', 'ws', 'ws_0', 'ws_1', 'ws_2', 'unique', 'diff_acc', 'space', 'time'])\n",
    "for row, line in enumerate(Lines):\n",
    "    if row == 0:\n",
    "        net = line.split(\"/\")[1]\n",
    "    elif row % 6 == 0:\n",
    "        df = read_block_ws_huffman(net, clusters, unique, diff_acc, space, time, df)\n",
    "        net = line.split(\"/\")[1]\n",
    "    else:\n",
    "        exec(line)\n",
    "df = read_block_ws_huffman(net, clusters, unique, diff_acc, space, time, df)\n",
    "\n",
    "df_sorted = df.sort_values(by=['net', 'ws_0', 'ws_1', 'ws_2'], ascending=True)\n",
    "acc_lim = (-0.003, 0.003)\n",
    "get_accuracy_bar_plots(df_sorted, acc_lim, max_time)\n",
    "\n",
    "plt.savefig(\"plots_results/pq_huffman.png\")"
   ]
  },
  {
   "cell_type": "code",
   "execution_count": 18,
   "metadata": {
    "scrolled": true
   },
   "outputs": [
    {
     "data": {
      "text/html": [
       "<div>\n",
       "<style scoped>\n",
       "    .dataframe tbody tr th:only-of-type {\n",
       "        vertical-align: middle;\n",
       "    }\n",
       "\n",
       "    .dataframe tbody tr th {\n",
       "        vertical-align: top;\n",
       "    }\n",
       "\n",
       "    .dataframe thead th {\n",
       "        text-align: right;\n",
       "    }\n",
       "</style>\n",
       "<table border=\"1\" class=\"dataframe\">\n",
       "  <thead>\n",
       "    <tr style=\"text-align: right;\">\n",
       "      <th></th>\n",
       "      <th>net</th>\n",
       "      <th>ws</th>\n",
       "      <th>ws_0</th>\n",
       "      <th>ws_1</th>\n",
       "      <th>ws_2</th>\n",
       "      <th>unique</th>\n",
       "      <th>diff_acc</th>\n",
       "      <th>space</th>\n",
       "      <th>time</th>\n",
       "    </tr>\n",
       "  </thead>\n",
       "  <tbody>\n",
       "    <tr>\n",
       "      <th>62</th>\n",
       "      <td>VGG19-MNIST</td>\n",
       "      <td>[32, 32, 2]</td>\n",
       "      <td>32</td>\n",
       "      <td>32</td>\n",
       "      <td>2</td>\n",
       "      <td>[32, 32, 2]</td>\n",
       "      <td>0.0004</td>\n",
       "      <td>0.309</td>\n",
       "      <td>245</td>\n",
       "    </tr>\n",
       "  </tbody>\n",
       "</table>\n",
       "</div>"
      ],
      "text/plain": [
       "            net           ws ws_0 ws_1 ws_2       unique  diff_acc  space time\n",
       "62  VGG19-MNIST  [32, 32, 2]   32   32    2  [32, 32, 2]    0.0004  0.309  245"
      ]
     },
     "execution_count": 18,
     "metadata": {},
     "output_type": "execute_result"
    }
   ],
   "source": [
    "#BEST PERFORMANCE CONFIGURATION FOR VGG19-MNIST\n",
    "(df_sorted[(df_sorted.diff_acc>=0) & (df_sorted.net==\"VGG19-MNIST\")].sort_values(by=[\"diff_acc\"], ascending=False)[:1])"
   ]
  },
  {
   "cell_type": "code",
   "execution_count": 19,
   "metadata": {},
   "outputs": [
    {
     "data": {
      "text/html": [
       "<div>\n",
       "<style scoped>\n",
       "    .dataframe tbody tr th:only-of-type {\n",
       "        vertical-align: middle;\n",
       "    }\n",
       "\n",
       "    .dataframe tbody tr th {\n",
       "        vertical-align: top;\n",
       "    }\n",
       "\n",
       "    .dataframe thead th {\n",
       "        text-align: right;\n",
       "    }\n",
       "</style>\n",
       "<table border=\"1\" class=\"dataframe\">\n",
       "  <thead>\n",
       "    <tr style=\"text-align: right;\">\n",
       "      <th></th>\n",
       "      <th>net</th>\n",
       "      <th>ws</th>\n",
       "      <th>ws_0</th>\n",
       "      <th>ws_1</th>\n",
       "      <th>ws_2</th>\n",
       "      <th>unique</th>\n",
       "      <th>diff_acc</th>\n",
       "      <th>space</th>\n",
       "      <th>time</th>\n",
       "    </tr>\n",
       "  </thead>\n",
       "  <tbody>\n",
       "    <tr>\n",
       "      <th>29</th>\n",
       "      <td>VGG19-CIFAR10</td>\n",
       "      <td>[32, 2, 32]</td>\n",
       "      <td>32</td>\n",
       "      <td>2</td>\n",
       "      <td>32</td>\n",
       "      <td>[32, 2, 32]</td>\n",
       "      <td>0.0019</td>\n",
       "      <td>0.091</td>\n",
       "      <td>239</td>\n",
       "    </tr>\n",
       "  </tbody>\n",
       "</table>\n",
       "</div>"
      ],
      "text/plain": [
       "              net           ws ws_0 ws_1 ws_2       unique  diff_acc  space  \\\n",
       "29  VGG19-CIFAR10  [32, 2, 32]   32    2   32  [32, 2, 32]    0.0019  0.091   \n",
       "\n",
       "   time  \n",
       "29  239  "
      ]
     },
     "execution_count": 19,
     "metadata": {},
     "output_type": "execute_result"
    }
   ],
   "source": [
    "#BEST PERFORMANCE CONFIGURATION FOR VGG19-CIFAR10\n",
    "(df_sorted[(df_sorted.diff_acc>=0) & (df_sorted.net==\"VGG19-CIFAR10\")].sort_values(by=[\"diff_acc\"], ascending=False)[:1])"
   ]
  },
  {
   "cell_type": "code",
   "execution_count": 20,
   "metadata": {},
   "outputs": [
    {
     "data": {
      "text/html": [
       "<div>\n",
       "<style scoped>\n",
       "    .dataframe tbody tr th:only-of-type {\n",
       "        vertical-align: middle;\n",
       "    }\n",
       "\n",
       "    .dataframe tbody tr th {\n",
       "        vertical-align: top;\n",
       "    }\n",
       "\n",
       "    .dataframe thead th {\n",
       "        text-align: right;\n",
       "    }\n",
       "</style>\n",
       "<table border=\"1\" class=\"dataframe\">\n",
       "  <thead>\n",
       "    <tr style=\"text-align: right;\">\n",
       "      <th></th>\n",
       "      <th>net</th>\n",
       "      <th>ws</th>\n",
       "      <th>ws_0</th>\n",
       "      <th>ws_1</th>\n",
       "      <th>ws_2</th>\n",
       "      <th>unique</th>\n",
       "      <th>diff_acc</th>\n",
       "      <th>space</th>\n",
       "      <th>time</th>\n",
       "    </tr>\n",
       "  </thead>\n",
       "  <tbody>\n",
       "    <tr>\n",
       "      <th>45</th>\n",
       "      <td>VGG19-MNIST</td>\n",
       "      <td>[128, 2, 32]</td>\n",
       "      <td>128</td>\n",
       "      <td>2</td>\n",
       "      <td>32</td>\n",
       "      <td>[128, 2, 32]</td>\n",
       "      <td>-0.0</td>\n",
       "      <td>0.105</td>\n",
       "      <td>210</td>\n",
       "    </tr>\n",
       "  </tbody>\n",
       "</table>\n",
       "</div>"
      ],
      "text/plain": [
       "            net            ws ws_0 ws_1 ws_2        unique  diff_acc  space  \\\n",
       "45  VGG19-MNIST  [128, 2, 32]  128    2   32  [128, 2, 32]      -0.0  0.105   \n",
       "\n",
       "   time  \n",
       "45  210  "
      ]
     },
     "execution_count": 20,
     "metadata": {},
     "output_type": "execute_result"
    }
   ],
   "source": [
    "#BEST SPACE CONFIGURATION FOR VGG19-MNIST\n",
    "df_sorted[(df_sorted.diff_acc>=0) & (df_sorted.net==\"VGG19-MNIST\")].sort_values(by=[\"space\"], ascending=True)[:1]"
   ]
  },
  {
   "cell_type": "code",
   "execution_count": 21,
   "metadata": {},
   "outputs": [
    {
     "data": {
      "text/html": [
       "<div>\n",
       "<style scoped>\n",
       "    .dataframe tbody tr th:only-of-type {\n",
       "        vertical-align: middle;\n",
       "    }\n",
       "\n",
       "    .dataframe tbody tr th {\n",
       "        vertical-align: top;\n",
       "    }\n",
       "\n",
       "    .dataframe thead th {\n",
       "        text-align: right;\n",
       "    }\n",
       "</style>\n",
       "<table border=\"1\" class=\"dataframe\">\n",
       "  <thead>\n",
       "    <tr style=\"text-align: right;\">\n",
       "      <th></th>\n",
       "      <th>net</th>\n",
       "      <th>ws</th>\n",
       "      <th>ws_0</th>\n",
       "      <th>ws_1</th>\n",
       "      <th>ws_2</th>\n",
       "      <th>unique</th>\n",
       "      <th>diff_acc</th>\n",
       "      <th>space</th>\n",
       "      <th>time</th>\n",
       "    </tr>\n",
       "  </thead>\n",
       "  <tbody>\n",
       "    <tr>\n",
       "      <th>21</th>\n",
       "      <td>VGG19-CIFAR10</td>\n",
       "      <td>[2, 2, 32]</td>\n",
       "      <td>2</td>\n",
       "      <td>2</td>\n",
       "      <td>32</td>\n",
       "      <td>[2, 2, 32]</td>\n",
       "      <td>0.0007</td>\n",
       "      <td>0.063</td>\n",
       "      <td>269</td>\n",
       "    </tr>\n",
       "  </tbody>\n",
       "</table>\n",
       "</div>"
      ],
      "text/plain": [
       "              net          ws ws_0 ws_1 ws_2      unique  diff_acc  space time\n",
       "21  VGG19-CIFAR10  [2, 2, 32]    2    2   32  [2, 2, 32]    0.0007  0.063  269"
      ]
     },
     "execution_count": 21,
     "metadata": {},
     "output_type": "execute_result"
    }
   ],
   "source": [
    "#BEST SPACE CONFIGURATION FOR VGG19-CIFAR10\n",
    "df_sorted[(df_sorted.diff_acc>=0) & (df_sorted.net==\"VGG19-CIFAR10\")].sort_values(by=[\"space\"], ascending=True)[1:2]"
   ]
  },
  {
   "cell_type": "markdown",
   "metadata": {},
   "source": [
    "## Pr-WS with HAM"
   ]
  },
  {
   "cell_type": "code",
   "execution_count": 22,
   "metadata": {},
   "outputs": [],
   "source": [
    "def read_block_pr_ws_huffman(net, pruning, clusters, unique, diff_acc, space, time, df):\n",
    "    if net == \"LeNet-MNIST-linkDM\":\n",
    "        net = [\"LeNet-MNIST\"]*len(pruning)\n",
    "    else:\n",
    "        net = [net]*len(pruning)\n",
    "    ws_0, ws_1, ws_2 = convert_ws_in_cols(clusters)\n",
    "    new_df_to_append = pd.DataFrame(list(zip(net, pruning, clusters, ws_0, ws_1, ws_2, unique, diff_acc, space, time)), columns =['net', 'pruning', 'ws', 'ws_0', 'ws_1', 'ws_2', 'unique', 'diff_acc', 'space', 'time'])\n",
    "    df = pd.concat([df, new_df_to_append], ignore_index=True)\n",
    "    return df"
   ]
  },
  {
   "cell_type": "code",
   "execution_count": 23,
   "metadata": {},
   "outputs": [],
   "source": [
    "file = open(directory_res+'huffman_pruningws.txt', 'r') "
   ]
  },
  {
   "cell_type": "code",
   "execution_count": 24,
   "metadata": {},
   "outputs": [],
   "source": [
    "Lines = file.readlines() \n",
    "df = pd.DataFrame(columns =['net', 'pruning', 'ws', 'ws_0', 'ws_1', 'ws_2', 'unique', 'diff_acc', 'space', 'time'])\n",
    "for row, line in enumerate(Lines):\n",
    "    if row == 0:\n",
    "        net = line.split(\"/\")[1]\n",
    "    elif row % 7 == 0:\n",
    "        df = read_block_pr_ws_huffman(net, pruning, clusters, unique, diff_acc, space, time, df)\n",
    "        net = line.split(\"/\")[1]\n",
    "    else:\n",
    "        exec(line)\n",
    "df = read_block_pr_ws_huffman(net, pruning, clusters, unique, diff_acc, space, time, df)"
   ]
  },
  {
   "cell_type": "code",
   "execution_count": 25,
   "metadata": {},
   "outputs": [],
   "source": [
    "df_sorted = df.sort_values(by=['net', 'ws_0', 'ws_1', 'ws_2'], ascending=True)"
   ]
  },
  {
   "cell_type": "code",
   "execution_count": 26,
   "metadata": {},
   "outputs": [],
   "source": [
    "df_pr = pd.concat([df_sorted[(df_sorted.net==\"VGG19-CIFAR10\") & (df_sorted.pruning=='60')],\n",
    "                   df_sorted[(df_sorted.net==\"VGG19-MNIST\") & (df_sorted.pruning=='96')]])\n",
    "df_ws = pd.concat([(df_sorted[(df_sorted.net=='VGG19-MNIST') & (df_sorted.ws=='[128, 32, 32]')]),\n",
    "                   (df_sorted[(df_sorted.net=='VGG19-CIFAR10') & (df_sorted.ws=='[32, 32, 2]')])])"
   ]
  },
  {
   "cell_type": "code",
   "execution_count": 27,
   "metadata": {},
   "outputs": [
    {
     "data": {
      "image/png": "[encoded data removed]",
      "text/plain": [
       "<Figure size 576x864 with 12 Axes>"
      ]
     },
     "metadata": {
      "needs_background": "light"
     },
     "output_type": "display_data"
    }
   ],
   "source": [
    "get_accuracy_bar_plots(df_pr, acc_lim, max_time)\n",
    "plt.savefig(\"plots_results/prws_huffman_for_ws.png\")"
   ]
  },
  {
   "cell_type": "code",
   "execution_count": 28,
   "metadata": {
    "scrolled": true
   },
   "outputs": [
    {
     "data": {
      "text/html": [
       "<div>\n",
       "<style scoped>\n",
       "    .dataframe tbody tr th:only-of-type {\n",
       "        vertical-align: middle;\n",
       "    }\n",
       "\n",
       "    .dataframe tbody tr th {\n",
       "        vertical-align: top;\n",
       "    }\n",
       "\n",
       "    .dataframe thead th {\n",
       "        text-align: right;\n",
       "    }\n",
       "</style>\n",
       "<table border=\"1\" class=\"dataframe\">\n",
       "  <thead>\n",
       "    <tr style=\"text-align: right;\">\n",
       "      <th></th>\n",
       "      <th>net</th>\n",
       "      <th>pruning</th>\n",
       "      <th>ws</th>\n",
       "      <th>ws_0</th>\n",
       "      <th>ws_1</th>\n",
       "      <th>ws_2</th>\n",
       "      <th>unique</th>\n",
       "      <th>diff_acc</th>\n",
       "      <th>space</th>\n",
       "      <th>time</th>\n",
       "    </tr>\n",
       "  </thead>\n",
       "  <tbody>\n",
       "    <tr>\n",
       "      <th>80</th>\n",
       "      <td>VGG19-MNIST</td>\n",
       "      <td>96</td>\n",
       "      <td>[128, 32, 32]</td>\n",
       "      <td>128</td>\n",
       "      <td>32</td>\n",
       "      <td>32</td>\n",
       "      <td>[6, 4, 3]</td>\n",
       "      <td>0.0002</td>\n",
       "      <td>0.067</td>\n",
       "      <td>46</td>\n",
       "    </tr>\n",
       "  </tbody>\n",
       "</table>\n",
       "</div>"
      ],
      "text/plain": [
       "            net pruning             ws ws_0 ws_1 ws_2     unique  diff_acc  \\\n",
       "80  VGG19-MNIST      96  [128, 32, 32]  128   32   32  [6, 4, 3]    0.0002   \n",
       "\n",
       "    space time  \n",
       "80  0.067   46  "
      ]
     },
     "execution_count": 28,
     "metadata": {},
     "output_type": "execute_result"
    }
   ],
   "source": [
    "#BEST PERFORMANCE CONFIGURATION FOR VGG19-MNIST\n",
    "(df_pr[(df_pr.diff_acc>=0) & (df_pr.net==\"VGG19-MNIST\")].sort_values(by=[\"diff_acc\"], ascending=False)[:1])"
   ]
  },
  {
   "cell_type": "code",
   "execution_count": 29,
   "metadata": {},
   "outputs": [
    {
     "data": {
      "text/html": [
       "<div>\n",
       "<style scoped>\n",
       "    .dataframe tbody tr th:only-of-type {\n",
       "        vertical-align: middle;\n",
       "    }\n",
       "\n",
       "    .dataframe tbody tr th {\n",
       "        vertical-align: top;\n",
       "    }\n",
       "\n",
       "    .dataframe thead th {\n",
       "        text-align: right;\n",
       "    }\n",
       "</style>\n",
       "<table border=\"1\" class=\"dataframe\">\n",
       "  <thead>\n",
       "    <tr style=\"text-align: right;\">\n",
       "      <th></th>\n",
       "      <th>net</th>\n",
       "      <th>pruning</th>\n",
       "      <th>ws</th>\n",
       "      <th>ws_0</th>\n",
       "      <th>ws_1</th>\n",
       "      <th>ws_2</th>\n",
       "      <th>unique</th>\n",
       "      <th>diff_acc</th>\n",
       "      <th>space</th>\n",
       "      <th>time</th>\n",
       "    </tr>\n",
       "  </thead>\n",
       "  <tbody>\n",
       "    <tr>\n",
       "      <th>116</th>\n",
       "      <td>VGG19-CIFAR10</td>\n",
       "      <td>60</td>\n",
       "      <td>[128, 2, 32]</td>\n",
       "      <td>128</td>\n",
       "      <td>2</td>\n",
       "      <td>32</td>\n",
       "      <td>[128, 3, 32]</td>\n",
       "      <td>0.0022</td>\n",
       "      <td>0.104</td>\n",
       "      <td>101</td>\n",
       "    </tr>\n",
       "  </tbody>\n",
       "</table>\n",
       "</div>"
      ],
      "text/plain": [
       "               net pruning            ws ws_0 ws_1 ws_2        unique  \\\n",
       "116  VGG19-CIFAR10      60  [128, 2, 32]  128    2   32  [128, 3, 32]   \n",
       "\n",
       "     diff_acc  space time  \n",
       "116    0.0022  0.104  101  "
      ]
     },
     "execution_count": 29,
     "metadata": {},
     "output_type": "execute_result"
    }
   ],
   "source": [
    "#BEST PERFORMANCE CONFIGURATION FOR VGG19-CIFAR10\n",
    "(df_pr[(df_pr.diff_acc>=0) & (df_pr.net==\"VGG19-CIFAR10\")].sort_values(by=[\"diff_acc\"], ascending=False)[:1])"
   ]
  },
  {
   "cell_type": "code",
   "execution_count": 30,
   "metadata": {},
   "outputs": [
    {
     "data": {
      "text/html": [
       "<div>\n",
       "<style scoped>\n",
       "    .dataframe tbody tr th:only-of-type {\n",
       "        vertical-align: middle;\n",
       "    }\n",
       "\n",
       "    .dataframe tbody tr th {\n",
       "        vertical-align: top;\n",
       "    }\n",
       "\n",
       "    .dataframe thead th {\n",
       "        text-align: right;\n",
       "    }\n",
       "</style>\n",
       "<table border=\"1\" class=\"dataframe\">\n",
       "  <thead>\n",
       "    <tr style=\"text-align: right;\">\n",
       "      <th></th>\n",
       "      <th>net</th>\n",
       "      <th>pruning</th>\n",
       "      <th>ws</th>\n",
       "      <th>ws_0</th>\n",
       "      <th>ws_1</th>\n",
       "      <th>ws_2</th>\n",
       "      <th>unique</th>\n",
       "      <th>diff_acc</th>\n",
       "      <th>space</th>\n",
       "      <th>time</th>\n",
       "    </tr>\n",
       "  </thead>\n",
       "  <tbody>\n",
       "    <tr>\n",
       "      <th>87</th>\n",
       "      <td>VGG19-MNIST</td>\n",
       "      <td>96</td>\n",
       "      <td>[2, 32, 2]</td>\n",
       "      <td>2</td>\n",
       "      <td>32</td>\n",
       "      <td>2</td>\n",
       "      <td>[3, 4, 3]</td>\n",
       "      <td>0.0</td>\n",
       "      <td>0.066</td>\n",
       "      <td>46</td>\n",
       "    </tr>\n",
       "  </tbody>\n",
       "</table>\n",
       "</div>"
      ],
      "text/plain": [
       "            net pruning          ws ws_0 ws_1 ws_2     unique  diff_acc  \\\n",
       "87  VGG19-MNIST      96  [2, 32, 2]    2   32    2  [3, 4, 3]       0.0   \n",
       "\n",
       "    space time  \n",
       "87  0.066   46  "
      ]
     },
     "execution_count": 30,
     "metadata": {},
     "output_type": "execute_result"
    }
   ],
   "source": [
    "#BEST SPACE CONFIGURATION FOR VGG19-MNIST\n",
    "df_pr[(df_pr.diff_acc>=0) & (df_pr.net==\"VGG19-MNIST\")].sort_values(by=[\"space\"], ascending=True)[:1]"
   ]
  },
  {
   "cell_type": "code",
   "execution_count": 31,
   "metadata": {
    "scrolled": true
   },
   "outputs": [
    {
     "data": {
      "text/html": [
       "<div>\n",
       "<style scoped>\n",
       "    .dataframe tbody tr th:only-of-type {\n",
       "        vertical-align: middle;\n",
       "    }\n",
       "\n",
       "    .dataframe tbody tr th {\n",
       "        vertical-align: top;\n",
       "    }\n",
       "\n",
       "    .dataframe thead th {\n",
       "        text-align: right;\n",
       "    }\n",
       "</style>\n",
       "<table border=\"1\" class=\"dataframe\">\n",
       "  <thead>\n",
       "    <tr style=\"text-align: right;\">\n",
       "      <th></th>\n",
       "      <th>net</th>\n",
       "      <th>pruning</th>\n",
       "      <th>ws</th>\n",
       "      <th>ws_0</th>\n",
       "      <th>ws_1</th>\n",
       "      <th>ws_2</th>\n",
       "      <th>unique</th>\n",
       "      <th>diff_acc</th>\n",
       "      <th>space</th>\n",
       "      <th>time</th>\n",
       "    </tr>\n",
       "  </thead>\n",
       "  <tbody>\n",
       "    <tr>\n",
       "      <th>124</th>\n",
       "      <td>VGG19-CIFAR10</td>\n",
       "      <td>60</td>\n",
       "      <td>[2, 2, 32]</td>\n",
       "      <td>2</td>\n",
       "      <td>2</td>\n",
       "      <td>32</td>\n",
       "      <td>[3, 3, 32]</td>\n",
       "      <td>0.0022</td>\n",
       "      <td>0.088</td>\n",
       "      <td>97</td>\n",
       "    </tr>\n",
       "  </tbody>\n",
       "</table>\n",
       "</div>"
      ],
      "text/plain": [
       "               net pruning          ws ws_0 ws_1 ws_2      unique  diff_acc  \\\n",
       "124  VGG19-CIFAR10      60  [2, 2, 32]    2    2   32  [3, 3, 32]    0.0022   \n",
       "\n",
       "     space time  \n",
       "124  0.088   97  "
      ]
     },
     "execution_count": 31,
     "metadata": {},
     "output_type": "execute_result"
    }
   ],
   "source": [
    "#BEST SPACE CONFIGURATION FOR VGG19-CIFAR10\n",
    "df_pr[(df_pr.diff_acc>=0) & (df_pr.net==\"VGG19-CIFAR10\")].sort_values(by=[\"space\"], ascending=True)[1:2]"
   ]
  },
  {
   "cell_type": "code",
   "execution_count": 32,
   "metadata": {},
   "outputs": [],
   "source": [
    "def get_accuracy_bar_plots_ws(df, acc_lim, max_time):\n",
    "    pr_values = (30,40,50,60,70,80,90,95,96,97,98,99)\n",
    "    pr_values_lab = (\"30\",\"\",\"50\",\"\",\"70\",\"\",\"90\",\"\",\"96\",\"\",\"98\",\"\")\n",
    "\n",
    "    metrics = ('diff_acc', 'time', 'space')\n",
    "    nets = ('VGG19-MNIST', 'VGG19-CIFAR10')\n",
    "    metrics_to_print = (r'$\\Delta_{perf}$', 'time', r'$\\psi$')\n",
    "\n",
    "    colors = ('#003f5c', '#ffa600')\n",
    "    \n",
    "    rows = len(metrics)\n",
    "    cols = len(nets)\n",
    "\n",
    "    fig, axes = plt.subplots(rows, cols, figsize=(8, 12))\n",
    "    fig.subplots_adjust(hspace=0.05, wspace=0)\n",
    "\n",
    "    \n",
    "    for r, metric in enumerate(metrics):\n",
    "        for c, net in enumerate(nets):\n",
    "            extract = df[(df.net==net)].loc[:, ['pruning', metric]]\n",
    "            axes[r, c].bar(extract.pruning, extract[metric], color=colors[c])\n",
    "\n",
    "    for r in range(rows):\n",
    "        for c in range(cols):\n",
    "            plt.sca(axes[r][c])\n",
    "            if r == 0:\n",
    "                plt.axhline(0, ls='-')\n",
    "                plt.ylim(acc_lim)\n",
    "                \n",
    "            if r == 1:\n",
    "                plt.ylim(1, max_time)\n",
    "                \n",
    "            if r == 2:\n",
    "                plt.ylim(0.,1.)\n",
    "\n",
    "            if r != rows - 1:\n",
    "                plt.xticks([])\n",
    "            else:\n",
    "                plt.xticks(range(len(pr_values_lab)), pr_values_lab)\n",
    "                \n",
    "            if c > 0:\n",
    "                plt.yticks([])\n",
    "              \n",
    "            if c == cols - 1:\n",
    "                axes[r][c].yaxis.set_label_position('right')\n",
    "                plt.ylabel(metrics_to_print[r], fontsize=22)"
   ]
  },
  {
   "cell_type": "code",
   "execution_count": 33,
   "metadata": {},
   "outputs": [
    {
     "data": {
      "image/png": "[encoded data removed]",
      "text/plain": [
       "<Figure size 576x864 with 6 Axes>"
      ]
     },
     "metadata": {
      "needs_background": "light"
     },
     "output_type": "display_data"
    }
   ],
   "source": [
    "get_accuracy_bar_plots_ws(df_ws, acc_lim, max_time)\n",
    "plt.savefig(\"plots_results/prws_huffman_for_pr.png\")"
   ]
  },
  {
   "cell_type": "code",
   "execution_count": 34,
   "metadata": {
    "scrolled": true
   },
   "outputs": [
    {
     "data": {
      "text/html": [
       "<div>\n",
       "<style scoped>\n",
       "    .dataframe tbody tr th:only-of-type {\n",
       "        vertical-align: middle;\n",
       "    }\n",
       "\n",
       "    .dataframe tbody tr th {\n",
       "        vertical-align: top;\n",
       "    }\n",
       "\n",
       "    .dataframe thead th {\n",
       "        text-align: right;\n",
       "    }\n",
       "</style>\n",
       "<table border=\"1\" class=\"dataframe\">\n",
       "  <thead>\n",
       "    <tr style=\"text-align: right;\">\n",
       "      <th></th>\n",
       "      <th>net</th>\n",
       "      <th>pruning</th>\n",
       "      <th>ws</th>\n",
       "      <th>ws_0</th>\n",
       "      <th>ws_1</th>\n",
       "      <th>ws_2</th>\n",
       "      <th>unique</th>\n",
       "      <th>diff_acc</th>\n",
       "      <th>space</th>\n",
       "      <th>time</th>\n",
       "    </tr>\n",
       "  </thead>\n",
       "  <tbody>\n",
       "    <tr>\n",
       "      <th>80</th>\n",
       "      <td>VGG19-MNIST</td>\n",
       "      <td>96</td>\n",
       "      <td>[128, 32, 32]</td>\n",
       "      <td>128</td>\n",
       "      <td>32</td>\n",
       "      <td>32</td>\n",
       "      <td>[6, 4, 3]</td>\n",
       "      <td>0.0002</td>\n",
       "      <td>0.067</td>\n",
       "      <td>46</td>\n",
       "    </tr>\n",
       "  </tbody>\n",
       "</table>\n",
       "</div>"
      ],
      "text/plain": [
       "            net pruning             ws ws_0 ws_1 ws_2     unique  diff_acc  \\\n",
       "80  VGG19-MNIST      96  [128, 32, 32]  128   32   32  [6, 4, 3]    0.0002   \n",
       "\n",
       "    space time  \n",
       "80  0.067   46  "
      ]
     },
     "execution_count": 34,
     "metadata": {},
     "output_type": "execute_result"
    }
   ],
   "source": [
    "#BEST PERFORMANCE CONFIGURATION FOR VGG19-MNIST\n",
    "(df_ws[(df_ws.diff_acc>=0) & (df_ws.net==\"VGG19-MNIST\")].sort_values(by=[\"diff_acc\"], ascending=False)[:1])"
   ]
  },
  {
   "cell_type": "code",
   "execution_count": 35,
   "metadata": {},
   "outputs": [
    {
     "data": {
      "text/html": [
       "<div>\n",
       "<style scoped>\n",
       "    .dataframe tbody tr th:only-of-type {\n",
       "        vertical-align: middle;\n",
       "    }\n",
       "\n",
       "    .dataframe tbody tr th {\n",
       "        vertical-align: top;\n",
       "    }\n",
       "\n",
       "    .dataframe thead th {\n",
       "        text-align: right;\n",
       "    }\n",
       "</style>\n",
       "<table border=\"1\" class=\"dataframe\">\n",
       "  <thead>\n",
       "    <tr style=\"text-align: right;\">\n",
       "      <th></th>\n",
       "      <th>net</th>\n",
       "      <th>pruning</th>\n",
       "      <th>ws</th>\n",
       "      <th>ws_0</th>\n",
       "      <th>ws_1</th>\n",
       "      <th>ws_2</th>\n",
       "      <th>unique</th>\n",
       "      <th>diff_acc</th>\n",
       "      <th>space</th>\n",
       "      <th>time</th>\n",
       "    </tr>\n",
       "  </thead>\n",
       "  <tbody>\n",
       "    <tr>\n",
       "      <th>102</th>\n",
       "      <td>VGG19-CIFAR10</td>\n",
       "      <td>50</td>\n",
       "      <td>[32, 32, 2]</td>\n",
       "      <td>32</td>\n",
       "      <td>32</td>\n",
       "      <td>2</td>\n",
       "      <td>[32, 32, 3]</td>\n",
       "      <td>0.0026</td>\n",
       "      <td>0.216</td>\n",
       "      <td>114</td>\n",
       "    </tr>\n",
       "  </tbody>\n",
       "</table>\n",
       "</div>"
      ],
      "text/plain": [
       "               net pruning           ws ws_0 ws_1 ws_2       unique  diff_acc  \\\n",
       "102  VGG19-CIFAR10      50  [32, 32, 2]   32   32    2  [32, 32, 3]    0.0026   \n",
       "\n",
       "     space time  \n",
       "102  0.216  114  "
      ]
     },
     "execution_count": 35,
     "metadata": {},
     "output_type": "execute_result"
    }
   ],
   "source": [
    "#BEST PERFORMANCE CONFIGURATION FOR VGG19-CIFAR10\n",
    "(df_ws[(df_ws.diff_acc>=0) & (df_ws.net==\"VGG19-CIFAR10\")].sort_values(by=[\"diff_acc\"], ascending=False)[:1])"
   ]
  },
  {
   "cell_type": "code",
   "execution_count": 36,
   "metadata": {},
   "outputs": [
    {
     "data": {
      "text/html": [
       "<div>\n",
       "<style scoped>\n",
       "    .dataframe tbody tr th:only-of-type {\n",
       "        vertical-align: middle;\n",
       "    }\n",
       "\n",
       "    .dataframe tbody tr th {\n",
       "        vertical-align: top;\n",
       "    }\n",
       "\n",
       "    .dataframe thead th {\n",
       "        text-align: right;\n",
       "    }\n",
       "</style>\n",
       "<table border=\"1\" class=\"dataframe\">\n",
       "  <thead>\n",
       "    <tr style=\"text-align: right;\">\n",
       "      <th></th>\n",
       "      <th>net</th>\n",
       "      <th>pruning</th>\n",
       "      <th>ws</th>\n",
       "      <th>ws_0</th>\n",
       "      <th>ws_1</th>\n",
       "      <th>ws_2</th>\n",
       "      <th>unique</th>\n",
       "      <th>diff_acc</th>\n",
       "      <th>space</th>\n",
       "      <th>time</th>\n",
       "    </tr>\n",
       "  </thead>\n",
       "  <tbody>\n",
       "    <tr>\n",
       "      <th>80</th>\n",
       "      <td>VGG19-MNIST</td>\n",
       "      <td>96</td>\n",
       "      <td>[128, 32, 32]</td>\n",
       "      <td>128</td>\n",
       "      <td>32</td>\n",
       "      <td>32</td>\n",
       "      <td>[6, 4, 3]</td>\n",
       "      <td>0.0002</td>\n",
       "      <td>0.067</td>\n",
       "      <td>46</td>\n",
       "    </tr>\n",
       "  </tbody>\n",
       "</table>\n",
       "</div>"
      ],
      "text/plain": [
       "            net pruning             ws ws_0 ws_1 ws_2     unique  diff_acc  \\\n",
       "80  VGG19-MNIST      96  [128, 32, 32]  128   32   32  [6, 4, 3]    0.0002   \n",
       "\n",
       "    space time  \n",
       "80  0.067   46  "
      ]
     },
     "execution_count": 36,
     "metadata": {},
     "output_type": "execute_result"
    }
   ],
   "source": [
    "#BEST SPACE CONFIGURATION FOR VGG19-MNIST\n",
    "df_ws[(df_ws.diff_acc>=0) & (df_ws.net==\"VGG19-MNIST\")].sort_values(by=[\"space\"], ascending=True)[:1]"
   ]
  },
  {
   "cell_type": "code",
   "execution_count": 37,
   "metadata": {
    "scrolled": true
   },
   "outputs": [
    {
     "data": {
      "text/html": [
       "<div>\n",
       "<style scoped>\n",
       "    .dataframe tbody tr th:only-of-type {\n",
       "        vertical-align: middle;\n",
       "    }\n",
       "\n",
       "    .dataframe tbody tr th {\n",
       "        vertical-align: top;\n",
       "    }\n",
       "\n",
       "    .dataframe thead th {\n",
       "        text-align: right;\n",
       "    }\n",
       "</style>\n",
       "<table border=\"1\" class=\"dataframe\">\n",
       "  <thead>\n",
       "    <tr style=\"text-align: right;\">\n",
       "      <th></th>\n",
       "      <th>net</th>\n",
       "      <th>pruning</th>\n",
       "      <th>ws</th>\n",
       "      <th>ws_0</th>\n",
       "      <th>ws_1</th>\n",
       "      <th>ws_2</th>\n",
       "      <th>unique</th>\n",
       "      <th>diff_acc</th>\n",
       "      <th>space</th>\n",
       "      <th>time</th>\n",
       "    </tr>\n",
       "  </thead>\n",
       "  <tbody>\n",
       "    <tr>\n",
       "      <th>142</th>\n",
       "      <td>VGG19-CIFAR10</td>\n",
       "      <td>99</td>\n",
       "      <td>[32, 32, 2]</td>\n",
       "      <td>32</td>\n",
       "      <td>32</td>\n",
       "      <td>2</td>\n",
       "      <td>[3, 3, 3]</td>\n",
       "      <td>0.0014</td>\n",
       "      <td>0.063</td>\n",
       "      <td>45</td>\n",
       "    </tr>\n",
       "  </tbody>\n",
       "</table>\n",
       "</div>"
      ],
      "text/plain": [
       "               net pruning           ws ws_0 ws_1 ws_2     unique  diff_acc  \\\n",
       "142  VGG19-CIFAR10      99  [32, 32, 2]   32   32    2  [3, 3, 3]    0.0014   \n",
       "\n",
       "     space time  \n",
       "142  0.063   45  "
      ]
     },
     "execution_count": 37,
     "metadata": {},
     "output_type": "execute_result"
    }
   ],
   "source": [
    "#BEST SPACE CONFIGURATION FOR VGG19-CIFAR10\n",
    "df_ws[(df_ws.diff_acc>=0) & (df_ws.net==\"VGG19-CIFAR10\")].sort_values(by=[\"space\"], ascending=True)[:1]"
   ]
  },
  {
   "cell_type": "markdown",
   "metadata": {},
   "source": [
    "## Pr-Ws with sHAM"
   ]
  },
  {
   "cell_type": "code",
   "execution_count": 38,
   "metadata": {},
   "outputs": [],
   "source": [
    "file = open(directory_res+'sparse_huffman_pruningws.txt', 'r') "
   ]
  },
  {
   "cell_type": "code",
   "execution_count": 39,
   "metadata": {},
   "outputs": [],
   "source": [
    "Lines = file.readlines() \n",
    "df = pd.DataFrame(columns =['net', 'pruning', 'ws', 'ws_0', 'ws_1', 'ws_2', 'unique', 'diff_acc', 'space', 'time'])\n",
    "for row, line in enumerate(Lines):\n",
    "    if row == 0:\n",
    "        net = line.split(\"/\")[1]\n",
    "    elif row % 7 == 0:\n",
    "        df = read_block_pr_ws_huffman(net, pruning, clusters, unique, diff_acc, space, time, df)\n",
    "        net = line.split(\"/\")[1]\n",
    "    else:\n",
    "        exec(line)\n",
    "df = read_block_pr_ws_huffman(net, pruning, clusters, unique, diff_acc, space, time, df)"
   ]
  },
  {
   "cell_type": "code",
   "execution_count": 40,
   "metadata": {},
   "outputs": [],
   "source": [
    "df_sorted = df.sort_values(by=['net', 'ws_0', 'ws_1', 'ws_2'], ascending=True)"
   ]
  },
  {
   "cell_type": "code",
   "execution_count": 41,
   "metadata": {},
   "outputs": [],
   "source": [
    "df_pr = pd.concat([df_sorted[(df_sorted.net==\"VGG19-CIFAR10\") & (df_sorted.pruning=='60')],\n",
    "                  df_sorted[(df_sorted.net==\"VGG19-MNIST\") & (df_sorted.pruning=='96')]])\n",
    "df_ws = pd.concat([(df_sorted[(df_sorted.net=='VGG19-MNIST') & (df_sorted.ws=='[128, 32, 32]')]),\n",
    "                   (df_sorted[(df_sorted.net=='VGG19-CIFAR10') & (df_sorted.ws=='[32, 32, 2]')])])"
   ]
  },
  {
   "cell_type": "code",
   "execution_count": 42,
   "metadata": {
    "scrolled": true
   },
   "outputs": [
    {
     "data": {
      "image/png": "[encoded data removed]",
      "text/plain": [
       "<Figure size 576x864 with 12 Axes>"
      ]
     },
     "metadata": {
      "needs_background": "light"
     },
     "output_type": "display_data"
    }
   ],
   "source": [
    "get_accuracy_bar_plots(df_pr, acc_lim, max_time)\n",
    "plt.savefig(\"plots_results/prws_sparse_huffman_for_ws_only_data.png\")"
   ]
  },
  {
   "cell_type": "code",
   "execution_count": 43,
   "metadata": {
    "scrolled": true
   },
   "outputs": [
    {
     "data": {
      "text/html": [
       "<div>\n",
       "<style scoped>\n",
       "    .dataframe tbody tr th:only-of-type {\n",
       "        vertical-align: middle;\n",
       "    }\n",
       "\n",
       "    .dataframe tbody tr th {\n",
       "        vertical-align: top;\n",
       "    }\n",
       "\n",
       "    .dataframe thead th {\n",
       "        text-align: right;\n",
       "    }\n",
       "</style>\n",
       "<table border=\"1\" class=\"dataframe\">\n",
       "  <thead>\n",
       "    <tr style=\"text-align: right;\">\n",
       "      <th></th>\n",
       "      <th>net</th>\n",
       "      <th>pruning</th>\n",
       "      <th>ws</th>\n",
       "      <th>ws_0</th>\n",
       "      <th>ws_1</th>\n",
       "      <th>ws_2</th>\n",
       "      <th>unique</th>\n",
       "      <th>diff_acc</th>\n",
       "      <th>space</th>\n",
       "      <th>time</th>\n",
       "    </tr>\n",
       "  </thead>\n",
       "  <tbody>\n",
       "    <tr>\n",
       "      <th>123</th>\n",
       "      <td>VGG19-MNIST</td>\n",
       "      <td>96</td>\n",
       "      <td>[128, 32, 32]</td>\n",
       "      <td>128</td>\n",
       "      <td>32</td>\n",
       "      <td>32</td>\n",
       "      <td>[6, 4, 3]</td>\n",
       "      <td>0.0002</td>\n",
       "      <td>0.024</td>\n",
       "      <td>6</td>\n",
       "    </tr>\n",
       "  </tbody>\n",
       "</table>\n",
       "</div>"
      ],
      "text/plain": [
       "             net pruning             ws ws_0 ws_1 ws_2     unique  diff_acc  \\\n",
       "123  VGG19-MNIST      96  [128, 32, 32]  128   32   32  [6, 4, 3]    0.0002   \n",
       "\n",
       "     space time  \n",
       "123  0.024    6  "
      ]
     },
     "execution_count": 43,
     "metadata": {},
     "output_type": "execute_result"
    }
   ],
   "source": [
    "#BEST PERFORMANCE CONFIGURATION FOR VGG19-MNIST\n",
    "(df_pr[(df_pr.diff_acc>=0) & (df_pr.net==\"VGG19-MNIST\")].sort_values(by=[\"diff_acc\"], ascending=False)[:1])"
   ]
  },
  {
   "cell_type": "code",
   "execution_count": 44,
   "metadata": {},
   "outputs": [
    {
     "data": {
      "text/html": [
       "<div>\n",
       "<style scoped>\n",
       "    .dataframe tbody tr th:only-of-type {\n",
       "        vertical-align: middle;\n",
       "    }\n",
       "\n",
       "    .dataframe tbody tr th {\n",
       "        vertical-align: top;\n",
       "    }\n",
       "\n",
       "    .dataframe thead th {\n",
       "        text-align: right;\n",
       "    }\n",
       "</style>\n",
       "<table border=\"1\" class=\"dataframe\">\n",
       "  <thead>\n",
       "    <tr style=\"text-align: right;\">\n",
       "      <th></th>\n",
       "      <th>net</th>\n",
       "      <th>pruning</th>\n",
       "      <th>ws</th>\n",
       "      <th>ws_0</th>\n",
       "      <th>ws_1</th>\n",
       "      <th>ws_2</th>\n",
       "      <th>unique</th>\n",
       "      <th>diff_acc</th>\n",
       "      <th>space</th>\n",
       "      <th>time</th>\n",
       "    </tr>\n",
       "  </thead>\n",
       "  <tbody>\n",
       "    <tr>\n",
       "      <th>73</th>\n",
       "      <td>VGG19-CIFAR10</td>\n",
       "      <td>60</td>\n",
       "      <td>[128, 2, 32]</td>\n",
       "      <td>128</td>\n",
       "      <td>2</td>\n",
       "      <td>32</td>\n",
       "      <td>[128, 3, 32]</td>\n",
       "      <td>0.0022</td>\n",
       "      <td>0.242</td>\n",
       "      <td>42</td>\n",
       "    </tr>\n",
       "  </tbody>\n",
       "</table>\n",
       "</div>"
      ],
      "text/plain": [
       "              net pruning            ws ws_0 ws_1 ws_2        unique  \\\n",
       "73  VGG19-CIFAR10      60  [128, 2, 32]  128    2   32  [128, 3, 32]   \n",
       "\n",
       "    diff_acc  space time  \n",
       "73    0.0022  0.242   42  "
      ]
     },
     "execution_count": 44,
     "metadata": {},
     "output_type": "execute_result"
    }
   ],
   "source": [
    "#BEST PERFORMANCE CONFIGURATION FOR VGG19-CIFAR10\n",
    "(df_pr[(df_pr.diff_acc>=0) & (df_pr.net==\"VGG19-CIFAR10\")].sort_values(by=[\"diff_acc\"], ascending=False)[:1])"
   ]
  },
  {
   "cell_type": "code",
   "execution_count": 45,
   "metadata": {},
   "outputs": [
    {
     "data": {
      "text/html": [
       "<div>\n",
       "<style scoped>\n",
       "    .dataframe tbody tr th:only-of-type {\n",
       "        vertical-align: middle;\n",
       "    }\n",
       "\n",
       "    .dataframe tbody tr th {\n",
       "        vertical-align: top;\n",
       "    }\n",
       "\n",
       "    .dataframe thead th {\n",
       "        text-align: right;\n",
       "    }\n",
       "</style>\n",
       "<table border=\"1\" class=\"dataframe\">\n",
       "  <thead>\n",
       "    <tr style=\"text-align: right;\">\n",
       "      <th></th>\n",
       "      <th>net</th>\n",
       "      <th>pruning</th>\n",
       "      <th>ws</th>\n",
       "      <th>ws_0</th>\n",
       "      <th>ws_1</th>\n",
       "      <th>ws_2</th>\n",
       "      <th>unique</th>\n",
       "      <th>diff_acc</th>\n",
       "      <th>space</th>\n",
       "      <th>time</th>\n",
       "    </tr>\n",
       "  </thead>\n",
       "  <tbody>\n",
       "    <tr>\n",
       "      <th>126</th>\n",
       "      <td>VGG19-MNIST</td>\n",
       "      <td>96</td>\n",
       "      <td>[2, 128, 2]</td>\n",
       "      <td>2</td>\n",
       "      <td>128</td>\n",
       "      <td>2</td>\n",
       "      <td>[3, 4, 3]</td>\n",
       "      <td>0.0</td>\n",
       "      <td>0.023</td>\n",
       "      <td>5</td>\n",
       "    </tr>\n",
       "  </tbody>\n",
       "</table>\n",
       "</div>"
      ],
      "text/plain": [
       "             net pruning           ws ws_0 ws_1 ws_2     unique  diff_acc  \\\n",
       "126  VGG19-MNIST      96  [2, 128, 2]    2  128    2  [3, 4, 3]       0.0   \n",
       "\n",
       "     space time  \n",
       "126  0.023    5  "
      ]
     },
     "execution_count": 45,
     "metadata": {},
     "output_type": "execute_result"
    }
   ],
   "source": [
    "#BEST SPACE CONFIGURATION FOR VGG19-MNIST\n",
    "df_pr[(df_pr.diff_acc>=0) & (df_pr.net==\"VGG19-MNIST\")].sort_values(by=[\"space\"], ascending=True)[:1]"
   ]
  },
  {
   "cell_type": "code",
   "execution_count": 46,
   "metadata": {
    "scrolled": false
   },
   "outputs": [
    {
     "data": {
      "text/html": [
       "<div>\n",
       "<style scoped>\n",
       "    .dataframe tbody tr th:only-of-type {\n",
       "        vertical-align: middle;\n",
       "    }\n",
       "\n",
       "    .dataframe tbody tr th {\n",
       "        vertical-align: top;\n",
       "    }\n",
       "\n",
       "    .dataframe thead th {\n",
       "        text-align: right;\n",
       "    }\n",
       "</style>\n",
       "<table border=\"1\" class=\"dataframe\">\n",
       "  <thead>\n",
       "    <tr style=\"text-align: right;\">\n",
       "      <th></th>\n",
       "      <th>net</th>\n",
       "      <th>pruning</th>\n",
       "      <th>ws</th>\n",
       "      <th>ws_0</th>\n",
       "      <th>ws_1</th>\n",
       "      <th>ws_2</th>\n",
       "      <th>unique</th>\n",
       "      <th>diff_acc</th>\n",
       "      <th>space</th>\n",
       "      <th>time</th>\n",
       "    </tr>\n",
       "  </thead>\n",
       "  <tbody>\n",
       "    <tr>\n",
       "      <th>81</th>\n",
       "      <td>VGG19-CIFAR10</td>\n",
       "      <td>60</td>\n",
       "      <td>[2, 2, 32]</td>\n",
       "      <td>2</td>\n",
       "      <td>2</td>\n",
       "      <td>32</td>\n",
       "      <td>[3, 3, 32]</td>\n",
       "      <td>0.0022</td>\n",
       "      <td>0.225</td>\n",
       "      <td>42</td>\n",
       "    </tr>\n",
       "  </tbody>\n",
       "</table>\n",
       "</div>"
      ],
      "text/plain": [
       "              net pruning          ws ws_0 ws_1 ws_2      unique  diff_acc  \\\n",
       "81  VGG19-CIFAR10      60  [2, 2, 32]    2    2   32  [3, 3, 32]    0.0022   \n",
       "\n",
       "    space time  \n",
       "81  0.225   42  "
      ]
     },
     "execution_count": 46,
     "metadata": {},
     "output_type": "execute_result"
    }
   ],
   "source": [
    "#BEST SPACE CONFIGURATION FOR VGG19-CIFAR10\n",
    "df_pr[(df_pr.diff_acc>=0) & (df_pr.net==\"VGG19-CIFAR10\")].sort_values(by=[\"space\"], ascending=True)[1:2]"
   ]
  },
  {
   "cell_type": "code",
   "execution_count": 47,
   "metadata": {
    "scrolled": true
   },
   "outputs": [
    {
     "data": {
      "image/png": "[encoded data removed]",
      "text/plain": [
       "<Figure size 576x864 with 6 Axes>"
      ]
     },
     "metadata": {
      "needs_background": "light"
     },
     "output_type": "display_data"
    }
   ],
   "source": [
    "get_accuracy_bar_plots_ws(df_ws, acc_lim, max_time)\n",
    "plt.savefig(\"plots_results/prws_sparse_huffman_for_pr_only_data.png\")"
   ]
  },
  {
   "cell_type": "code",
   "execution_count": 48,
   "metadata": {
    "scrolled": true
   },
   "outputs": [
    {
     "data": {
      "text/html": [
       "<div>\n",
       "<style scoped>\n",
       "    .dataframe tbody tr th:only-of-type {\n",
       "        vertical-align: middle;\n",
       "    }\n",
       "\n",
       "    .dataframe tbody tr th {\n",
       "        vertical-align: top;\n",
       "    }\n",
       "\n",
       "    .dataframe thead th {\n",
       "        text-align: right;\n",
       "    }\n",
       "</style>\n",
       "<table border=\"1\" class=\"dataframe\">\n",
       "  <thead>\n",
       "    <tr style=\"text-align: right;\">\n",
       "      <th></th>\n",
       "      <th>net</th>\n",
       "      <th>pruning</th>\n",
       "      <th>ws</th>\n",
       "      <th>ws_0</th>\n",
       "      <th>ws_1</th>\n",
       "      <th>ws_2</th>\n",
       "      <th>unique</th>\n",
       "      <th>diff_acc</th>\n",
       "      <th>space</th>\n",
       "      <th>time</th>\n",
       "    </tr>\n",
       "  </thead>\n",
       "  <tbody>\n",
       "    <tr>\n",
       "      <th>123</th>\n",
       "      <td>VGG19-MNIST</td>\n",
       "      <td>96</td>\n",
       "      <td>[128, 32, 32]</td>\n",
       "      <td>128</td>\n",
       "      <td>32</td>\n",
       "      <td>32</td>\n",
       "      <td>[6, 4, 3]</td>\n",
       "      <td>0.0002</td>\n",
       "      <td>0.024</td>\n",
       "      <td>6</td>\n",
       "    </tr>\n",
       "  </tbody>\n",
       "</table>\n",
       "</div>"
      ],
      "text/plain": [
       "             net pruning             ws ws_0 ws_1 ws_2     unique  diff_acc  \\\n",
       "123  VGG19-MNIST      96  [128, 32, 32]  128   32   32  [6, 4, 3]    0.0002   \n",
       "\n",
       "     space time  \n",
       "123  0.024    6  "
      ]
     },
     "execution_count": 48,
     "metadata": {},
     "output_type": "execute_result"
    }
   ],
   "source": [
    "#BEST PERFORMANCE CONFIGURATION FOR VGG19-MNIST\n",
    "(df_ws[(df_ws.diff_acc>=0) & (df_ws.net==\"VGG19-MNIST\")].sort_values(by=[\"diff_acc\"], ascending=False)[:1])"
   ]
  },
  {
   "cell_type": "code",
   "execution_count": 49,
   "metadata": {},
   "outputs": [
    {
     "data": {
      "text/html": [
       "<div>\n",
       "<style scoped>\n",
       "    .dataframe tbody tr th:only-of-type {\n",
       "        vertical-align: middle;\n",
       "    }\n",
       "\n",
       "    .dataframe tbody tr th {\n",
       "        vertical-align: top;\n",
       "    }\n",
       "\n",
       "    .dataframe thead th {\n",
       "        text-align: right;\n",
       "    }\n",
       "</style>\n",
       "<table border=\"1\" class=\"dataframe\">\n",
       "  <thead>\n",
       "    <tr style=\"text-align: right;\">\n",
       "      <th></th>\n",
       "      <th>net</th>\n",
       "      <th>pruning</th>\n",
       "      <th>ws</th>\n",
       "      <th>ws_0</th>\n",
       "      <th>ws_1</th>\n",
       "      <th>ws_2</th>\n",
       "      <th>unique</th>\n",
       "      <th>diff_acc</th>\n",
       "      <th>space</th>\n",
       "      <th>time</th>\n",
       "    </tr>\n",
       "  </thead>\n",
       "  <tbody>\n",
       "    <tr>\n",
       "      <th>59</th>\n",
       "      <td>VGG19-CIFAR10</td>\n",
       "      <td>50</td>\n",
       "      <td>[32, 32, 2]</td>\n",
       "      <td>32</td>\n",
       "      <td>32</td>\n",
       "      <td>2</td>\n",
       "      <td>[32, 32, 3]</td>\n",
       "      <td>0.0026</td>\n",
       "      <td>0.404</td>\n",
       "      <td>70</td>\n",
       "    </tr>\n",
       "  </tbody>\n",
       "</table>\n",
       "</div>"
      ],
      "text/plain": [
       "              net pruning           ws ws_0 ws_1 ws_2       unique  diff_acc  \\\n",
       "59  VGG19-CIFAR10      50  [32, 32, 2]   32   32    2  [32, 32, 3]    0.0026   \n",
       "\n",
       "    space time  \n",
       "59  0.404   70  "
      ]
     },
     "execution_count": 49,
     "metadata": {},
     "output_type": "execute_result"
    }
   ],
   "source": [
    "#BEST PERFORMANCE CONFIGURATION FOR VGG19-CIFAR10\n",
    "(df_ws[(df_ws.diff_acc>=0) & (df_ws.net==\"VGG19-CIFAR10\")].sort_values(by=[\"diff_acc\"], ascending=False)[:1])"
   ]
  },
  {
   "cell_type": "code",
   "execution_count": 50,
   "metadata": {},
   "outputs": [
    {
     "data": {
      "text/html": [
       "<div>\n",
       "<style scoped>\n",
       "    .dataframe tbody tr th:only-of-type {\n",
       "        vertical-align: middle;\n",
       "    }\n",
       "\n",
       "    .dataframe tbody tr th {\n",
       "        vertical-align: top;\n",
       "    }\n",
       "\n",
       "    .dataframe thead th {\n",
       "        text-align: right;\n",
       "    }\n",
       "</style>\n",
       "<table border=\"1\" class=\"dataframe\">\n",
       "  <thead>\n",
       "    <tr style=\"text-align: right;\">\n",
       "      <th></th>\n",
       "      <th>net</th>\n",
       "      <th>pruning</th>\n",
       "      <th>ws</th>\n",
       "      <th>ws_0</th>\n",
       "      <th>ws_1</th>\n",
       "      <th>ws_2</th>\n",
       "      <th>unique</th>\n",
       "      <th>diff_acc</th>\n",
       "      <th>space</th>\n",
       "      <th>time</th>\n",
       "    </tr>\n",
       "  </thead>\n",
       "  <tbody>\n",
       "    <tr>\n",
       "      <th>123</th>\n",
       "      <td>VGG19-MNIST</td>\n",
       "      <td>96</td>\n",
       "      <td>[128, 32, 32]</td>\n",
       "      <td>128</td>\n",
       "      <td>32</td>\n",
       "      <td>32</td>\n",
       "      <td>[6, 4, 3]</td>\n",
       "      <td>0.0002</td>\n",
       "      <td>0.024</td>\n",
       "      <td>6</td>\n",
       "    </tr>\n",
       "  </tbody>\n",
       "</table>\n",
       "</div>"
      ],
      "text/plain": [
       "             net pruning             ws ws_0 ws_1 ws_2     unique  diff_acc  \\\n",
       "123  VGG19-MNIST      96  [128, 32, 32]  128   32   32  [6, 4, 3]    0.0002   \n",
       "\n",
       "     space time  \n",
       "123  0.024    6  "
      ]
     },
     "execution_count": 50,
     "metadata": {},
     "output_type": "execute_result"
    }
   ],
   "source": [
    "#BEST SPACE CONFIGURATION FOR VGG19-MNIST\n",
    "df_ws[(df_ws.diff_acc>=0) & (df_ws.net==\"VGG19-MNIST\")].sort_values(by=[\"space\"], ascending=True)[:1]"
   ]
  },
  {
   "cell_type": "code",
   "execution_count": 51,
   "metadata": {
    "scrolled": true
   },
   "outputs": [
    {
     "data": {
      "text/html": [
       "<div>\n",
       "<style scoped>\n",
       "    .dataframe tbody tr th:only-of-type {\n",
       "        vertical-align: middle;\n",
       "    }\n",
       "\n",
       "    .dataframe tbody tr th {\n",
       "        vertical-align: top;\n",
       "    }\n",
       "\n",
       "    .dataframe thead th {\n",
       "        text-align: right;\n",
       "    }\n",
       "</style>\n",
       "<table border=\"1\" class=\"dataframe\">\n",
       "  <thead>\n",
       "    <tr style=\"text-align: right;\">\n",
       "      <th></th>\n",
       "      <th>net</th>\n",
       "      <th>pruning</th>\n",
       "      <th>ws</th>\n",
       "      <th>ws_0</th>\n",
       "      <th>ws_1</th>\n",
       "      <th>ws_2</th>\n",
       "      <th>unique</th>\n",
       "      <th>diff_acc</th>\n",
       "      <th>space</th>\n",
       "      <th>time</th>\n",
       "    </tr>\n",
       "  </thead>\n",
       "  <tbody>\n",
       "    <tr>\n",
       "      <th>99</th>\n",
       "      <td>VGG19-CIFAR10</td>\n",
       "      <td>99</td>\n",
       "      <td>[32, 32, 2]</td>\n",
       "      <td>32</td>\n",
       "      <td>32</td>\n",
       "      <td>2</td>\n",
       "      <td>[3, 3, 3]</td>\n",
       "      <td>0.0014</td>\n",
       "      <td>0.006</td>\n",
       "      <td>2</td>\n",
       "    </tr>\n",
       "  </tbody>\n",
       "</table>\n",
       "</div>"
      ],
      "text/plain": [
       "              net pruning           ws ws_0 ws_1 ws_2     unique  diff_acc  \\\n",
       "99  VGG19-CIFAR10      99  [32, 32, 2]   32   32    2  [3, 3, 3]    0.0014   \n",
       "\n",
       "    space time  \n",
       "99  0.006    2  "
      ]
     },
     "execution_count": 51,
     "metadata": {},
     "output_type": "execute_result"
    }
   ],
   "source": [
    "#BEST SPACE CONFIGURATION FOR VGG19-CIFAR10\n",
    "df_ws[(df_ws.diff_acc>=0) & (df_ws.net==\"VGG19-CIFAR10\")].sort_values(by=[\"space\"], ascending=True)[:1]"
   ]
  },
  {
   "cell_type": "markdown",
   "metadata": {},
   "source": [
    "## Pr-PQ with HAM"
   ]
  },
  {
   "cell_type": "code",
   "execution_count": 52,
   "metadata": {},
   "outputs": [
    {
     "data": {
      "image/png": "[encoded data removed]",
      "text/plain": [
       "<Figure size 576x864 with 12 Axes>"
      ]
     },
     "metadata": {
      "needs_background": "light"
     },
     "output_type": "display_data"
    }
   ],
   "source": [
    "file = open(directory_res+'huffman_pruningpq.txt', 'r') \n",
    "\n",
    "Lines = file.readlines() \n",
    "df = pd.DataFrame(columns =['net', 'pruning', 'ws', 'ws_0', 'ws_1', 'ws_2', 'unique', 'diff_acc', 'space', 'time'])\n",
    "for row, line in enumerate(Lines):\n",
    "    if row == 0:\n",
    "        net = line.split(\"/\")[1]\n",
    "    elif row % 7 == 0:\n",
    "        df = read_block_pr_ws_huffman(net, pruning, clusters, unique, diff_acc, space, time, df)\n",
    "        net = line.split(\"/\")[1]\n",
    "    else:\n",
    "        exec(line)\n",
    "        \n",
    "df = read_block_pr_ws_huffman(net, pruning, clusters, unique, diff_acc, space, time, df)\n",
    "\n",
    "df_sorted = df.sort_values(by=['net', 'ws_0', 'ws_1', 'ws_2'], ascending=True)\n",
    "\n",
    "df_pr = pd.concat([df_sorted[(df_sorted.net==\"VGG19-CIFAR10\") & (df_sorted.pruning=='60')],\n",
    "                   df_sorted[(df_sorted.net==\"VGG19-MNIST\") & (df_sorted.pruning=='96')]])\n",
    "\n",
    "get_accuracy_bar_plots(df_pr, acc_lim, max_time)\n",
    "plt.savefig(\"plots_results/huffman_pruningpqfixedp.png\")"
   ]
  },
  {
   "cell_type": "code",
   "execution_count": 53,
   "metadata": {
    "scrolled": true
   },
   "outputs": [
    {
     "data": {
      "text/html": [
       "<div>\n",
       "<style scoped>\n",
       "    .dataframe tbody tr th:only-of-type {\n",
       "        vertical-align: middle;\n",
       "    }\n",
       "\n",
       "    .dataframe tbody tr th {\n",
       "        vertical-align: top;\n",
       "    }\n",
       "\n",
       "    .dataframe thead th {\n",
       "        text-align: right;\n",
       "    }\n",
       "</style>\n",
       "<table border=\"1\" class=\"dataframe\">\n",
       "  <thead>\n",
       "    <tr style=\"text-align: right;\">\n",
       "      <th></th>\n",
       "      <th>net</th>\n",
       "      <th>pruning</th>\n",
       "      <th>ws</th>\n",
       "      <th>ws_0</th>\n",
       "      <th>ws_1</th>\n",
       "      <th>ws_2</th>\n",
       "      <th>unique</th>\n",
       "      <th>diff_acc</th>\n",
       "      <th>space</th>\n",
       "      <th>time</th>\n",
       "    </tr>\n",
       "  </thead>\n",
       "  <tbody>\n",
       "    <tr>\n",
       "      <th>83</th>\n",
       "      <td>VGG19-MNIST</td>\n",
       "      <td>96</td>\n",
       "      <td>[32, 128, 32]</td>\n",
       "      <td>32</td>\n",
       "      <td>128</td>\n",
       "      <td>32</td>\n",
       "      <td>[4, 8, 4]</td>\n",
       "      <td>0.0002</td>\n",
       "      <td>0.068</td>\n",
       "      <td>70</td>\n",
       "    </tr>\n",
       "  </tbody>\n",
       "</table>\n",
       "</div>"
      ],
      "text/plain": [
       "            net pruning             ws ws_0 ws_1 ws_2     unique  diff_acc  \\\n",
       "83  VGG19-MNIST      96  [32, 128, 32]   32  128   32  [4, 8, 4]    0.0002   \n",
       "\n",
       "    space time  \n",
       "83  0.068   70  "
      ]
     },
     "execution_count": 53,
     "metadata": {},
     "output_type": "execute_result"
    }
   ],
   "source": [
    "#BEST PERFORMANCE CONFIGURATION FOR VGG19-MNIST\n",
    "(df_pr[(df_pr.diff_acc>=0) & (df_pr.net==\"VGG19-MNIST\")].sort_values(by=[\"diff_acc\"], ascending=False)[:1])"
   ]
  },
  {
   "cell_type": "code",
   "execution_count": 54,
   "metadata": {},
   "outputs": [
    {
     "data": {
      "text/html": [
       "<div>\n",
       "<style scoped>\n",
       "    .dataframe tbody tr th:only-of-type {\n",
       "        vertical-align: middle;\n",
       "    }\n",
       "\n",
       "    .dataframe tbody tr th {\n",
       "        vertical-align: top;\n",
       "    }\n",
       "\n",
       "    .dataframe thead th {\n",
       "        text-align: right;\n",
       "    }\n",
       "</style>\n",
       "<table border=\"1\" class=\"dataframe\">\n",
       "  <thead>\n",
       "    <tr style=\"text-align: right;\">\n",
       "      <th></th>\n",
       "      <th>net</th>\n",
       "      <th>pruning</th>\n",
       "      <th>ws</th>\n",
       "      <th>ws_0</th>\n",
       "      <th>ws_1</th>\n",
       "      <th>ws_2</th>\n",
       "      <th>unique</th>\n",
       "      <th>diff_acc</th>\n",
       "      <th>space</th>\n",
       "      <th>time</th>\n",
       "    </tr>\n",
       "  </thead>\n",
       "  <tbody>\n",
       "    <tr>\n",
       "      <th>33</th>\n",
       "      <td>VGG19-CIFAR10</td>\n",
       "      <td>60</td>\n",
       "      <td>[2, 2, 32]</td>\n",
       "      <td>2</td>\n",
       "      <td>2</td>\n",
       "      <td>32</td>\n",
       "      <td>[3, 3, 16]</td>\n",
       "      <td>0.0019</td>\n",
       "      <td>0.088</td>\n",
       "      <td>128</td>\n",
       "    </tr>\n",
       "  </tbody>\n",
       "</table>\n",
       "</div>"
      ],
      "text/plain": [
       "              net pruning          ws ws_0 ws_1 ws_2      unique  diff_acc  \\\n",
       "33  VGG19-CIFAR10      60  [2, 2, 32]    2    2   32  [3, 3, 16]    0.0019   \n",
       "\n",
       "    space time  \n",
       "33  0.088  128  "
      ]
     },
     "execution_count": 54,
     "metadata": {},
     "output_type": "execute_result"
    }
   ],
   "source": [
    "#BEST PERFORMANCE CONFIGURATION FOR VGG19-CIFAR10\n",
    "(df_pr[(df_pr.diff_acc>=0) & (df_pr.net==\"VGG19-CIFAR10\")].sort_values(by=[\"diff_acc\"], ascending=False)[:1])"
   ]
  },
  {
   "cell_type": "code",
   "execution_count": 55,
   "metadata": {},
   "outputs": [
    {
     "data": {
      "text/html": [
       "<div>\n",
       "<style scoped>\n",
       "    .dataframe tbody tr th:only-of-type {\n",
       "        vertical-align: middle;\n",
       "    }\n",
       "\n",
       "    .dataframe tbody tr th {\n",
       "        vertical-align: top;\n",
       "    }\n",
       "\n",
       "    .dataframe thead th {\n",
       "        text-align: right;\n",
       "    }\n",
       "</style>\n",
       "<table border=\"1\" class=\"dataframe\">\n",
       "  <thead>\n",
       "    <tr style=\"text-align: right;\">\n",
       "      <th></th>\n",
       "      <th>net</th>\n",
       "      <th>pruning</th>\n",
       "      <th>ws</th>\n",
       "      <th>ws_0</th>\n",
       "      <th>ws_1</th>\n",
       "      <th>ws_2</th>\n",
       "      <th>unique</th>\n",
       "      <th>diff_acc</th>\n",
       "      <th>space</th>\n",
       "      <th>time</th>\n",
       "    </tr>\n",
       "  </thead>\n",
       "  <tbody>\n",
       "    <tr>\n",
       "      <th>78</th>\n",
       "      <td>VGG19-MNIST</td>\n",
       "      <td>96</td>\n",
       "      <td>[2, 32, 2]</td>\n",
       "      <td>2</td>\n",
       "      <td>32</td>\n",
       "      <td>2</td>\n",
       "      <td>[3, 4, 3]</td>\n",
       "      <td>-0.0</td>\n",
       "      <td>0.066</td>\n",
       "      <td>67</td>\n",
       "    </tr>\n",
       "  </tbody>\n",
       "</table>\n",
       "</div>"
      ],
      "text/plain": [
       "            net pruning          ws ws_0 ws_1 ws_2     unique  diff_acc  \\\n",
       "78  VGG19-MNIST      96  [2, 32, 2]    2   32    2  [3, 4, 3]      -0.0   \n",
       "\n",
       "    space time  \n",
       "78  0.066   67  "
      ]
     },
     "execution_count": 55,
     "metadata": {},
     "output_type": "execute_result"
    }
   ],
   "source": [
    "#BEST SPACE CONFIGURATION FOR VGG19-MNIST\n",
    "df_pr[(df_pr.diff_acc>=0) & (df_pr.net==\"VGG19-MNIST\")].sort_values(by=[\"space\"], ascending=True)[:1]"
   ]
  },
  {
   "cell_type": "code",
   "execution_count": 56,
   "metadata": {
    "scrolled": false
   },
   "outputs": [
    {
     "data": {
      "text/html": [
       "<div>\n",
       "<style scoped>\n",
       "    .dataframe tbody tr th:only-of-type {\n",
       "        vertical-align: middle;\n",
       "    }\n",
       "\n",
       "    .dataframe tbody tr th {\n",
       "        vertical-align: top;\n",
       "    }\n",
       "\n",
       "    .dataframe thead th {\n",
       "        text-align: right;\n",
       "    }\n",
       "</style>\n",
       "<table border=\"1\" class=\"dataframe\">\n",
       "  <thead>\n",
       "    <tr style=\"text-align: right;\">\n",
       "      <th></th>\n",
       "      <th>net</th>\n",
       "      <th>pruning</th>\n",
       "      <th>ws</th>\n",
       "      <th>ws_0</th>\n",
       "      <th>ws_1</th>\n",
       "      <th>ws_2</th>\n",
       "      <th>unique</th>\n",
       "      <th>diff_acc</th>\n",
       "      <th>space</th>\n",
       "      <th>time</th>\n",
       "    </tr>\n",
       "  </thead>\n",
       "  <tbody>\n",
       "    <tr>\n",
       "      <th>33</th>\n",
       "      <td>VGG19-CIFAR10</td>\n",
       "      <td>60</td>\n",
       "      <td>[2, 2, 32]</td>\n",
       "      <td>2</td>\n",
       "      <td>2</td>\n",
       "      <td>32</td>\n",
       "      <td>[3, 3, 16]</td>\n",
       "      <td>0.0019</td>\n",
       "      <td>0.088</td>\n",
       "      <td>128</td>\n",
       "    </tr>\n",
       "  </tbody>\n",
       "</table>\n",
       "</div>"
      ],
      "text/plain": [
       "              net pruning          ws ws_0 ws_1 ws_2      unique  diff_acc  \\\n",
       "33  VGG19-CIFAR10      60  [2, 2, 32]    2    2   32  [3, 3, 16]    0.0019   \n",
       "\n",
       "    space time  \n",
       "33  0.088  128  "
      ]
     },
     "execution_count": 56,
     "metadata": {},
     "output_type": "execute_result"
    }
   ],
   "source": [
    "#BEST SPACE CONFIGURATION FOR VGG19-CIFAR10\n",
    "df_pr[(df_pr.diff_acc>=0) & (df_pr.net==\"VGG19-CIFAR10\")].sort_values(by=[\"space\"], ascending=True)[1:2]"
   ]
  },
  {
   "cell_type": "code",
   "execution_count": 57,
   "metadata": {},
   "outputs": [
    {
     "data": {
      "image/png": "[encoded data removed]",
      "text/plain": [
       "<Figure size 576x864 with 6 Axes>"
      ]
     },
     "metadata": {
      "needs_background": "light"
     },
     "output_type": "display_data"
    }
   ],
   "source": [
    "df_ws = pd.concat([(df_sorted[(df_sorted.net=='VGG19-MNIST') & (df_sorted.ws=='[32, 32, 2]')]),\n",
    "                   (df_sorted[(df_sorted.net=='VGG19-CIFAR10') & (df_sorted.ws=='[32, 2, 32]')])])\n",
    "get_accuracy_bar_plots_ws(df_ws, acc_lim, max_time)\n",
    "plt.savefig(\"plots_results/huffman_pruningpqfixedpq.png\")"
   ]
  },
  {
   "cell_type": "code",
   "execution_count": 58,
   "metadata": {
    "scrolled": true
   },
   "outputs": [
    {
     "data": {
      "text/html": [
       "<div>\n",
       "<style scoped>\n",
       "    .dataframe tbody tr th:only-of-type {\n",
       "        vertical-align: middle;\n",
       "    }\n",
       "\n",
       "    .dataframe tbody tr th {\n",
       "        vertical-align: top;\n",
       "    }\n",
       "\n",
       "    .dataframe thead th {\n",
       "        text-align: right;\n",
       "    }\n",
       "</style>\n",
       "<table border=\"1\" class=\"dataframe\">\n",
       "  <thead>\n",
       "    <tr style=\"text-align: right;\">\n",
       "      <th></th>\n",
       "      <th>net</th>\n",
       "      <th>pruning</th>\n",
       "      <th>ws</th>\n",
       "      <th>ws_0</th>\n",
       "      <th>ws_1</th>\n",
       "      <th>ws_2</th>\n",
       "      <th>unique</th>\n",
       "      <th>diff_acc</th>\n",
       "      <th>space</th>\n",
       "      <th>time</th>\n",
       "    </tr>\n",
       "  </thead>\n",
       "  <tbody>\n",
       "    <tr>\n",
       "      <th>46</th>\n",
       "      <td>VGG19-MNIST</td>\n",
       "      <td>50</td>\n",
       "      <td>[32, 32, 2]</td>\n",
       "      <td>32</td>\n",
       "      <td>32</td>\n",
       "      <td>2</td>\n",
       "      <td>[18, 19, 3]</td>\n",
       "      <td>0.0004</td>\n",
       "      <td>0.187</td>\n",
       "      <td>142</td>\n",
       "    </tr>\n",
       "  </tbody>\n",
       "</table>\n",
       "</div>"
      ],
      "text/plain": [
       "            net pruning           ws ws_0 ws_1 ws_2       unique  diff_acc  \\\n",
       "46  VGG19-MNIST      50  [32, 32, 2]   32   32    2  [18, 19, 3]    0.0004   \n",
       "\n",
       "    space time  \n",
       "46  0.187  142  "
      ]
     },
     "execution_count": 58,
     "metadata": {},
     "output_type": "execute_result"
    }
   ],
   "source": [
    "#BEST PERFORMANCE CONFIGURATION FOR VGG19-MNIST\n",
    "(df_ws[(df_ws.diff_acc>=0) & (df_ws.net==\"VGG19-MNIST\")].sort_values(by=[\"diff_acc\"], ascending=False)[:1])"
   ]
  },
  {
   "cell_type": "code",
   "execution_count": 59,
   "metadata": {},
   "outputs": [
    {
     "data": {
      "text/html": [
       "<div>\n",
       "<style scoped>\n",
       "    .dataframe tbody tr th:only-of-type {\n",
       "        vertical-align: middle;\n",
       "    }\n",
       "\n",
       "    .dataframe tbody tr th {\n",
       "        vertical-align: top;\n",
       "    }\n",
       "\n",
       "    .dataframe thead th {\n",
       "        text-align: right;\n",
       "    }\n",
       "</style>\n",
       "<table border=\"1\" class=\"dataframe\">\n",
       "  <thead>\n",
       "    <tr style=\"text-align: right;\">\n",
       "      <th></th>\n",
       "      <th>net</th>\n",
       "      <th>pruning</th>\n",
       "      <th>ws</th>\n",
       "      <th>ws_0</th>\n",
       "      <th>ws_1</th>\n",
       "      <th>ws_2</th>\n",
       "      <th>unique</th>\n",
       "      <th>diff_acc</th>\n",
       "      <th>space</th>\n",
       "      <th>time</th>\n",
       "    </tr>\n",
       "  </thead>\n",
       "  <tbody>\n",
       "    <tr>\n",
       "      <th>10</th>\n",
       "      <td>VGG19-CIFAR10</td>\n",
       "      <td>98</td>\n",
       "      <td>[32, 2, 32]</td>\n",
       "      <td>32</td>\n",
       "      <td>2</td>\n",
       "      <td>32</td>\n",
       "      <td>[4, 3, 4]</td>\n",
       "      <td>0.0021</td>\n",
       "      <td>0.064</td>\n",
       "      <td>65</td>\n",
       "    </tr>\n",
       "  </tbody>\n",
       "</table>\n",
       "</div>"
      ],
      "text/plain": [
       "              net pruning           ws ws_0 ws_1 ws_2     unique  diff_acc  \\\n",
       "10  VGG19-CIFAR10      98  [32, 2, 32]   32    2   32  [4, 3, 4]    0.0021   \n",
       "\n",
       "    space time  \n",
       "10  0.064   65  "
      ]
     },
     "execution_count": 59,
     "metadata": {},
     "output_type": "execute_result"
    }
   ],
   "source": [
    "#BEST PERFORMANCE CONFIGURATION FOR VGG19-CIFAR10\n",
    "(df_ws[(df_ws.diff_acc>=0) & (df_ws.net==\"VGG19-CIFAR10\")].sort_values(by=[\"diff_acc\"], ascending=False)[:1])"
   ]
  },
  {
   "cell_type": "code",
   "execution_count": 60,
   "metadata": {},
   "outputs": [
    {
     "data": {
      "text/html": [
       "<div>\n",
       "<style scoped>\n",
       "    .dataframe tbody tr th:only-of-type {\n",
       "        vertical-align: middle;\n",
       "    }\n",
       "\n",
       "    .dataframe tbody tr th {\n",
       "        vertical-align: top;\n",
       "    }\n",
       "\n",
       "    .dataframe thead th {\n",
       "        text-align: right;\n",
       "    }\n",
       "</style>\n",
       "<table border=\"1\" class=\"dataframe\">\n",
       "  <thead>\n",
       "    <tr style=\"text-align: right;\">\n",
       "      <th></th>\n",
       "      <th>net</th>\n",
       "      <th>pruning</th>\n",
       "      <th>ws</th>\n",
       "      <th>ws_0</th>\n",
       "      <th>ws_1</th>\n",
       "      <th>ws_2</th>\n",
       "      <th>unique</th>\n",
       "      <th>diff_acc</th>\n",
       "      <th>space</th>\n",
       "      <th>time</th>\n",
       "    </tr>\n",
       "  </thead>\n",
       "  <tbody>\n",
       "    <tr>\n",
       "      <th>53</th>\n",
       "      <td>VGG19-MNIST</td>\n",
       "      <td>97</td>\n",
       "      <td>[32, 32, 2]</td>\n",
       "      <td>32</td>\n",
       "      <td>32</td>\n",
       "      <td>2</td>\n",
       "      <td>[4, 4, 3]</td>\n",
       "      <td>0.0001</td>\n",
       "      <td>0.065</td>\n",
       "      <td>60</td>\n",
       "    </tr>\n",
       "  </tbody>\n",
       "</table>\n",
       "</div>"
      ],
      "text/plain": [
       "            net pruning           ws ws_0 ws_1 ws_2     unique  diff_acc  \\\n",
       "53  VGG19-MNIST      97  [32, 32, 2]   32   32    2  [4, 4, 3]    0.0001   \n",
       "\n",
       "    space time  \n",
       "53  0.065   60  "
      ]
     },
     "execution_count": 60,
     "metadata": {},
     "output_type": "execute_result"
    }
   ],
   "source": [
    "#BEST SPACE CONFIGURATION FOR VGG19-MNIST\n",
    "df_ws[(df_ws.diff_acc>=0) & (df_ws.net==\"VGG19-MNIST\")].sort_values(by=[\"space\"], ascending=True)[:1]"
   ]
  },
  {
   "cell_type": "code",
   "execution_count": 61,
   "metadata": {
    "scrolled": true
   },
   "outputs": [
    {
     "data": {
      "text/html": [
       "<div>\n",
       "<style scoped>\n",
       "    .dataframe tbody tr th:only-of-type {\n",
       "        vertical-align: middle;\n",
       "    }\n",
       "\n",
       "    .dataframe tbody tr th {\n",
       "        vertical-align: top;\n",
       "    }\n",
       "\n",
       "    .dataframe thead th {\n",
       "        text-align: right;\n",
       "    }\n",
       "</style>\n",
       "<table border=\"1\" class=\"dataframe\">\n",
       "  <thead>\n",
       "    <tr style=\"text-align: right;\">\n",
       "      <th></th>\n",
       "      <th>net</th>\n",
       "      <th>pruning</th>\n",
       "      <th>ws</th>\n",
       "      <th>ws_0</th>\n",
       "      <th>ws_1</th>\n",
       "      <th>ws_2</th>\n",
       "      <th>unique</th>\n",
       "      <th>diff_acc</th>\n",
       "      <th>space</th>\n",
       "      <th>time</th>\n",
       "    </tr>\n",
       "  </thead>\n",
       "  <tbody>\n",
       "    <tr>\n",
       "      <th>11</th>\n",
       "      <td>VGG19-CIFAR10</td>\n",
       "      <td>99</td>\n",
       "      <td>[32, 2, 32]</td>\n",
       "      <td>32</td>\n",
       "      <td>2</td>\n",
       "      <td>32</td>\n",
       "      <td>[4, 3, 4]</td>\n",
       "      <td>0.0019</td>\n",
       "      <td>0.063</td>\n",
       "      <td>62</td>\n",
       "    </tr>\n",
       "  </tbody>\n",
       "</table>\n",
       "</div>"
      ],
      "text/plain": [
       "              net pruning           ws ws_0 ws_1 ws_2     unique  diff_acc  \\\n",
       "11  VGG19-CIFAR10      99  [32, 2, 32]   32    2   32  [4, 3, 4]    0.0019   \n",
       "\n",
       "    space time  \n",
       "11  0.063   62  "
      ]
     },
     "execution_count": 61,
     "metadata": {},
     "output_type": "execute_result"
    }
   ],
   "source": [
    "#BEST SPACE CONFIGURATION FOR VGG19-CIFAR10\n",
    "df_ws[(df_ws.diff_acc>=0) & (df_ws.net==\"VGG19-CIFAR10\")].sort_values(by=[\"space\"], ascending=True)[:1]"
   ]
  },
  {
   "cell_type": "markdown",
   "metadata": {},
   "source": [
    "## Pr-PQ with sHAM"
   ]
  },
  {
   "cell_type": "code",
   "execution_count": 62,
   "metadata": {},
   "outputs": [
    {
     "data": {
      "image/png": "[encoded data removed]",
      "text/plain": [
       "<Figure size 576x864 with 12 Axes>"
      ]
     },
     "metadata": {
      "needs_background": "light"
     },
     "output_type": "display_data"
    }
   ],
   "source": [
    "file = open(directory_res+'sparse_huffman_pruningpq.txt', 'r') \n",
    "\n",
    "Lines = file.readlines() \n",
    "df = pd.DataFrame(columns =['net', 'pruning', 'ws', 'ws_0', 'ws_1', 'ws_2', 'unique', 'diff_acc', 'space', 'time'])\n",
    "for row, line in enumerate(Lines):\n",
    "    if row == 0:\n",
    "        net = line.split(\"/\")[1]\n",
    "    elif row % 7 == 0:\n",
    "        df = read_block_pr_ws_huffman(net, pruning, clusters, unique, diff_acc, space, time, df)\n",
    "        net = line.split(\"/\")[1]\n",
    "    else:\n",
    "        exec(line)\n",
    "        \n",
    "df = read_block_pr_ws_huffman(net, pruning, clusters, unique, diff_acc, space, time, df)\n",
    "\n",
    "df_sorted = df.sort_values(by=['net', 'ws_0', 'ws_1', 'ws_2'], ascending=True)\n",
    "\n",
    "df_pr = pd.concat([df_sorted[(df_sorted.net==\"VGG19-CIFAR10\") & (df_sorted.pruning=='60')],\n",
    "                   df_sorted[(df_sorted.net==\"VGG19-MNIST\") & (df_sorted.pruning=='96')]])\n",
    "\n",
    "get_accuracy_bar_plots(df_pr, acc_lim, max_time)\n",
    "plt.savefig(\"plots_results/sparse_huffman_pruningpqfixedp.png\")"
   ]
  },
  {
   "cell_type": "code",
   "execution_count": 63,
   "metadata": {
    "scrolled": true
   },
   "outputs": [
    {
     "data": {
      "text/html": [
       "<div>\n",
       "<style scoped>\n",
       "    .dataframe tbody tr th:only-of-type {\n",
       "        vertical-align: middle;\n",
       "    }\n",
       "\n",
       "    .dataframe tbody tr th {\n",
       "        vertical-align: top;\n",
       "    }\n",
       "\n",
       "    .dataframe thead th {\n",
       "        text-align: right;\n",
       "    }\n",
       "</style>\n",
       "<table border=\"1\" class=\"dataframe\">\n",
       "  <thead>\n",
       "    <tr style=\"text-align: right;\">\n",
       "      <th></th>\n",
       "      <th>net</th>\n",
       "      <th>pruning</th>\n",
       "      <th>ws</th>\n",
       "      <th>ws_0</th>\n",
       "      <th>ws_1</th>\n",
       "      <th>ws_2</th>\n",
       "      <th>unique</th>\n",
       "      <th>diff_acc</th>\n",
       "      <th>space</th>\n",
       "      <th>time</th>\n",
       "    </tr>\n",
       "  </thead>\n",
       "  <tbody>\n",
       "    <tr>\n",
       "      <th>83</th>\n",
       "      <td>VGG19-MNIST</td>\n",
       "      <td>96</td>\n",
       "      <td>[32, 128, 32]</td>\n",
       "      <td>32</td>\n",
       "      <td>128</td>\n",
       "      <td>32</td>\n",
       "      <td>[4, 8, 4]</td>\n",
       "      <td>0.0002</td>\n",
       "      <td>0.026</td>\n",
       "      <td>11</td>\n",
       "    </tr>\n",
       "  </tbody>\n",
       "</table>\n",
       "</div>"
      ],
      "text/plain": [
       "            net pruning             ws ws_0 ws_1 ws_2     unique  diff_acc  \\\n",
       "83  VGG19-MNIST      96  [32, 128, 32]   32  128   32  [4, 8, 4]    0.0002   \n",
       "\n",
       "    space time  \n",
       "83  0.026   11  "
      ]
     },
     "execution_count": 63,
     "metadata": {},
     "output_type": "execute_result"
    }
   ],
   "source": [
    "#BEST PERFORMANCE CONFIGURATION FOR VGG19-MNIST\n",
    "(df_pr[(df_pr.diff_acc>=0) & (df_pr.net==\"VGG19-MNIST\")].sort_values(by=[\"diff_acc\"], ascending=False)[:1])"
   ]
  },
  {
   "cell_type": "code",
   "execution_count": 64,
   "metadata": {},
   "outputs": [
    {
     "data": {
      "text/html": [
       "<div>\n",
       "<style scoped>\n",
       "    .dataframe tbody tr th:only-of-type {\n",
       "        vertical-align: middle;\n",
       "    }\n",
       "\n",
       "    .dataframe tbody tr th {\n",
       "        vertical-align: top;\n",
       "    }\n",
       "\n",
       "    .dataframe thead th {\n",
       "        text-align: right;\n",
       "    }\n",
       "</style>\n",
       "<table border=\"1\" class=\"dataframe\">\n",
       "  <thead>\n",
       "    <tr style=\"text-align: right;\">\n",
       "      <th></th>\n",
       "      <th>net</th>\n",
       "      <th>pruning</th>\n",
       "      <th>ws</th>\n",
       "      <th>ws_0</th>\n",
       "      <th>ws_1</th>\n",
       "      <th>ws_2</th>\n",
       "      <th>unique</th>\n",
       "      <th>diff_acc</th>\n",
       "      <th>space</th>\n",
       "      <th>time</th>\n",
       "    </tr>\n",
       "  </thead>\n",
       "  <tbody>\n",
       "    <tr>\n",
       "      <th>33</th>\n",
       "      <td>VGG19-CIFAR10</td>\n",
       "      <td>60</td>\n",
       "      <td>[2, 2, 32]</td>\n",
       "      <td>2</td>\n",
       "      <td>2</td>\n",
       "      <td>32</td>\n",
       "      <td>[3, 3, 16]</td>\n",
       "      <td>0.0019</td>\n",
       "      <td>0.225</td>\n",
       "      <td>70</td>\n",
       "    </tr>\n",
       "  </tbody>\n",
       "</table>\n",
       "</div>"
      ],
      "text/plain": [
       "              net pruning          ws ws_0 ws_1 ws_2      unique  diff_acc  \\\n",
       "33  VGG19-CIFAR10      60  [2, 2, 32]    2    2   32  [3, 3, 16]    0.0019   \n",
       "\n",
       "    space time  \n",
       "33  0.225   70  "
      ]
     },
     "execution_count": 64,
     "metadata": {},
     "output_type": "execute_result"
    }
   ],
   "source": [
    "#BEST PERFORMANCE CONFIGURATION FOR VGG19-CIFAR10\n",
    "(df_pr[(df_pr.diff_acc>=0) & (df_pr.net==\"VGG19-CIFAR10\")].sort_values(by=[\"diff_acc\"], ascending=False)[:1])"
   ]
  },
  {
   "cell_type": "code",
   "execution_count": 65,
   "metadata": {},
   "outputs": [
    {
     "data": {
      "text/html": [
       "<div>\n",
       "<style scoped>\n",
       "    .dataframe tbody tr th:only-of-type {\n",
       "        vertical-align: middle;\n",
       "    }\n",
       "\n",
       "    .dataframe tbody tr th {\n",
       "        vertical-align: top;\n",
       "    }\n",
       "\n",
       "    .dataframe thead th {\n",
       "        text-align: right;\n",
       "    }\n",
       "</style>\n",
       "<table border=\"1\" class=\"dataframe\">\n",
       "  <thead>\n",
       "    <tr style=\"text-align: right;\">\n",
       "      <th></th>\n",
       "      <th>net</th>\n",
       "      <th>pruning</th>\n",
       "      <th>ws</th>\n",
       "      <th>ws_0</th>\n",
       "      <th>ws_1</th>\n",
       "      <th>ws_2</th>\n",
       "      <th>unique</th>\n",
       "      <th>diff_acc</th>\n",
       "      <th>space</th>\n",
       "      <th>time</th>\n",
       "    </tr>\n",
       "  </thead>\n",
       "  <tbody>\n",
       "    <tr>\n",
       "      <th>78</th>\n",
       "      <td>VGG19-MNIST</td>\n",
       "      <td>96</td>\n",
       "      <td>[2, 32, 2]</td>\n",
       "      <td>2</td>\n",
       "      <td>32</td>\n",
       "      <td>2</td>\n",
       "      <td>[3, 4, 3]</td>\n",
       "      <td>-0.0</td>\n",
       "      <td>0.023</td>\n",
       "      <td>11</td>\n",
       "    </tr>\n",
       "  </tbody>\n",
       "</table>\n",
       "</div>"
      ],
      "text/plain": [
       "            net pruning          ws ws_0 ws_1 ws_2     unique  diff_acc  \\\n",
       "78  VGG19-MNIST      96  [2, 32, 2]    2   32    2  [3, 4, 3]      -0.0   \n",
       "\n",
       "    space time  \n",
       "78  0.023   11  "
      ]
     },
     "execution_count": 65,
     "metadata": {},
     "output_type": "execute_result"
    }
   ],
   "source": [
    "#BEST SPACE CONFIGURATION FOR VGG19-MNIST\n",
    "df_pr[(df_pr.diff_acc>=0) & (df_pr.net==\"VGG19-MNIST\")].sort_values(by=[\"space\"], ascending=True)[:1]"
   ]
  },
  {
   "cell_type": "code",
   "execution_count": 66,
   "metadata": {
    "scrolled": false
   },
   "outputs": [
    {
     "data": {
      "text/html": [
       "<div>\n",
       "<style scoped>\n",
       "    .dataframe tbody tr th:only-of-type {\n",
       "        vertical-align: middle;\n",
       "    }\n",
       "\n",
       "    .dataframe tbody tr th {\n",
       "        vertical-align: top;\n",
       "    }\n",
       "\n",
       "    .dataframe thead th {\n",
       "        text-align: right;\n",
       "    }\n",
       "</style>\n",
       "<table border=\"1\" class=\"dataframe\">\n",
       "  <thead>\n",
       "    <tr style=\"text-align: right;\">\n",
       "      <th></th>\n",
       "      <th>net</th>\n",
       "      <th>pruning</th>\n",
       "      <th>ws</th>\n",
       "      <th>ws_0</th>\n",
       "      <th>ws_1</th>\n",
       "      <th>ws_2</th>\n",
       "      <th>unique</th>\n",
       "      <th>diff_acc</th>\n",
       "      <th>space</th>\n",
       "      <th>time</th>\n",
       "    </tr>\n",
       "  </thead>\n",
       "  <tbody>\n",
       "    <tr>\n",
       "      <th>33</th>\n",
       "      <td>VGG19-CIFAR10</td>\n",
       "      <td>60</td>\n",
       "      <td>[2, 2, 32]</td>\n",
       "      <td>2</td>\n",
       "      <td>2</td>\n",
       "      <td>32</td>\n",
       "      <td>[3, 3, 16]</td>\n",
       "      <td>0.0019</td>\n",
       "      <td>0.225</td>\n",
       "      <td>70</td>\n",
       "    </tr>\n",
       "  </tbody>\n",
       "</table>\n",
       "</div>"
      ],
      "text/plain": [
       "              net pruning          ws ws_0 ws_1 ws_2      unique  diff_acc  \\\n",
       "33  VGG19-CIFAR10      60  [2, 2, 32]    2    2   32  [3, 3, 16]    0.0019   \n",
       "\n",
       "    space time  \n",
       "33  0.225   70  "
      ]
     },
     "execution_count": 66,
     "metadata": {},
     "output_type": "execute_result"
    }
   ],
   "source": [
    "#BEST SPACE CONFIGURATION FOR VGG19-CIFAR10\n",
    "df_pr[(df_pr.diff_acc>=0) & (df_pr.net==\"VGG19-CIFAR10\")].sort_values(by=[\"space\"], ascending=True)[1:2]"
   ]
  },
  {
   "cell_type": "code",
   "execution_count": 67,
   "metadata": {},
   "outputs": [
    {
     "data": {
      "image/png": "[encoded data removed]",
      "text/plain": [
       "<Figure size 576x864 with 6 Axes>"
      ]
     },
     "metadata": {
      "needs_background": "light"
     },
     "output_type": "display_data"
    }
   ],
   "source": [
    "df_sorted = df.sort_values(by=['net', 'ws_0', 'ws_1', 'ws_2'], ascending=True)\n",
    "\n",
    "df_ws = pd.concat([(df_sorted[(df_sorted.net=='VGG19-MNIST') & (df_sorted.ws=='[32, 32, 2]')]),\n",
    "                   (df_sorted[(df_sorted.net=='VGG19-CIFAR10') & (df_sorted.ws=='[32, 2, 32]')])])\n",
    "\n",
    "get_accuracy_bar_plots_ws(df_ws, acc_lim, max_time)\n",
    "plt.savefig(\"plots_results/sparse_huffman_pruningpqfixedpq.png\")"
   ]
  },
  {
   "cell_type": "code",
   "execution_count": 68,
   "metadata": {
    "scrolled": true
   },
   "outputs": [
    {
     "data": {
      "text/html": [
       "<div>\n",
       "<style scoped>\n",
       "    .dataframe tbody tr th:only-of-type {\n",
       "        vertical-align: middle;\n",
       "    }\n",
       "\n",
       "    .dataframe tbody tr th {\n",
       "        vertical-align: top;\n",
       "    }\n",
       "\n",
       "    .dataframe thead th {\n",
       "        text-align: right;\n",
       "    }\n",
       "</style>\n",
       "<table border=\"1\" class=\"dataframe\">\n",
       "  <thead>\n",
       "    <tr style=\"text-align: right;\">\n",
       "      <th></th>\n",
       "      <th>net</th>\n",
       "      <th>pruning</th>\n",
       "      <th>ws</th>\n",
       "      <th>ws_0</th>\n",
       "      <th>ws_1</th>\n",
       "      <th>ws_2</th>\n",
       "      <th>unique</th>\n",
       "      <th>diff_acc</th>\n",
       "      <th>space</th>\n",
       "      <th>time</th>\n",
       "    </tr>\n",
       "  </thead>\n",
       "  <tbody>\n",
       "    <tr>\n",
       "      <th>46</th>\n",
       "      <td>VGG19-MNIST</td>\n",
       "      <td>50</td>\n",
       "      <td>[32, 32, 2]</td>\n",
       "      <td>32</td>\n",
       "      <td>32</td>\n",
       "      <td>2</td>\n",
       "      <td>[18, 19, 3]</td>\n",
       "      <td>0.0004</td>\n",
       "      <td>0.374</td>\n",
       "      <td>87</td>\n",
       "    </tr>\n",
       "  </tbody>\n",
       "</table>\n",
       "</div>"
      ],
      "text/plain": [
       "            net pruning           ws ws_0 ws_1 ws_2       unique  diff_acc  \\\n",
       "46  VGG19-MNIST      50  [32, 32, 2]   32   32    2  [18, 19, 3]    0.0004   \n",
       "\n",
       "    space time  \n",
       "46  0.374   87  "
      ]
     },
     "execution_count": 68,
     "metadata": {},
     "output_type": "execute_result"
    }
   ],
   "source": [
    "#BEST PERFORMANCE CONFIGURATION FOR VGG19-MNIST\n",
    "(df_ws[(df_ws.diff_acc>=0) & (df_ws.net==\"VGG19-MNIST\")].sort_values(by=[\"diff_acc\"], ascending=False)[:1])"
   ]
  },
  {
   "cell_type": "code",
   "execution_count": 69,
   "metadata": {},
   "outputs": [
    {
     "data": {
      "text/html": [
       "<div>\n",
       "<style scoped>\n",
       "    .dataframe tbody tr th:only-of-type {\n",
       "        vertical-align: middle;\n",
       "    }\n",
       "\n",
       "    .dataframe tbody tr th {\n",
       "        vertical-align: top;\n",
       "    }\n",
       "\n",
       "    .dataframe thead th {\n",
       "        text-align: right;\n",
       "    }\n",
       "</style>\n",
       "<table border=\"1\" class=\"dataframe\">\n",
       "  <thead>\n",
       "    <tr style=\"text-align: right;\">\n",
       "      <th></th>\n",
       "      <th>net</th>\n",
       "      <th>pruning</th>\n",
       "      <th>ws</th>\n",
       "      <th>ws_0</th>\n",
       "      <th>ws_1</th>\n",
       "      <th>ws_2</th>\n",
       "      <th>unique</th>\n",
       "      <th>diff_acc</th>\n",
       "      <th>space</th>\n",
       "      <th>time</th>\n",
       "    </tr>\n",
       "  </thead>\n",
       "  <tbody>\n",
       "    <tr>\n",
       "      <th>10</th>\n",
       "      <td>VGG19-CIFAR10</td>\n",
       "      <td>98</td>\n",
       "      <td>[32, 2, 32]</td>\n",
       "      <td>32</td>\n",
       "      <td>2</td>\n",
       "      <td>32</td>\n",
       "      <td>[4, 3, 4]</td>\n",
       "      <td>0.0021</td>\n",
       "      <td>0.012</td>\n",
       "      <td>6</td>\n",
       "    </tr>\n",
       "  </tbody>\n",
       "</table>\n",
       "</div>"
      ],
      "text/plain": [
       "              net pruning           ws ws_0 ws_1 ws_2     unique  diff_acc  \\\n",
       "10  VGG19-CIFAR10      98  [32, 2, 32]   32    2   32  [4, 3, 4]    0.0021   \n",
       "\n",
       "    space time  \n",
       "10  0.012    6  "
      ]
     },
     "execution_count": 69,
     "metadata": {},
     "output_type": "execute_result"
    }
   ],
   "source": [
    "#BEST PERFORMANCE CONFIGURATION FOR VGG19-CIFAR10\n",
    "(df_ws[(df_ws.diff_acc>=0) & (df_ws.net==\"VGG19-CIFAR10\")].sort_values(by=[\"diff_acc\"], ascending=False)[:1])"
   ]
  },
  {
   "cell_type": "code",
   "execution_count": 70,
   "metadata": {},
   "outputs": [
    {
     "data": {
      "text/html": [
       "<div>\n",
       "<style scoped>\n",
       "    .dataframe tbody tr th:only-of-type {\n",
       "        vertical-align: middle;\n",
       "    }\n",
       "\n",
       "    .dataframe tbody tr th {\n",
       "        vertical-align: top;\n",
       "    }\n",
       "\n",
       "    .dataframe thead th {\n",
       "        text-align: right;\n",
       "    }\n",
       "</style>\n",
       "<table border=\"1\" class=\"dataframe\">\n",
       "  <thead>\n",
       "    <tr style=\"text-align: right;\">\n",
       "      <th></th>\n",
       "      <th>net</th>\n",
       "      <th>pruning</th>\n",
       "      <th>ws</th>\n",
       "      <th>ws_0</th>\n",
       "      <th>ws_1</th>\n",
       "      <th>ws_2</th>\n",
       "      <th>unique</th>\n",
       "      <th>diff_acc</th>\n",
       "      <th>space</th>\n",
       "      <th>time</th>\n",
       "    </tr>\n",
       "  </thead>\n",
       "  <tbody>\n",
       "    <tr>\n",
       "      <th>53</th>\n",
       "      <td>VGG19-MNIST</td>\n",
       "      <td>97</td>\n",
       "      <td>[32, 32, 2]</td>\n",
       "      <td>32</td>\n",
       "      <td>32</td>\n",
       "      <td>2</td>\n",
       "      <td>[4, 4, 3]</td>\n",
       "      <td>0.0001</td>\n",
       "      <td>0.018</td>\n",
       "      <td>10</td>\n",
       "    </tr>\n",
       "  </tbody>\n",
       "</table>\n",
       "</div>"
      ],
      "text/plain": [
       "            net pruning           ws ws_0 ws_1 ws_2     unique  diff_acc  \\\n",
       "53  VGG19-MNIST      97  [32, 32, 2]   32   32    2  [4, 4, 3]    0.0001   \n",
       "\n",
       "    space time  \n",
       "53  0.018   10  "
      ]
     },
     "execution_count": 70,
     "metadata": {},
     "output_type": "execute_result"
    }
   ],
   "source": [
    "#BEST SPACE CONFIGURATION FOR VGG19-MNIST\n",
    "df_ws[(df_ws.diff_acc>=0) & (df_ws.net==\"VGG19-MNIST\")].sort_values(by=[\"space\"], ascending=True)[:1]"
   ]
  },
  {
   "cell_type": "code",
   "execution_count": 71,
   "metadata": {
    "scrolled": true
   },
   "outputs": [
    {
     "data": {
      "text/html": [
       "<div>\n",
       "<style scoped>\n",
       "    .dataframe tbody tr th:only-of-type {\n",
       "        vertical-align: middle;\n",
       "    }\n",
       "\n",
       "    .dataframe tbody tr th {\n",
       "        vertical-align: top;\n",
       "    }\n",
       "\n",
       "    .dataframe thead th {\n",
       "        text-align: right;\n",
       "    }\n",
       "</style>\n",
       "<table border=\"1\" class=\"dataframe\">\n",
       "  <thead>\n",
       "    <tr style=\"text-align: right;\">\n",
       "      <th></th>\n",
       "      <th>net</th>\n",
       "      <th>pruning</th>\n",
       "      <th>ws</th>\n",
       "      <th>ws_0</th>\n",
       "      <th>ws_1</th>\n",
       "      <th>ws_2</th>\n",
       "      <th>unique</th>\n",
       "      <th>diff_acc</th>\n",
       "      <th>space</th>\n",
       "      <th>time</th>\n",
       "    </tr>\n",
       "  </thead>\n",
       "  <tbody>\n",
       "    <tr>\n",
       "      <th>11</th>\n",
       "      <td>VGG19-CIFAR10</td>\n",
       "      <td>99</td>\n",
       "      <td>[32, 2, 32]</td>\n",
       "      <td>32</td>\n",
       "      <td>2</td>\n",
       "      <td>32</td>\n",
       "      <td>[4, 3, 4]</td>\n",
       "      <td>0.0019</td>\n",
       "      <td>0.006</td>\n",
       "      <td>3</td>\n",
       "    </tr>\n",
       "  </tbody>\n",
       "</table>\n",
       "</div>"
      ],
      "text/plain": [
       "              net pruning           ws ws_0 ws_1 ws_2     unique  diff_acc  \\\n",
       "11  VGG19-CIFAR10      99  [32, 2, 32]   32    2   32  [4, 3, 4]    0.0019   \n",
       "\n",
       "    space time  \n",
       "11  0.006    3  "
      ]
     },
     "execution_count": 71,
     "metadata": {},
     "output_type": "execute_result"
    }
   ],
   "source": [
    "#BEST SPACE CONFIGURATION FOR VGG19-CIFAR10\n",
    "df_ws[(df_ws.diff_acc>=0) & (df_ws.net==\"VGG19-CIFAR10\")].sort_values(by=[\"space\"], ascending=True)[:1]"
   ]
  },
  {
   "cell_type": "markdown",
   "metadata": {},
   "source": [
    "# DeepDTA\n",
    "## WS with HAM"
   ]
  },
  {
   "cell_type": "code",
   "execution_count": 72,
   "metadata": {},
   "outputs": [],
   "source": [
    "def convert_ws_in_cols(ws):\n",
    "    ws_0 = []\n",
    "    ws_1 = []\n",
    "    ws_2 = []\n",
    "    ws_3 = []\n",
    "    for ws_e in ws:\n",
    "        splitted = list(ws_e[1:-1].split(\", \"))\n",
    "        ws_0.append(int(splitted[0]))\n",
    "        ws_1.append(int(splitted[1]))\n",
    "        ws_2.append(int(splitted[2]))\n",
    "        ws_3.append(int(splitted[3]))\n",
    "        \n",
    "        \n",
    "    return ws_0, ws_1, ws_2, ws_3"
   ]
  },
  {
   "cell_type": "code",
   "execution_count": 73,
   "metadata": {},
   "outputs": [],
   "source": [
    "def read_block_ws_huffman(net, clusters, unique, diff_acc, space, time, df):\n",
    "\n",
    "    net = [net]*len(clusters)\n",
    "    ws_0, ws_1, ws_2, ws_3 = convert_ws_in_cols(clusters)\n",
    "    new_df_to_append = pd.DataFrame(list(zip(net, clusters, ws_0, ws_1, ws_2, ws_3, unique, diff_acc, space, time)), columns =['net', 'ws', 'ws_0', 'ws_1', 'ws_2', 'ws_3', 'unique', 'diff_acc', 'space', 'time'])\n",
    "    df = pd.concat([df, new_df_to_append], ignore_index=True)\n",
    "    return df"
   ]
  },
  {
   "cell_type": "code",
   "execution_count": 74,
   "metadata": {},
   "outputs": [],
   "source": [
    "file = open(directory_res+'huffman_ws_deep.txt', 'r') "
   ]
  },
  {
   "cell_type": "code",
   "execution_count": 75,
   "metadata": {},
   "outputs": [
    {
     "name": "stdout",
     "output_type": "stream",
     "text": [
      "DeepDTA\n"
     ]
    }
   ],
   "source": [
    "Lines = file.readlines() \n",
    "df = pd.DataFrame(columns =['net', 'ws', 'ws_0', 'ws_1', 'ws_2', 'ws_3', 'unique', 'diff_acc', 'space', 'time'])\n",
    "for row, line in enumerate(Lines):\n",
    "    if row == 0:\n",
    "        print(line.split(\"/\")[1])\n",
    "        net = line.split(\"/\")[1]\n",
    "        net += \"-\"+line.split(\"/\")[2]\n",
    "    elif row % 6 == 0:\n",
    "        df = read_block_ws_huffman(net, clusters, unique, diff_acc, space, time, df)\n",
    "        net = line.split(\"/\")[1]\n",
    "        net += \"-\"+line.split(\"/\")[2]\n",
    "    else:\n",
    "        exec(line)\n",
    "df = read_block_ws_huffman(net, clusters, unique, diff_acc, space, time, df)"
   ]
  },
  {
   "cell_type": "code",
   "execution_count": 76,
   "metadata": {},
   "outputs": [],
   "source": [
    "df_sorted = df.sort_values(by=['net', 'ws_0', 'ws_1', 'ws_2', 'ws_3'], ascending=True)\n",
    "df_sorted[\"diff_acc\"] = -1 * df_sorted[\"diff_acc\"]\n",
    "df_sorted = df_sorted[df_sorted.ws_3 != 128]"
   ]
  },
  {
   "cell_type": "code",
   "execution_count": 77,
   "metadata": {},
   "outputs": [],
   "source": [
    "max_time = df_sorted.max()[9]"
   ]
  },
  {
   "cell_type": "code",
   "execution_count": 78,
   "metadata": {},
   "outputs": [],
   "source": [
    "def get_accuracy_bar_plots(df, lim_acc, max_time, legend=False):\n",
    "    ws_0_values = (2, 32, 128)\n",
    "    metrics = ('diff_acc', 'time', 'space')\n",
    "    metrics_to_print = (r'$\\Delta_{perf}$', 'time', r'$\\psi$')\n",
    "\n",
    "    nets = ('DeepDTA-KIBA', 'DeepDTA-DAVIS')\n",
    "\n",
    "    rows = len(metrics)\n",
    "    cols = len(ws_0_values)\n",
    "\n",
    "    fig, axes = plt.subplots(rows, cols, figsize=(11, 13)) #2020\n",
    "    fig.subplots_adjust(hspace=0.05, wspace=0)\n",
    "\n",
    "\n",
    "\n",
    "    for r, metric in enumerate(metrics):\n",
    "        for c, ws_0 in enumerate(ws_0_values):\n",
    "            extract = df[(df.ws_0==ws_0)].loc[:, ['ws', metric, 'net']]\n",
    "            mask = (extract.net == 'DeepDTA-KIBA')\n",
    "            axes[r, c].bar(extract[mask].ws, extract[mask][metric], color='#7a5195')\n",
    "            mask = (extract.net == 'DeepDTA-DAVIS')\n",
    "            axes[r, c].bar(extract[mask].ws+\"1\", extract[mask][metric], color='#ef5675')\n",
    "\n",
    "    if legend:\n",
    "        axes[2,1].legend(nets)\n",
    "        \n",
    "    for r in range(rows):\n",
    "        for c in range(cols):\n",
    "            plt.sca(axes[r][c])\n",
    "            \n",
    "            if r == 0:\n",
    "                plt.ylim(lim_acc)\n",
    "                plt.axhline(0, ls='-')\n",
    "                \n",
    "            if r == 1:\n",
    "                plt.ylim(1, max_time)\n",
    "                \n",
    "            if r == 2:\n",
    "                plt.ylim(0.,1.)\n",
    "                plt.axhline(1, ls='-')\n",
    "            \n",
    "            if r == rows - 1:\n",
    "                plt.xticks(range(4), (2, 32, 128, 1024))\n",
    "                plt.tick_params(axis='x', which='major')\n",
    "                plt.xticks([])\n",
    "                plt.xlabel(ws_0_values[c])\n",
    "            else:\n",
    "                plt.xticks([])\n",
    "            \n",
    "            if c > 0:\n",
    "                plt.yticks([])\n",
    "              \n",
    "            if c == cols - 1:\n",
    "                axes[r][c].yaxis.set_label_position('right')\n",
    "                plt.ylabel(metrics_to_print[r], fontsize=22)"
   ]
  },
  {
   "cell_type": "code",
   "execution_count": 79,
   "metadata": {},
   "outputs": [],
   "source": [
    "acc_lim = (-0.03, 0.091)"
   ]
  },
  {
   "cell_type": "code",
   "execution_count": 80,
   "metadata": {
    "scrolled": true
   },
   "outputs": [
    {
     "data": {
      "image/png": "[encoded data removed]",
      "text/plain": [
       "<Figure size 792x936 with 9 Axes>"
      ]
     },
     "metadata": {
      "needs_background": "light"
     },
     "output_type": "display_data"
    }
   ],
   "source": [
    "get_accuracy_bar_plots(df_sorted, acc_lim, max_time, True)\n",
    "plt.savefig(\"plots_results/ws_huffman_deep.png\")"
   ]
  },
  {
   "cell_type": "code",
   "execution_count": 81,
   "metadata": {
    "scrolled": true
   },
   "outputs": [
    {
     "data": {
      "text/html": [
       "<div>\n",
       "<style scoped>\n",
       "    .dataframe tbody tr th:only-of-type {\n",
       "        vertical-align: middle;\n",
       "    }\n",
       "\n",
       "    .dataframe tbody tr th {\n",
       "        vertical-align: top;\n",
       "    }\n",
       "\n",
       "    .dataframe thead th {\n",
       "        text-align: right;\n",
       "    }\n",
       "</style>\n",
       "<table border=\"1\" class=\"dataframe\">\n",
       "  <thead>\n",
       "    <tr style=\"text-align: right;\">\n",
       "      <th></th>\n",
       "      <th>net</th>\n",
       "      <th>ws</th>\n",
       "      <th>ws_0</th>\n",
       "      <th>ws_1</th>\n",
       "      <th>ws_2</th>\n",
       "      <th>ws_3</th>\n",
       "      <th>unique</th>\n",
       "      <th>diff_acc</th>\n",
       "      <th>space</th>\n",
       "      <th>time</th>\n",
       "    </tr>\n",
       "  </thead>\n",
       "  <tbody>\n",
       "    <tr>\n",
       "      <th>85</th>\n",
       "      <td>DeepDTA-KIBA</td>\n",
       "      <td>[128, 128, 32, 2]</td>\n",
       "      <td>128</td>\n",
       "      <td>128</td>\n",
       "      <td>32</td>\n",
       "      <td>2</td>\n",
       "      <td>[128, 128, 32, 2]</td>\n",
       "      <td>0.00771</td>\n",
       "      <td>0.39</td>\n",
       "      <td>117</td>\n",
       "    </tr>\n",
       "  </tbody>\n",
       "</table>\n",
       "</div>"
      ],
      "text/plain": [
       "             net                 ws ws_0 ws_1 ws_2 ws_3             unique  \\\n",
       "85  DeepDTA-KIBA  [128, 128, 32, 2]  128  128   32    2  [128, 128, 32, 2]   \n",
       "\n",
       "    diff_acc  space time  \n",
       "85   0.00771   0.39  117  "
      ]
     },
     "execution_count": 81,
     "metadata": {},
     "output_type": "execute_result"
    }
   ],
   "source": [
    "#BEST PERFORMANCE CONFIGURATION FOR DeepDTA-KIBA\n",
    "(df_sorted[(df_sorted.diff_acc>=0) & (df_sorted.net==\"DeepDTA-KIBA\")].sort_values(by=[\"diff_acc\"], ascending=False)[:1])"
   ]
  },
  {
   "cell_type": "code",
   "execution_count": 82,
   "metadata": {},
   "outputs": [
    {
     "data": {
      "text/html": [
       "<div>\n",
       "<style scoped>\n",
       "    .dataframe tbody tr th:only-of-type {\n",
       "        vertical-align: middle;\n",
       "    }\n",
       "\n",
       "    .dataframe tbody tr th {\n",
       "        vertical-align: top;\n",
       "    }\n",
       "\n",
       "    .dataframe thead th {\n",
       "        text-align: right;\n",
       "    }\n",
       "</style>\n",
       "<table border=\"1\" class=\"dataframe\">\n",
       "  <thead>\n",
       "    <tr style=\"text-align: right;\">\n",
       "      <th></th>\n",
       "      <th>net</th>\n",
       "      <th>ws</th>\n",
       "      <th>ws_0</th>\n",
       "      <th>ws_1</th>\n",
       "      <th>ws_2</th>\n",
       "      <th>ws_3</th>\n",
       "      <th>unique</th>\n",
       "      <th>diff_acc</th>\n",
       "      <th>space</th>\n",
       "      <th>time</th>\n",
       "    </tr>\n",
       "  </thead>\n",
       "  <tbody>\n",
       "    <tr>\n",
       "      <th>10</th>\n",
       "      <td>DeepDTA-DAVIS</td>\n",
       "      <td>[128, 2, 128, 2]</td>\n",
       "      <td>128</td>\n",
       "      <td>2</td>\n",
       "      <td>128</td>\n",
       "      <td>2</td>\n",
       "      <td>[128, 2, 128, 2]</td>\n",
       "      <td>0.09033</td>\n",
       "      <td>0.213</td>\n",
       "      <td>150</td>\n",
       "    </tr>\n",
       "  </tbody>\n",
       "</table>\n",
       "</div>"
      ],
      "text/plain": [
       "              net                ws ws_0 ws_1 ws_2 ws_3            unique  \\\n",
       "10  DeepDTA-DAVIS  [128, 2, 128, 2]  128    2  128    2  [128, 2, 128, 2]   \n",
       "\n",
       "    diff_acc  space time  \n",
       "10   0.09033  0.213  150  "
      ]
     },
     "execution_count": 82,
     "metadata": {},
     "output_type": "execute_result"
    }
   ],
   "source": [
    "#BEST PERFORMANCE CONFIGURATION FOR DeepDTA-DAVIS\n",
    "(df_sorted[(df_sorted.diff_acc>=0) & (df_sorted.net==\"DeepDTA-DAVIS\")].sort_values(by=[\"diff_acc\"], ascending=False)[:1])"
   ]
  },
  {
   "cell_type": "code",
   "execution_count": 83,
   "metadata": {},
   "outputs": [
    {
     "data": {
      "text/html": [
       "<div>\n",
       "<style scoped>\n",
       "    .dataframe tbody tr th:only-of-type {\n",
       "        vertical-align: middle;\n",
       "    }\n",
       "\n",
       "    .dataframe tbody tr th {\n",
       "        vertical-align: top;\n",
       "    }\n",
       "\n",
       "    .dataframe thead th {\n",
       "        text-align: right;\n",
       "    }\n",
       "</style>\n",
       "<table border=\"1\" class=\"dataframe\">\n",
       "  <thead>\n",
       "    <tr style=\"text-align: right;\">\n",
       "      <th></th>\n",
       "      <th>net</th>\n",
       "      <th>ws</th>\n",
       "      <th>ws_0</th>\n",
       "      <th>ws_1</th>\n",
       "      <th>ws_2</th>\n",
       "      <th>ws_3</th>\n",
       "      <th>unique</th>\n",
       "      <th>diff_acc</th>\n",
       "      <th>space</th>\n",
       "      <th>time</th>\n",
       "    </tr>\n",
       "  </thead>\n",
       "  <tbody>\n",
       "    <tr>\n",
       "      <th>131</th>\n",
       "      <td>DeepDTA-KIBA</td>\n",
       "      <td>[32, 32, 2, 2]</td>\n",
       "      <td>32</td>\n",
       "      <td>32</td>\n",
       "      <td>2</td>\n",
       "      <td>2</td>\n",
       "      <td>[32, 32, 2, 2]</td>\n",
       "      <td>0.00259</td>\n",
       "      <td>0.228</td>\n",
       "      <td>110</td>\n",
       "    </tr>\n",
       "  </tbody>\n",
       "</table>\n",
       "</div>"
      ],
      "text/plain": [
       "              net              ws ws_0 ws_1 ws_2 ws_3          unique  \\\n",
       "131  DeepDTA-KIBA  [32, 32, 2, 2]   32   32    2    2  [32, 32, 2, 2]   \n",
       "\n",
       "     diff_acc  space time  \n",
       "131   0.00259  0.228  110  "
      ]
     },
     "execution_count": 83,
     "metadata": {},
     "output_type": "execute_result"
    }
   ],
   "source": [
    "#BEST SPACE CONFIGURATION FOR DeepDTA-KIBA\n",
    "df_sorted[(df_sorted.diff_acc>=0) & (df_sorted.net==\"DeepDTA-KIBA\")].sort_values(by=[\"space\"], ascending=True)[:1]"
   ]
  },
  {
   "cell_type": "code",
   "execution_count": 84,
   "metadata": {},
   "outputs": [
    {
     "data": {
      "text/html": [
       "<div>\n",
       "<style scoped>\n",
       "    .dataframe tbody tr th:only-of-type {\n",
       "        vertical-align: middle;\n",
       "    }\n",
       "\n",
       "    .dataframe tbody tr th {\n",
       "        vertical-align: top;\n",
       "    }\n",
       "\n",
       "    .dataframe thead th {\n",
       "        text-align: right;\n",
       "    }\n",
       "</style>\n",
       "<table border=\"1\" class=\"dataframe\">\n",
       "  <thead>\n",
       "    <tr style=\"text-align: right;\">\n",
       "      <th></th>\n",
       "      <th>net</th>\n",
       "      <th>ws</th>\n",
       "      <th>ws_0</th>\n",
       "      <th>ws_1</th>\n",
       "      <th>ws_2</th>\n",
       "      <th>ws_3</th>\n",
       "      <th>unique</th>\n",
       "      <th>diff_acc</th>\n",
       "      <th>space</th>\n",
       "      <th>time</th>\n",
       "    </tr>\n",
       "  </thead>\n",
       "  <tbody>\n",
       "    <tr>\n",
       "      <th>40</th>\n",
       "      <td>DeepDTA-DAVIS</td>\n",
       "      <td>[2, 2, 2, 2]</td>\n",
       "      <td>2</td>\n",
       "      <td>2</td>\n",
       "      <td>2</td>\n",
       "      <td>2</td>\n",
       "      <td>[2, 2, 2, 2]</td>\n",
       "      <td>0.03826</td>\n",
       "      <td>0.063</td>\n",
       "      <td>126</td>\n",
       "    </tr>\n",
       "  </tbody>\n",
       "</table>\n",
       "</div>"
      ],
      "text/plain": [
       "              net            ws ws_0 ws_1 ws_2 ws_3        unique  diff_acc  \\\n",
       "40  DeepDTA-DAVIS  [2, 2, 2, 2]    2    2    2    2  [2, 2, 2, 2]   0.03826   \n",
       "\n",
       "    space time  \n",
       "40  0.063  126  "
      ]
     },
     "execution_count": 84,
     "metadata": {},
     "output_type": "execute_result"
    }
   ],
   "source": [
    "#BEST SPACE CONFIGURATION FOR DeepDTA-DAVIS\n",
    "df_sorted[(df_sorted.diff_acc>=0) & (df_sorted.net==\"DeepDTA-DAVIS\")].sort_values(by=[\"space\"], ascending=True)[:1]"
   ]
  },
  {
   "cell_type": "markdown",
   "metadata": {},
   "source": [
    "## PQ with HAM"
   ]
  },
  {
   "cell_type": "code",
   "execution_count": 85,
   "metadata": {},
   "outputs": [],
   "source": [
    "file = open(directory_res+'huffman_pq_deep.txt', 'r') "
   ]
  },
  {
   "cell_type": "code",
   "execution_count": 86,
   "metadata": {},
   "outputs": [
    {
     "name": "stdout",
     "output_type": "stream",
     "text": [
      "DeepDTA\n"
     ]
    }
   ],
   "source": [
    "Lines = file.readlines() \n",
    "df = pd.DataFrame(columns =['net', 'ws', 'ws_0', 'ws_1', 'ws_2', 'ws_3', 'unique', 'diff_acc', 'space', 'time'])\n",
    "for row, line in enumerate(Lines):\n",
    "    if row == 0:\n",
    "        print(line.split(\"/\")[1])\n",
    "        net = line.split(\"/\")[1]\n",
    "        net += \"-\"+line.split(\"/\")[2]\n",
    "    elif row % 6 == 0:\n",
    "        df = read_block_ws_huffman(net, clusters, unique, diff_acc, space, time, df)\n",
    "        net = line.split(\"/\")[1]\n",
    "        net += \"-\"+line.split(\"/\")[2]\n",
    "    else:\n",
    "        exec(line)\n",
    "df = read_block_ws_huffman(net, clusters, unique, diff_acc, space, time, df)"
   ]
  },
  {
   "cell_type": "code",
   "execution_count": 87,
   "metadata": {},
   "outputs": [],
   "source": [
    "df_sorted = df.sort_values(by=['net', 'ws_0', 'ws_1', 'ws_2', 'ws_3'], ascending=True)\n",
    "df_sorted[\"diff_acc\"] = -1 * df_sorted[\"diff_acc\"]\n",
    "df_sorted = df_sorted[df_sorted.ws_3 != 128]"
   ]
  },
  {
   "cell_type": "code",
   "execution_count": 88,
   "metadata": {
    "scrolled": true
   },
   "outputs": [
    {
     "data": {
      "image/png": "[encoded data removed]",
      "text/plain": [
       "<Figure size 792x936 with 9 Axes>"
      ]
     },
     "metadata": {
      "needs_background": "light"
     },
     "output_type": "display_data"
    }
   ],
   "source": [
    "get_accuracy_bar_plots(df_sorted, acc_lim, max_time)\n",
    "plt.savefig(\"plots_results/pq_huffman_deep.png\")"
   ]
  },
  {
   "cell_type": "code",
   "execution_count": 89,
   "metadata": {},
   "outputs": [
    {
     "data": {
      "text/html": [
       "<div>\n",
       "<style scoped>\n",
       "    .dataframe tbody tr th:only-of-type {\n",
       "        vertical-align: middle;\n",
       "    }\n",
       "\n",
       "    .dataframe tbody tr th {\n",
       "        vertical-align: top;\n",
       "    }\n",
       "\n",
       "    .dataframe thead th {\n",
       "        text-align: right;\n",
       "    }\n",
       "</style>\n",
       "<table border=\"1\" class=\"dataframe\">\n",
       "  <thead>\n",
       "    <tr style=\"text-align: right;\">\n",
       "      <th></th>\n",
       "      <th>net</th>\n",
       "      <th>ws</th>\n",
       "      <th>ws_0</th>\n",
       "      <th>ws_1</th>\n",
       "      <th>ws_2</th>\n",
       "      <th>ws_3</th>\n",
       "      <th>unique</th>\n",
       "      <th>diff_acc</th>\n",
       "      <th>space</th>\n",
       "      <th>time</th>\n",
       "    </tr>\n",
       "  </thead>\n",
       "  <tbody>\n",
       "    <tr>\n",
       "      <th>80</th>\n",
       "      <td>DeepDTA-DAVIS</td>\n",
       "      <td>[2, 2, 2, 2]</td>\n",
       "      <td>2</td>\n",
       "      <td>2</td>\n",
       "      <td>2</td>\n",
       "      <td>2</td>\n",
       "      <td>[2, 2, 2, 2]</td>\n",
       "      <td>-0.47926</td>\n",
       "      <td>0.063</td>\n",
       "      <td>140</td>\n",
       "    </tr>\n",
       "    <tr>\n",
       "      <th>81</th>\n",
       "      <td>DeepDTA-DAVIS</td>\n",
       "      <td>[2, 2, 2, 32]</td>\n",
       "      <td>2</td>\n",
       "      <td>2</td>\n",
       "      <td>2</td>\n",
       "      <td>32</td>\n",
       "      <td>[2, 2, 2, 32]</td>\n",
       "      <td>-1.17434</td>\n",
       "      <td>0.063</td>\n",
       "      <td>127</td>\n",
       "    </tr>\n",
       "    <tr>\n",
       "      <th>82</th>\n",
       "      <td>DeepDTA-DAVIS</td>\n",
       "      <td>[2, 2, 32, 2]</td>\n",
       "      <td>2</td>\n",
       "      <td>2</td>\n",
       "      <td>32</td>\n",
       "      <td>2</td>\n",
       "      <td>[2, 2, 32, 2]</td>\n",
       "      <td>-0.05391</td>\n",
       "      <td>0.136</td>\n",
       "      <td>138</td>\n",
       "    </tr>\n",
       "    <tr>\n",
       "      <th>83</th>\n",
       "      <td>DeepDTA-DAVIS</td>\n",
       "      <td>[2, 2, 32, 32]</td>\n",
       "      <td>2</td>\n",
       "      <td>2</td>\n",
       "      <td>32</td>\n",
       "      <td>32</td>\n",
       "      <td>[2, 2, 32, 32]</td>\n",
       "      <td>-0.47929</td>\n",
       "      <td>0.136</td>\n",
       "      <td>135</td>\n",
       "    </tr>\n",
       "    <tr>\n",
       "      <th>78</th>\n",
       "      <td>DeepDTA-DAVIS</td>\n",
       "      <td>[2, 2, 128, 2]</td>\n",
       "      <td>2</td>\n",
       "      <td>2</td>\n",
       "      <td>128</td>\n",
       "      <td>2</td>\n",
       "      <td>[2, 2, 128, 2]</td>\n",
       "      <td>-0.47961</td>\n",
       "      <td>0.174</td>\n",
       "      <td>146</td>\n",
       "    </tr>\n",
       "  </tbody>\n",
       "</table>\n",
       "</div>"
      ],
      "text/plain": [
       "              net              ws ws_0 ws_1 ws_2 ws_3          unique  \\\n",
       "80  DeepDTA-DAVIS    [2, 2, 2, 2]    2    2    2    2    [2, 2, 2, 2]   \n",
       "81  DeepDTA-DAVIS   [2, 2, 2, 32]    2    2    2   32   [2, 2, 2, 32]   \n",
       "82  DeepDTA-DAVIS   [2, 2, 32, 2]    2    2   32    2   [2, 2, 32, 2]   \n",
       "83  DeepDTA-DAVIS  [2, 2, 32, 32]    2    2   32   32  [2, 2, 32, 32]   \n",
       "78  DeepDTA-DAVIS  [2, 2, 128, 2]    2    2  128    2  [2, 2, 128, 2]   \n",
       "\n",
       "    diff_acc  space time  \n",
       "80  -0.47926  0.063  140  \n",
       "81  -1.17434  0.063  127  \n",
       "82  -0.05391  0.136  138  \n",
       "83  -0.47929  0.136  135  \n",
       "78  -0.47961  0.174  146  "
      ]
     },
     "execution_count": 89,
     "metadata": {},
     "output_type": "execute_result"
    }
   ],
   "source": [
    "df_sorted.head()"
   ]
  },
  {
   "cell_type": "code",
   "execution_count": 90,
   "metadata": {
    "scrolled": true
   },
   "outputs": [
    {
     "data": {
      "text/html": [
       "<div>\n",
       "<style scoped>\n",
       "    .dataframe tbody tr th:only-of-type {\n",
       "        vertical-align: middle;\n",
       "    }\n",
       "\n",
       "    .dataframe tbody tr th {\n",
       "        vertical-align: top;\n",
       "    }\n",
       "\n",
       "    .dataframe thead th {\n",
       "        text-align: right;\n",
       "    }\n",
       "</style>\n",
       "<table border=\"1\" class=\"dataframe\">\n",
       "  <thead>\n",
       "    <tr style=\"text-align: right;\">\n",
       "      <th></th>\n",
       "      <th>net</th>\n",
       "      <th>ws</th>\n",
       "      <th>ws_0</th>\n",
       "      <th>ws_1</th>\n",
       "      <th>ws_2</th>\n",
       "      <th>ws_3</th>\n",
       "      <th>unique</th>\n",
       "      <th>diff_acc</th>\n",
       "      <th>space</th>\n",
       "      <th>time</th>\n",
       "    </tr>\n",
       "  </thead>\n",
       "  <tbody>\n",
       "    <tr>\n",
       "      <th>37</th>\n",
       "      <td>DeepDTA-KIBA</td>\n",
       "      <td>[32, 128, 128, 32]</td>\n",
       "      <td>32</td>\n",
       "      <td>128</td>\n",
       "      <td>128</td>\n",
       "      <td>32</td>\n",
       "      <td>[32, 128, 128, 32]</td>\n",
       "      <td>-0.00052</td>\n",
       "      <td>0.425</td>\n",
       "      <td>108</td>\n",
       "    </tr>\n",
       "  </tbody>\n",
       "</table>\n",
       "</div>"
      ],
      "text/plain": [
       "             net                  ws ws_0 ws_1 ws_2 ws_3              unique  \\\n",
       "37  DeepDTA-KIBA  [32, 128, 128, 32]   32  128  128   32  [32, 128, 128, 32]   \n",
       "\n",
       "    diff_acc  space time  \n",
       "37  -0.00052  0.425  108  "
      ]
     },
     "execution_count": 90,
     "metadata": {},
     "output_type": "execute_result"
    }
   ],
   "source": [
    "#BEST PERFORMANCE CONFIGURATION FOR DeepDTA-KIBA\n",
    "(df_sorted[(df_sorted.net==\"DeepDTA-KIBA\")].sort_values(by=[\"diff_acc\"], ascending=False)[:1])"
   ]
  },
  {
   "cell_type": "code",
   "execution_count": 91,
   "metadata": {},
   "outputs": [
    {
     "data": {
      "text/html": [
       "<div>\n",
       "<style scoped>\n",
       "    .dataframe tbody tr th:only-of-type {\n",
       "        vertical-align: middle;\n",
       "    }\n",
       "\n",
       "    .dataframe tbody tr th {\n",
       "        vertical-align: top;\n",
       "    }\n",
       "\n",
       "    .dataframe thead th {\n",
       "        text-align: right;\n",
       "    }\n",
       "</style>\n",
       "<table border=\"1\" class=\"dataframe\">\n",
       "  <thead>\n",
       "    <tr style=\"text-align: right;\">\n",
       "      <th></th>\n",
       "      <th>net</th>\n",
       "      <th>ws</th>\n",
       "      <th>ws_0</th>\n",
       "      <th>ws_1</th>\n",
       "      <th>ws_2</th>\n",
       "      <th>ws_3</th>\n",
       "      <th>unique</th>\n",
       "      <th>diff_acc</th>\n",
       "      <th>space</th>\n",
       "      <th>time</th>\n",
       "    </tr>\n",
       "  </thead>\n",
       "  <tbody>\n",
       "    <tr>\n",
       "      <th>71</th>\n",
       "      <td>DeepDTA-DAVIS</td>\n",
       "      <td>[128, 32, 32, 32]</td>\n",
       "      <td>128</td>\n",
       "      <td>32</td>\n",
       "      <td>32</td>\n",
       "      <td>32</td>\n",
       "      <td>[128, 32, 32, 32]</td>\n",
       "      <td>0.07924</td>\n",
       "      <td>0.324</td>\n",
       "      <td>159</td>\n",
       "    </tr>\n",
       "  </tbody>\n",
       "</table>\n",
       "</div>"
      ],
      "text/plain": [
       "              net                 ws ws_0 ws_1 ws_2 ws_3             unique  \\\n",
       "71  DeepDTA-DAVIS  [128, 32, 32, 32]  128   32   32   32  [128, 32, 32, 32]   \n",
       "\n",
       "    diff_acc  space time  \n",
       "71   0.07924  0.324  159  "
      ]
     },
     "execution_count": 91,
     "metadata": {},
     "output_type": "execute_result"
    }
   ],
   "source": [
    "#BEST PERFORMANCE CONFIGURATION FOR DeepDTA-DAVIS\n",
    "(df_sorted[(df_sorted.diff_acc>=0) & (df_sorted.net==\"DeepDTA-DAVIS\")].sort_values(by=[\"diff_acc\"], ascending=False)[:1])"
   ]
  },
  {
   "cell_type": "code",
   "execution_count": 92,
   "metadata": {},
   "outputs": [
    {
     "data": {
      "text/html": [
       "<div>\n",
       "<style scoped>\n",
       "    .dataframe tbody tr th:only-of-type {\n",
       "        vertical-align: middle;\n",
       "    }\n",
       "\n",
       "    .dataframe tbody tr th {\n",
       "        vertical-align: top;\n",
       "    }\n",
       "\n",
       "    .dataframe thead th {\n",
       "        text-align: right;\n",
       "    }\n",
       "</style>\n",
       "<table border=\"1\" class=\"dataframe\">\n",
       "  <thead>\n",
       "    <tr style=\"text-align: right;\">\n",
       "      <th></th>\n",
       "      <th>net</th>\n",
       "      <th>ws</th>\n",
       "      <th>ws_0</th>\n",
       "      <th>ws_1</th>\n",
       "      <th>ws_2</th>\n",
       "      <th>ws_3</th>\n",
       "      <th>unique</th>\n",
       "      <th>diff_acc</th>\n",
       "      <th>space</th>\n",
       "      <th>time</th>\n",
       "    </tr>\n",
       "  </thead>\n",
       "  <tbody>\n",
       "    <tr>\n",
       "      <th>37</th>\n",
       "      <td>DeepDTA-KIBA</td>\n",
       "      <td>[32, 128, 128, 32]</td>\n",
       "      <td>32</td>\n",
       "      <td>128</td>\n",
       "      <td>128</td>\n",
       "      <td>32</td>\n",
       "      <td>[32, 128, 128, 32]</td>\n",
       "      <td>-0.00052</td>\n",
       "      <td>0.425</td>\n",
       "      <td>108</td>\n",
       "    </tr>\n",
       "  </tbody>\n",
       "</table>\n",
       "</div>"
      ],
      "text/plain": [
       "             net                  ws ws_0 ws_1 ws_2 ws_3              unique  \\\n",
       "37  DeepDTA-KIBA  [32, 128, 128, 32]   32  128  128   32  [32, 128, 128, 32]   \n",
       "\n",
       "    diff_acc  space time  \n",
       "37  -0.00052  0.425  108  "
      ]
     },
     "execution_count": 92,
     "metadata": {},
     "output_type": "execute_result"
    }
   ],
   "source": [
    "#BEST SPACE CONFIGURATION FOR DeepDTA-KIBA\n",
    "(df_sorted[(df_sorted.net==\"DeepDTA-KIBA\")].sort_values(by=[\"diff_acc\"], ascending=False)[:1])"
   ]
  },
  {
   "cell_type": "code",
   "execution_count": 93,
   "metadata": {},
   "outputs": [
    {
     "data": {
      "text/html": [
       "<div>\n",
       "<style scoped>\n",
       "    .dataframe tbody tr th:only-of-type {\n",
       "        vertical-align: middle;\n",
       "    }\n",
       "\n",
       "    .dataframe tbody tr th {\n",
       "        vertical-align: top;\n",
       "    }\n",
       "\n",
       "    .dataframe thead th {\n",
       "        text-align: right;\n",
       "    }\n",
       "</style>\n",
       "<table border=\"1\" class=\"dataframe\">\n",
       "  <thead>\n",
       "    <tr style=\"text-align: right;\">\n",
       "      <th></th>\n",
       "      <th>net</th>\n",
       "      <th>ws</th>\n",
       "      <th>ws_0</th>\n",
       "      <th>ws_1</th>\n",
       "      <th>ws_2</th>\n",
       "      <th>ws_3</th>\n",
       "      <th>unique</th>\n",
       "      <th>diff_acc</th>\n",
       "      <th>space</th>\n",
       "      <th>time</th>\n",
       "    </tr>\n",
       "  </thead>\n",
       "  <tbody>\n",
       "    <tr>\n",
       "      <th>104</th>\n",
       "      <td>DeepDTA-DAVIS</td>\n",
       "      <td>[32, 32, 2, 2]</td>\n",
       "      <td>32</td>\n",
       "      <td>32</td>\n",
       "      <td>2</td>\n",
       "      <td>2</td>\n",
       "      <td>[32, 32, 2, 2]</td>\n",
       "      <td>0.03591</td>\n",
       "      <td>0.237</td>\n",
       "      <td>149</td>\n",
       "    </tr>\n",
       "  </tbody>\n",
       "</table>\n",
       "</div>"
      ],
      "text/plain": [
       "               net              ws ws_0 ws_1 ws_2 ws_3          unique  \\\n",
       "104  DeepDTA-DAVIS  [32, 32, 2, 2]   32   32    2    2  [32, 32, 2, 2]   \n",
       "\n",
       "     diff_acc  space time  \n",
       "104   0.03591  0.237  149  "
      ]
     },
     "execution_count": 93,
     "metadata": {},
     "output_type": "execute_result"
    }
   ],
   "source": [
    "#BEST SPACE CONFIGURATION FOR DeepDTA-DAVIS\n",
    "df_sorted[(df_sorted.diff_acc>=0) & (df_sorted.net==\"DeepDTA-DAVIS\")].sort_values(by=[\"space\"], ascending=True)[:1]"
   ]
  },
  {
   "cell_type": "markdown",
   "metadata": {},
   "source": [
    "## Pr-WS with HAM"
   ]
  },
  {
   "cell_type": "code",
   "execution_count": 94,
   "metadata": {},
   "outputs": [],
   "source": [
    "def read_block_pr_ws_huffman(net, pruning, clusters, unique, diff_acc, space, time, df):\n",
    "    net = [net]*len(pruning)\n",
    "    ws_0, ws_1, ws_2, ws_3 = convert_ws_in_cols(clusters)\n",
    "    new_df_to_append = pd.DataFrame(list(zip(net, pruning, clusters, ws_0, ws_1, ws_2, ws_3, unique, diff_acc, space, time)), columns =['net', 'pruning', 'ws', 'ws_0', 'ws_1', 'ws_2', 'ws_3', 'unique', 'diff_acc', 'space', 'time'])\n",
    "    df = pd.concat([df, new_df_to_append], ignore_index=True)\n",
    "    return df"
   ]
  },
  {
   "cell_type": "code",
   "execution_count": 95,
   "metadata": {},
   "outputs": [],
   "source": [
    "file = open(directory_res+'huffman_pruningws_deep.txt', 'r') "
   ]
  },
  {
   "cell_type": "code",
   "execution_count": 96,
   "metadata": {},
   "outputs": [],
   "source": [
    "Lines = file.readlines() \n",
    "df = pd.DataFrame(columns =['net', 'pruning', 'ws', 'ws_0', 'ws_1', 'ws_2', 'ws_3', 'unique', 'diff_acc', 'space', 'time'])\n",
    "for row, line in enumerate(Lines):\n",
    "    if row == 0:\n",
    "        net = line.split(\"/\")[1]\n",
    "        net += \"-\"+line.split(\"/\")[2]\n",
    "    elif row % 7 == 0:\n",
    "        df = read_block_pr_ws_huffman(net, pruning, clusters, unique, diff_acc, space, time, df)\n",
    "        net = line.split(\"/\")[1]\n",
    "        net += \"-\"+line.split(\"/\")[2]\n",
    "    else:\n",
    "        exec(line)\n",
    "df = read_block_pr_ws_huffman(net, pruning, clusters, unique, diff_acc, space, time, df)"
   ]
  },
  {
   "cell_type": "code",
   "execution_count": 97,
   "metadata": {},
   "outputs": [],
   "source": [
    "df_sorted = df.sort_values(by=['net', 'ws_0', 'ws_1', 'ws_2', 'ws_3'], ascending=True)\n",
    "df_sorted[\"diff_acc\"] = -1 * df_sorted[\"diff_acc\"]\n",
    "df_sorted = df_sorted[df_sorted.ws_3 != 128]"
   ]
  },
  {
   "cell_type": "code",
   "execution_count": 98,
   "metadata": {},
   "outputs": [],
   "source": [
    "def get_accuracy_bar_plots_ws(df, acc_lim, max_time):\n",
    "    pr_values = (30,40,50,60,70,80,90,95,96,97,98,99)\n",
    "    pr_values_lab = (\"30\",\"\",\"50\",\"\",\"70\",\"\",\"90\",\"\",\"96\",\"\",\"98\",\"\")\n",
    "\n",
    "    metrics = ('diff_acc', 'time', 'space')\n",
    "    nets = ('DeepDTA-KIBA', 'DeepDTA-DAVIS')\n",
    "    metrics_to_print = (r'$\\Delta_{perf}$', 'time', r'$\\psi$')\n",
    "\n",
    "    colors = ('#7a5195', '#ef5675')\n",
    "    \n",
    "    rows = len(metrics)\n",
    "    cols = len(nets)\n",
    "\n",
    "    fig, axes = plt.subplots(rows, cols, figsize=(8, 12)) #2020\n",
    "    fig.subplots_adjust(hspace=0.05, wspace=0)\n",
    "\n",
    "\n",
    "    for r, metric in enumerate(metrics):\n",
    "        for c, net in enumerate(nets):\n",
    "            extract = df[(df.net==net)].loc[:, ['pruning', metric]]\n",
    "            axes[r, c].bar(extract.pruning, extract[metric], color=colors[c])\n",
    "\n",
    "\n",
    "    for r in range(rows):\n",
    "        for c in range(cols):\n",
    "            plt.sca(axes[r][c])\n",
    "            if r == 0:\n",
    "                plt.axhline(0, ls='-')\n",
    "                plt.ylim(acc_lim)\n",
    "                \n",
    "            if r == 1:\n",
    "                plt.ylim(1, max_time)\n",
    "                \n",
    "            if r == 2:\n",
    "                plt.ylim(0.,1.)\n",
    "\n",
    "            if r != rows - 1:\n",
    "                plt.xticks([])\n",
    "            else:\n",
    "                plt.xticks(range(len(pr_values_lab)), pr_values_lab)\n",
    "\n",
    "            \n",
    "            if c > 0:\n",
    "                plt.yticks([])\n",
    "              \n",
    "\n",
    "            if c == cols - 1:\n",
    "                axes[r][c].yaxis.set_label_position('right')\n",
    "                plt.ylabel(metrics_to_print[r], fontsize=22)"
   ]
  },
  {
   "cell_type": "code",
   "execution_count": 99,
   "metadata": {},
   "outputs": [],
   "source": [
    "df_pr = pd.concat([df_sorted[(df_sorted.net==\"DeepDTA-KIBA\") & (df_sorted.pruning=='60')],\n",
    "                   df_sorted[(df_sorted.net==\"DeepDTA-DAVIS\") & (df_sorted.pruning=='80')]])\n",
    "df_ws = pd.concat([df_sorted[(df_sorted.net==\"DeepDTA-KIBA\") & (df_sorted.ws=='[128, 128, 32, 2]')],\n",
    "                   df_sorted[(df_sorted.net==\"DeepDTA-DAVIS\") & (df_sorted.ws=='[128, 2, 128, 2]')]])"
   ]
  },
  {
   "cell_type": "code",
   "execution_count": 100,
   "metadata": {
    "scrolled": true
   },
   "outputs": [
    {
     "data": {
      "image/png": "[encoded data removed]",
      "text/plain": [
       "<Figure size 792x936 with 9 Axes>"
      ]
     },
     "metadata": {
      "needs_background": "light"
     },
     "output_type": "display_data"
    }
   ],
   "source": [
    "get_accuracy_bar_plots(df_pr, acc_lim, max_time)\n",
    "plt.savefig(\"plots_results/pws_huffman_deep_fixed_pr.png\")"
   ]
  },
  {
   "cell_type": "code",
   "execution_count": 101,
   "metadata": {
    "scrolled": true
   },
   "outputs": [
    {
     "data": {
      "text/html": [
       "<div>\n",
       "<style scoped>\n",
       "    .dataframe tbody tr th:only-of-type {\n",
       "        vertical-align: middle;\n",
       "    }\n",
       "\n",
       "    .dataframe tbody tr th {\n",
       "        vertical-align: top;\n",
       "    }\n",
       "\n",
       "    .dataframe thead th {\n",
       "        text-align: right;\n",
       "    }\n",
       "</style>\n",
       "<table border=\"1\" class=\"dataframe\">\n",
       "  <thead>\n",
       "    <tr style=\"text-align: right;\">\n",
       "      <th></th>\n",
       "      <th>net</th>\n",
       "      <th>pruning</th>\n",
       "      <th>ws</th>\n",
       "      <th>ws_0</th>\n",
       "      <th>ws_1</th>\n",
       "      <th>ws_2</th>\n",
       "      <th>ws_3</th>\n",
       "      <th>unique</th>\n",
       "      <th>diff_acc</th>\n",
       "      <th>space</th>\n",
       "      <th>time</th>\n",
       "    </tr>\n",
       "  </thead>\n",
       "  <tbody>\n",
       "    <tr>\n",
       "      <th>107</th>\n",
       "      <td>DeepDTA-KIBA</td>\n",
       "      <td>60</td>\n",
       "      <td>[32, 128, 2, 32]</td>\n",
       "      <td>32</td>\n",
       "      <td>128</td>\n",
       "      <td>2</td>\n",
       "      <td>32</td>\n",
       "      <td>[32, 128, 3, 32]</td>\n",
       "      <td>0.00893</td>\n",
       "      <td>0.187</td>\n",
       "      <td>73</td>\n",
       "    </tr>\n",
       "  </tbody>\n",
       "</table>\n",
       "</div>"
      ],
      "text/plain": [
       "              net pruning                ws ws_0 ws_1 ws_2 ws_3  \\\n",
       "107  DeepDTA-KIBA      60  [32, 128, 2, 32]   32  128    2   32   \n",
       "\n",
       "               unique  diff_acc  space time  \n",
       "107  [32, 128, 3, 32]   0.00893  0.187   73  "
      ]
     },
     "execution_count": 101,
     "metadata": {},
     "output_type": "execute_result"
    }
   ],
   "source": [
    "#BEST PERFORMANCE CONFIGURATION FOR DeepDTA-KIBA\n",
    "(df_pr[(df_pr.diff_acc>=0) & (df_pr.net==\"DeepDTA-KIBA\")].sort_values(by=[\"diff_acc\"], ascending=False)[:1])"
   ]
  },
  {
   "cell_type": "code",
   "execution_count": 102,
   "metadata": {},
   "outputs": [
    {
     "data": {
      "text/html": [
       "<div>\n",
       "<style scoped>\n",
       "    .dataframe tbody tr th:only-of-type {\n",
       "        vertical-align: middle;\n",
       "    }\n",
       "\n",
       "    .dataframe tbody tr th {\n",
       "        vertical-align: top;\n",
       "    }\n",
       "\n",
       "    .dataframe thead th {\n",
       "        text-align: right;\n",
       "    }\n",
       "</style>\n",
       "<table border=\"1\" class=\"dataframe\">\n",
       "  <thead>\n",
       "    <tr style=\"text-align: right;\">\n",
       "      <th></th>\n",
       "      <th>net</th>\n",
       "      <th>pruning</th>\n",
       "      <th>ws</th>\n",
       "      <th>ws_0</th>\n",
       "      <th>ws_1</th>\n",
       "      <th>ws_2</th>\n",
       "      <th>ws_3</th>\n",
       "      <th>unique</th>\n",
       "      <th>diff_acc</th>\n",
       "      <th>space</th>\n",
       "      <th>time</th>\n",
       "    </tr>\n",
       "  </thead>\n",
       "  <tbody>\n",
       "    <tr>\n",
       "      <th>44</th>\n",
       "      <td>DeepDTA-DAVIS</td>\n",
       "      <td>80</td>\n",
       "      <td>[32, 128, 2, 32]</td>\n",
       "      <td>32</td>\n",
       "      <td>128</td>\n",
       "      <td>2</td>\n",
       "      <td>32</td>\n",
       "      <td>[19, 30, 3, 11]</td>\n",
       "      <td>0.08817</td>\n",
       "      <td>0.105</td>\n",
       "      <td>78</td>\n",
       "    </tr>\n",
       "  </tbody>\n",
       "</table>\n",
       "</div>"
      ],
      "text/plain": [
       "              net pruning                ws ws_0 ws_1 ws_2 ws_3  \\\n",
       "44  DeepDTA-DAVIS      80  [32, 128, 2, 32]   32  128    2   32   \n",
       "\n",
       "             unique  diff_acc  space time  \n",
       "44  [19, 30, 3, 11]   0.08817  0.105   78  "
      ]
     },
     "execution_count": 102,
     "metadata": {},
     "output_type": "execute_result"
    }
   ],
   "source": [
    "#BEST PERFORMANCE CONFIGURATION FOR DeepDTA-DAVIS\n",
    "(df_pr[(df_pr.diff_acc>=0) & (df_pr.net==\"DeepDTA-DAVIS\")].sort_values(by=[\"diff_acc\"], ascending=False)[:1])"
   ]
  },
  {
   "cell_type": "code",
   "execution_count": 103,
   "metadata": {},
   "outputs": [
    {
     "data": {
      "text/html": [
       "<div>\n",
       "<style scoped>\n",
       "    .dataframe tbody tr th:only-of-type {\n",
       "        vertical-align: middle;\n",
       "    }\n",
       "\n",
       "    .dataframe tbody tr th {\n",
       "        vertical-align: top;\n",
       "    }\n",
       "\n",
       "    .dataframe thead th {\n",
       "        text-align: right;\n",
       "    }\n",
       "</style>\n",
       "<table border=\"1\" class=\"dataframe\">\n",
       "  <thead>\n",
       "    <tr style=\"text-align: right;\">\n",
       "      <th></th>\n",
       "      <th>net</th>\n",
       "      <th>pruning</th>\n",
       "      <th>ws</th>\n",
       "      <th>ws_0</th>\n",
       "      <th>ws_1</th>\n",
       "      <th>ws_2</th>\n",
       "      <th>ws_3</th>\n",
       "      <th>unique</th>\n",
       "      <th>diff_acc</th>\n",
       "      <th>space</th>\n",
       "      <th>time</th>\n",
       "    </tr>\n",
       "  </thead>\n",
       "  <tbody>\n",
       "    <tr>\n",
       "      <th>114</th>\n",
       "      <td>DeepDTA-KIBA</td>\n",
       "      <td>60</td>\n",
       "      <td>[32, 2, 32, 2]</td>\n",
       "      <td>32</td>\n",
       "      <td>2</td>\n",
       "      <td>32</td>\n",
       "      <td>2</td>\n",
       "      <td>[32, 3, 32, 3]</td>\n",
       "      <td>0.00167</td>\n",
       "      <td>0.127</td>\n",
       "      <td>67</td>\n",
       "    </tr>\n",
       "  </tbody>\n",
       "</table>\n",
       "</div>"
      ],
      "text/plain": [
       "              net pruning              ws ws_0 ws_1 ws_2 ws_3          unique  \\\n",
       "114  DeepDTA-KIBA      60  [32, 2, 32, 2]   32    2   32    2  [32, 3, 32, 3]   \n",
       "\n",
       "     diff_acc  space time  \n",
       "114   0.00167  0.127   67  "
      ]
     },
     "execution_count": 103,
     "metadata": {},
     "output_type": "execute_result"
    }
   ],
   "source": [
    "#BEST SPACE CONFIGURATION FOR DeepDTA-KIBA\n",
    "df_pr[(df_pr.diff_acc>=0) & (df_pr.net==\"DeepDTA-KIBA\")].sort_values(by=[\"space\"], ascending=True)[:1]"
   ]
  },
  {
   "cell_type": "code",
   "execution_count": 104,
   "metadata": {
    "scrolled": false
   },
   "outputs": [
    {
     "data": {
      "text/html": [
       "<div>\n",
       "<style scoped>\n",
       "    .dataframe tbody tr th:only-of-type {\n",
       "        vertical-align: middle;\n",
       "    }\n",
       "\n",
       "    .dataframe tbody tr th {\n",
       "        vertical-align: top;\n",
       "    }\n",
       "\n",
       "    .dataframe thead th {\n",
       "        text-align: right;\n",
       "    }\n",
       "</style>\n",
       "<table border=\"1\" class=\"dataframe\">\n",
       "  <thead>\n",
       "    <tr style=\"text-align: right;\">\n",
       "      <th></th>\n",
       "      <th>net</th>\n",
       "      <th>pruning</th>\n",
       "      <th>ws</th>\n",
       "      <th>ws_0</th>\n",
       "      <th>ws_1</th>\n",
       "      <th>ws_2</th>\n",
       "      <th>ws_3</th>\n",
       "      <th>unique</th>\n",
       "      <th>diff_acc</th>\n",
       "      <th>space</th>\n",
       "      <th>time</th>\n",
       "    </tr>\n",
       "  </thead>\n",
       "  <tbody>\n",
       "    <tr>\n",
       "      <th>50</th>\n",
       "      <td>DeepDTA-DAVIS</td>\n",
       "      <td>80</td>\n",
       "      <td>[32, 2, 2, 32]</td>\n",
       "      <td>32</td>\n",
       "      <td>2</td>\n",
       "      <td>2</td>\n",
       "      <td>32</td>\n",
       "      <td>[19, 3, 3, 11]</td>\n",
       "      <td>0.08556</td>\n",
       "      <td>0.079</td>\n",
       "      <td>67</td>\n",
       "    </tr>\n",
       "  </tbody>\n",
       "</table>\n",
       "</div>"
      ],
      "text/plain": [
       "              net pruning              ws ws_0 ws_1 ws_2 ws_3          unique  \\\n",
       "50  DeepDTA-DAVIS      80  [32, 2, 2, 32]   32    2    2   32  [19, 3, 3, 11]   \n",
       "\n",
       "    diff_acc  space time  \n",
       "50   0.08556  0.079   67  "
      ]
     },
     "execution_count": 104,
     "metadata": {},
     "output_type": "execute_result"
    }
   ],
   "source": [
    "#BEST SPACE CONFIGURATION FOR DeepDTA-DAVIS\n",
    "df_pr[(df_pr.diff_acc>=0) & (df_pr.net==\"DeepDTA-DAVIS\")].sort_values(by=[\"space\"], ascending=True)[:1]"
   ]
  },
  {
   "cell_type": "code",
   "execution_count": 105,
   "metadata": {},
   "outputs": [
    {
     "data": {
      "image/png": "[encoded data removed]",
      "text/plain": [
       "<Figure size 576x864 with 6 Axes>"
      ]
     },
     "metadata": {
      "needs_background": "light"
     },
     "output_type": "display_data"
    }
   ],
   "source": [
    "get_accuracy_bar_plots_ws(df_ws, acc_lim, max_time)\n",
    "plt.savefig(\"plots_results/pws_huffman_deep_fixed_ws.png\")"
   ]
  },
  {
   "cell_type": "code",
   "execution_count": 106,
   "metadata": {
    "scrolled": true
   },
   "outputs": [
    {
     "data": {
      "text/html": [
       "<div>\n",
       "<style scoped>\n",
       "    .dataframe tbody tr th:only-of-type {\n",
       "        vertical-align: middle;\n",
       "    }\n",
       "\n",
       "    .dataframe tbody tr th {\n",
       "        vertical-align: top;\n",
       "    }\n",
       "\n",
       "    .dataframe thead th {\n",
       "        text-align: right;\n",
       "    }\n",
       "</style>\n",
       "<table border=\"1\" class=\"dataframe\">\n",
       "  <thead>\n",
       "    <tr style=\"text-align: right;\">\n",
       "      <th></th>\n",
       "      <th>net</th>\n",
       "      <th>pruning</th>\n",
       "      <th>ws</th>\n",
       "      <th>ws_0</th>\n",
       "      <th>ws_1</th>\n",
       "      <th>ws_2</th>\n",
       "      <th>ws_3</th>\n",
       "      <th>unique</th>\n",
       "      <th>diff_acc</th>\n",
       "      <th>space</th>\n",
       "      <th>time</th>\n",
       "    </tr>\n",
       "  </thead>\n",
       "  <tbody>\n",
       "    <tr>\n",
       "      <th>65</th>\n",
       "      <td>DeepDTA-KIBA</td>\n",
       "      <td>30</td>\n",
       "      <td>[128, 128, 32, 2]</td>\n",
       "      <td>128</td>\n",
       "      <td>128</td>\n",
       "      <td>32</td>\n",
       "      <td>2</td>\n",
       "      <td>[128, 128, 32, 3]</td>\n",
       "      <td>0.01118</td>\n",
       "      <td>0.33</td>\n",
       "      <td>95</td>\n",
       "    </tr>\n",
       "  </tbody>\n",
       "</table>\n",
       "</div>"
      ],
      "text/plain": [
       "             net pruning                 ws ws_0 ws_1 ws_2 ws_3  \\\n",
       "65  DeepDTA-KIBA      30  [128, 128, 32, 2]  128  128   32    2   \n",
       "\n",
       "               unique  diff_acc  space time  \n",
       "65  [128, 128, 32, 3]   0.01118   0.33   95  "
      ]
     },
     "execution_count": 106,
     "metadata": {},
     "output_type": "execute_result"
    }
   ],
   "source": [
    "#BEST PERFORMANCE CONFIGURATION FOR DeepDTA-KIBA\n",
    "(df_ws[(df_ws.diff_acc>=0) & (df_ws.net==\"DeepDTA-KIBA\")].sort_values(by=[\"diff_acc\"], ascending=False)[:1])"
   ]
  },
  {
   "cell_type": "code",
   "execution_count": 107,
   "metadata": {},
   "outputs": [
    {
     "data": {
      "text/html": [
       "<div>\n",
       "<style scoped>\n",
       "    .dataframe tbody tr th:only-of-type {\n",
       "        vertical-align: middle;\n",
       "    }\n",
       "\n",
       "    .dataframe tbody tr th {\n",
       "        vertical-align: top;\n",
       "    }\n",
       "\n",
       "    .dataframe thead th {\n",
       "        text-align: right;\n",
       "    }\n",
       "</style>\n",
       "<table border=\"1\" class=\"dataframe\">\n",
       "  <thead>\n",
       "    <tr style=\"text-align: right;\">\n",
       "      <th></th>\n",
       "      <th>net</th>\n",
       "      <th>pruning</th>\n",
       "      <th>ws</th>\n",
       "      <th>ws_0</th>\n",
       "      <th>ws_1</th>\n",
       "      <th>ws_2</th>\n",
       "      <th>ws_3</th>\n",
       "      <th>unique</th>\n",
       "      <th>diff_acc</th>\n",
       "      <th>space</th>\n",
       "      <th>time</th>\n",
       "    </tr>\n",
       "  </thead>\n",
       "  <tbody>\n",
       "    <tr>\n",
       "      <th>1</th>\n",
       "      <td>DeepDTA-DAVIS</td>\n",
       "      <td>40</td>\n",
       "      <td>[128, 2, 128, 2]</td>\n",
       "      <td>128</td>\n",
       "      <td>2</td>\n",
       "      <td>128</td>\n",
       "      <td>2</td>\n",
       "      <td>[128, 3, 128, 3]</td>\n",
       "      <td>0.03969</td>\n",
       "      <td>0.191</td>\n",
       "      <td>120</td>\n",
       "    </tr>\n",
       "  </tbody>\n",
       "</table>\n",
       "</div>"
      ],
      "text/plain": [
       "             net pruning                ws ws_0 ws_1 ws_2 ws_3  \\\n",
       "1  DeepDTA-DAVIS      40  [128, 2, 128, 2]  128    2  128    2   \n",
       "\n",
       "             unique  diff_acc  space time  \n",
       "1  [128, 3, 128, 3]   0.03969  0.191  120  "
      ]
     },
     "execution_count": 107,
     "metadata": {},
     "output_type": "execute_result"
    }
   ],
   "source": [
    "#BEST PERFORMANCE CONFIGURATION FOR DeepDTA-DAVIS\n",
    "(df_ws[(df_ws.diff_acc>=0) & (df_ws.net==\"DeepDTA-DAVIS\")].sort_values(by=[\"diff_acc\"], ascending=False)[:1])"
   ]
  },
  {
   "cell_type": "code",
   "execution_count": 108,
   "metadata": {},
   "outputs": [
    {
     "data": {
      "text/html": [
       "<div>\n",
       "<style scoped>\n",
       "    .dataframe tbody tr th:only-of-type {\n",
       "        vertical-align: middle;\n",
       "    }\n",
       "\n",
       "    .dataframe tbody tr th {\n",
       "        vertical-align: top;\n",
       "    }\n",
       "\n",
       "    .dataframe thead th {\n",
       "        text-align: right;\n",
       "    }\n",
       "</style>\n",
       "<table border=\"1\" class=\"dataframe\">\n",
       "  <thead>\n",
       "    <tr style=\"text-align: right;\">\n",
       "      <th></th>\n",
       "      <th>net</th>\n",
       "      <th>pruning</th>\n",
       "      <th>ws</th>\n",
       "      <th>ws_0</th>\n",
       "      <th>ws_1</th>\n",
       "      <th>ws_2</th>\n",
       "      <th>ws_3</th>\n",
       "      <th>unique</th>\n",
       "      <th>diff_acc</th>\n",
       "      <th>space</th>\n",
       "      <th>time</th>\n",
       "    </tr>\n",
       "  </thead>\n",
       "  <tbody>\n",
       "    <tr>\n",
       "      <th>72</th>\n",
       "      <td>DeepDTA-KIBA</td>\n",
       "      <td>60</td>\n",
       "      <td>[128, 128, 32, 2]</td>\n",
       "      <td>128</td>\n",
       "      <td>128</td>\n",
       "      <td>32</td>\n",
       "      <td>2</td>\n",
       "      <td>[128, 128, 32, 3]</td>\n",
       "      <td>0.00433</td>\n",
       "      <td>0.222</td>\n",
       "      <td>62</td>\n",
       "    </tr>\n",
       "  </tbody>\n",
       "</table>\n",
       "</div>"
      ],
      "text/plain": [
       "             net pruning                 ws ws_0 ws_1 ws_2 ws_3  \\\n",
       "72  DeepDTA-KIBA      60  [128, 128, 32, 2]  128  128   32    2   \n",
       "\n",
       "               unique  diff_acc  space time  \n",
       "72  [128, 128, 32, 3]   0.00433  0.222   62  "
      ]
     },
     "execution_count": 108,
     "metadata": {},
     "output_type": "execute_result"
    }
   ],
   "source": [
    "#BEST SPACE CONFIGURATION FOR DeepDTA-KIBA\n",
    "df_ws[(df_ws.diff_acc>=0) & (df_ws.net==\"DeepDTA-KIBA\")].sort_values(by=[\"space\"], ascending=True)[:1]"
   ]
  },
  {
   "cell_type": "code",
   "execution_count": 109,
   "metadata": {
    "scrolled": false
   },
   "outputs": [
    {
     "data": {
      "text/html": [
       "<div>\n",
       "<style scoped>\n",
       "    .dataframe tbody tr th:only-of-type {\n",
       "        vertical-align: middle;\n",
       "    }\n",
       "\n",
       "    .dataframe tbody tr th {\n",
       "        vertical-align: top;\n",
       "    }\n",
       "\n",
       "    .dataframe thead th {\n",
       "        text-align: right;\n",
       "    }\n",
       "</style>\n",
       "<table border=\"1\" class=\"dataframe\">\n",
       "  <thead>\n",
       "    <tr style=\"text-align: right;\">\n",
       "      <th></th>\n",
       "      <th>net</th>\n",
       "      <th>pruning</th>\n",
       "      <th>ws</th>\n",
       "      <th>ws_0</th>\n",
       "      <th>ws_1</th>\n",
       "      <th>ws_2</th>\n",
       "      <th>ws_3</th>\n",
       "      <th>unique</th>\n",
       "      <th>diff_acc</th>\n",
       "      <th>space</th>\n",
       "      <th>time</th>\n",
       "    </tr>\n",
       "  </thead>\n",
       "  <tbody>\n",
       "    <tr>\n",
       "      <th>3</th>\n",
       "      <td>DeepDTA-DAVIS</td>\n",
       "      <td>60</td>\n",
       "      <td>[128, 2, 128, 2]</td>\n",
       "      <td>128</td>\n",
       "      <td>2</td>\n",
       "      <td>128</td>\n",
       "      <td>2</td>\n",
       "      <td>[128, 3, 128, 3]</td>\n",
       "      <td>0.0317</td>\n",
       "      <td>0.148</td>\n",
       "      <td>98</td>\n",
       "    </tr>\n",
       "  </tbody>\n",
       "</table>\n",
       "</div>"
      ],
      "text/plain": [
       "             net pruning                ws ws_0 ws_1 ws_2 ws_3  \\\n",
       "3  DeepDTA-DAVIS      60  [128, 2, 128, 2]  128    2  128    2   \n",
       "\n",
       "             unique  diff_acc  space time  \n",
       "3  [128, 3, 128, 3]    0.0317  0.148   98  "
      ]
     },
     "execution_count": 109,
     "metadata": {},
     "output_type": "execute_result"
    }
   ],
   "source": [
    "#BEST SPACE CONFIGURATION FOR DeepDTA-DAVIS\n",
    "df_ws[(df_ws.diff_acc>=0) & (df_ws.net==\"DeepDTA-DAVIS\")].sort_values(by=[\"space\"], ascending=True)[:1]"
   ]
  },
  {
   "cell_type": "markdown",
   "metadata": {},
   "source": [
    "## Pr-WS with sHAM"
   ]
  },
  {
   "cell_type": "code",
   "execution_count": 110,
   "metadata": {},
   "outputs": [],
   "source": [
    "file = open(directory_res+'sparse_huffman_pruningws_deep.txt', 'r') "
   ]
  },
  {
   "cell_type": "code",
   "execution_count": 111,
   "metadata": {},
   "outputs": [],
   "source": [
    "Lines = file.readlines() \n",
    "df = pd.DataFrame(columns =['net', 'pruning', 'ws', 'ws_0', 'ws_1', 'ws_2', 'ws_3', 'unique', 'diff_acc', 'space', 'time'])\n",
    "for row, line in enumerate(Lines):\n",
    "    if row == 0:\n",
    "        net = line.split(\"/\")[1]\n",
    "        net += \"-\"+line.split(\"/\")[2]\n",
    "    elif row % 7 == 0:\n",
    "        df = read_block_pr_ws_huffman(net, pruning, clusters, unique, diff_acc, space, time, df)\n",
    "        net = line.split(\"/\")[1]\n",
    "        net += \"-\"+line.split(\"/\")[2]\n",
    "    else:\n",
    "        exec(line)\n",
    "df = read_block_pr_ws_huffman(net, pruning, clusters, unique, diff_acc, space, time, df)"
   ]
  },
  {
   "cell_type": "code",
   "execution_count": 112,
   "metadata": {},
   "outputs": [],
   "source": [
    "df_sorted = df.sort_values(by=['net', 'ws_0', 'ws_1', 'ws_2', 'ws_3'], ascending=True)\n",
    "df_sorted[\"diff_acc\"] = -1 * df_sorted[\"diff_acc\"]\n",
    "df_sorted = df_sorted[df_sorted.ws_3 != 128]"
   ]
  },
  {
   "cell_type": "code",
   "execution_count": 113,
   "metadata": {},
   "outputs": [],
   "source": [
    "df_pr = pd.concat([df_sorted[(df_sorted.net==\"DeepDTA-KIBA\") & (df_sorted.pruning=='60')],\n",
    "                   df_sorted[(df_sorted.net==\"DeepDTA-DAVIS\") & (df_sorted.pruning=='80')]])\n",
    "df_ws = pd.concat([df_sorted[(df_sorted.net==\"DeepDTA-KIBA\") & (df_sorted.ws=='[128, 128, 32, 2]')],\n",
    "                   df_sorted[(df_sorted.net==\"DeepDTA-DAVIS\") & (df_sorted.ws=='[128, 2, 128, 2]')]])"
   ]
  },
  {
   "cell_type": "code",
   "execution_count": 114,
   "metadata": {},
   "outputs": [
    {
     "data": {
      "image/png": "[encoded data removed]",
      "text/plain": [
       "<Figure size 792x936 with 9 Axes>"
      ]
     },
     "metadata": {
      "needs_background": "light"
     },
     "output_type": "display_data"
    }
   ],
   "source": [
    "get_accuracy_bar_plots(df_pr, acc_lim, max_time)\n",
    "plt.savefig(\"plots_results/pws_sparse_huffman_deep_fixed_pr.png\")"
   ]
  },
  {
   "cell_type": "code",
   "execution_count": 115,
   "metadata": {
    "scrolled": true
   },
   "outputs": [
    {
     "data": {
      "text/html": [
       "<div>\n",
       "<style scoped>\n",
       "    .dataframe tbody tr th:only-of-type {\n",
       "        vertical-align: middle;\n",
       "    }\n",
       "\n",
       "    .dataframe tbody tr th {\n",
       "        vertical-align: top;\n",
       "    }\n",
       "\n",
       "    .dataframe thead th {\n",
       "        text-align: right;\n",
       "    }\n",
       "</style>\n",
       "<table border=\"1\" class=\"dataframe\">\n",
       "  <thead>\n",
       "    <tr style=\"text-align: right;\">\n",
       "      <th></th>\n",
       "      <th>net</th>\n",
       "      <th>pruning</th>\n",
       "      <th>ws</th>\n",
       "      <th>ws_0</th>\n",
       "      <th>ws_1</th>\n",
       "      <th>ws_2</th>\n",
       "      <th>ws_3</th>\n",
       "      <th>unique</th>\n",
       "      <th>diff_acc</th>\n",
       "      <th>space</th>\n",
       "      <th>time</th>\n",
       "    </tr>\n",
       "  </thead>\n",
       "  <tbody>\n",
       "    <tr>\n",
       "      <th>107</th>\n",
       "      <td>DeepDTA-KIBA</td>\n",
       "      <td>60</td>\n",
       "      <td>[32, 128, 2, 32]</td>\n",
       "      <td>32</td>\n",
       "      <td>128</td>\n",
       "      <td>2</td>\n",
       "      <td>32</td>\n",
       "      <td>[32, 128, 3, 32]</td>\n",
       "      <td>0.00893</td>\n",
       "      <td>0.314</td>\n",
       "      <td>43</td>\n",
       "    </tr>\n",
       "  </tbody>\n",
       "</table>\n",
       "</div>"
      ],
      "text/plain": [
       "              net pruning                ws ws_0 ws_1 ws_2 ws_3  \\\n",
       "107  DeepDTA-KIBA      60  [32, 128, 2, 32]   32  128    2   32   \n",
       "\n",
       "               unique  diff_acc  space time  \n",
       "107  [32, 128, 3, 32]   0.00893  0.314   43  "
      ]
     },
     "execution_count": 115,
     "metadata": {},
     "output_type": "execute_result"
    }
   ],
   "source": [
    "#BEST PERFORMANCE CONFIGURATION FOR DeepDTA-KIBA\n",
    "(df_pr[(df_pr.diff_acc>=0) & (df_pr.net==\"DeepDTA-KIBA\")].sort_values(by=[\"diff_acc\"], ascending=False)[:1])"
   ]
  },
  {
   "cell_type": "code",
   "execution_count": 116,
   "metadata": {},
   "outputs": [
    {
     "data": {
      "text/html": [
       "<div>\n",
       "<style scoped>\n",
       "    .dataframe tbody tr th:only-of-type {\n",
       "        vertical-align: middle;\n",
       "    }\n",
       "\n",
       "    .dataframe tbody tr th {\n",
       "        vertical-align: top;\n",
       "    }\n",
       "\n",
       "    .dataframe thead th {\n",
       "        text-align: right;\n",
       "    }\n",
       "</style>\n",
       "<table border=\"1\" class=\"dataframe\">\n",
       "  <thead>\n",
       "    <tr style=\"text-align: right;\">\n",
       "      <th></th>\n",
       "      <th>net</th>\n",
       "      <th>pruning</th>\n",
       "      <th>ws</th>\n",
       "      <th>ws_0</th>\n",
       "      <th>ws_1</th>\n",
       "      <th>ws_2</th>\n",
       "      <th>ws_3</th>\n",
       "      <th>unique</th>\n",
       "      <th>diff_acc</th>\n",
       "      <th>space</th>\n",
       "      <th>time</th>\n",
       "    </tr>\n",
       "  </thead>\n",
       "  <tbody>\n",
       "    <tr>\n",
       "      <th>44</th>\n",
       "      <td>DeepDTA-DAVIS</td>\n",
       "      <td>80</td>\n",
       "      <td>[32, 128, 2, 32]</td>\n",
       "      <td>32</td>\n",
       "      <td>128</td>\n",
       "      <td>2</td>\n",
       "      <td>32</td>\n",
       "      <td>[19, 30, 3, 11]</td>\n",
       "      <td>0.08817</td>\n",
       "      <td>0.137</td>\n",
       "      <td>18</td>\n",
       "    </tr>\n",
       "  </tbody>\n",
       "</table>\n",
       "</div>"
      ],
      "text/plain": [
       "              net pruning                ws ws_0 ws_1 ws_2 ws_3  \\\n",
       "44  DeepDTA-DAVIS      80  [32, 128, 2, 32]   32  128    2   32   \n",
       "\n",
       "             unique  diff_acc  space time  \n",
       "44  [19, 30, 3, 11]   0.08817  0.137   18  "
      ]
     },
     "execution_count": 116,
     "metadata": {},
     "output_type": "execute_result"
    }
   ],
   "source": [
    "#BEST PERFORMANCE CONFIGURATION FOR DeepDTA-DAVIS\n",
    "(df_pr[(df_pr.diff_acc>=0) & (df_pr.net==\"DeepDTA-DAVIS\")].sort_values(by=[\"diff_acc\"], ascending=False)[:1])"
   ]
  },
  {
   "cell_type": "code",
   "execution_count": 117,
   "metadata": {},
   "outputs": [
    {
     "data": {
      "text/html": [
       "<div>\n",
       "<style scoped>\n",
       "    .dataframe tbody tr th:only-of-type {\n",
       "        vertical-align: middle;\n",
       "    }\n",
       "\n",
       "    .dataframe tbody tr th {\n",
       "        vertical-align: top;\n",
       "    }\n",
       "\n",
       "    .dataframe thead th {\n",
       "        text-align: right;\n",
       "    }\n",
       "</style>\n",
       "<table border=\"1\" class=\"dataframe\">\n",
       "  <thead>\n",
       "    <tr style=\"text-align: right;\">\n",
       "      <th></th>\n",
       "      <th>net</th>\n",
       "      <th>pruning</th>\n",
       "      <th>ws</th>\n",
       "      <th>ws_0</th>\n",
       "      <th>ws_1</th>\n",
       "      <th>ws_2</th>\n",
       "      <th>ws_3</th>\n",
       "      <th>unique</th>\n",
       "      <th>diff_acc</th>\n",
       "      <th>space</th>\n",
       "      <th>time</th>\n",
       "    </tr>\n",
       "  </thead>\n",
       "  <tbody>\n",
       "    <tr>\n",
       "      <th>114</th>\n",
       "      <td>DeepDTA-KIBA</td>\n",
       "      <td>60</td>\n",
       "      <td>[32, 2, 32, 2]</td>\n",
       "      <td>32</td>\n",
       "      <td>2</td>\n",
       "      <td>32</td>\n",
       "      <td>2</td>\n",
       "      <td>[32, 3, 32, 3]</td>\n",
       "      <td>0.00167</td>\n",
       "      <td>0.254</td>\n",
       "      <td>45</td>\n",
       "    </tr>\n",
       "  </tbody>\n",
       "</table>\n",
       "</div>"
      ],
      "text/plain": [
       "              net pruning              ws ws_0 ws_1 ws_2 ws_3          unique  \\\n",
       "114  DeepDTA-KIBA      60  [32, 2, 32, 2]   32    2   32    2  [32, 3, 32, 3]   \n",
       "\n",
       "     diff_acc  space time  \n",
       "114   0.00167  0.254   45  "
      ]
     },
     "execution_count": 117,
     "metadata": {},
     "output_type": "execute_result"
    }
   ],
   "source": [
    "#BEST SPACE CONFIGURATION FOR DeepDTA-KIBA\n",
    "df_pr[(df_pr.diff_acc>=0) & (df_pr.net==\"DeepDTA-KIBA\")].sort_values(by=[\"space\"], ascending=True)[:1]"
   ]
  },
  {
   "cell_type": "code",
   "execution_count": 118,
   "metadata": {
    "scrolled": false
   },
   "outputs": [
    {
     "data": {
      "text/html": [
       "<div>\n",
       "<style scoped>\n",
       "    .dataframe tbody tr th:only-of-type {\n",
       "        vertical-align: middle;\n",
       "    }\n",
       "\n",
       "    .dataframe tbody tr th {\n",
       "        vertical-align: top;\n",
       "    }\n",
       "\n",
       "    .dataframe thead th {\n",
       "        text-align: right;\n",
       "    }\n",
       "</style>\n",
       "<table border=\"1\" class=\"dataframe\">\n",
       "  <thead>\n",
       "    <tr style=\"text-align: right;\">\n",
       "      <th></th>\n",
       "      <th>net</th>\n",
       "      <th>pruning</th>\n",
       "      <th>ws</th>\n",
       "      <th>ws_0</th>\n",
       "      <th>ws_1</th>\n",
       "      <th>ws_2</th>\n",
       "      <th>ws_3</th>\n",
       "      <th>unique</th>\n",
       "      <th>diff_acc</th>\n",
       "      <th>space</th>\n",
       "      <th>time</th>\n",
       "    </tr>\n",
       "  </thead>\n",
       "  <tbody>\n",
       "    <tr>\n",
       "      <th>50</th>\n",
       "      <td>DeepDTA-DAVIS</td>\n",
       "      <td>80</td>\n",
       "      <td>[32, 2, 2, 32]</td>\n",
       "      <td>32</td>\n",
       "      <td>2</td>\n",
       "      <td>2</td>\n",
       "      <td>32</td>\n",
       "      <td>[19, 3, 3, 11]</td>\n",
       "      <td>0.08556</td>\n",
       "      <td>0.112</td>\n",
       "      <td>17</td>\n",
       "    </tr>\n",
       "  </tbody>\n",
       "</table>\n",
       "</div>"
      ],
      "text/plain": [
       "              net pruning              ws ws_0 ws_1 ws_2 ws_3          unique  \\\n",
       "50  DeepDTA-DAVIS      80  [32, 2, 2, 32]   32    2    2   32  [19, 3, 3, 11]   \n",
       "\n",
       "    diff_acc  space time  \n",
       "50   0.08556  0.112   17  "
      ]
     },
     "execution_count": 118,
     "metadata": {},
     "output_type": "execute_result"
    }
   ],
   "source": [
    "#BEST SPACE CONFIGURATION FOR DeepDTA-DAVIS\n",
    "df_pr[(df_pr.diff_acc>=0) & (df_pr.net==\"DeepDTA-DAVIS\")].sort_values(by=[\"space\"], ascending=True)[:1]"
   ]
  },
  {
   "cell_type": "code",
   "execution_count": 119,
   "metadata": {
    "scrolled": true
   },
   "outputs": [
    {
     "data": {
      "image/png": "[encoded data removed]",
      "text/plain": [
       "<Figure size 576x864 with 6 Axes>"
      ]
     },
     "metadata": {
      "needs_background": "light"
     },
     "output_type": "display_data"
    }
   ],
   "source": [
    "get_accuracy_bar_plots_ws(df_ws, acc_lim, max_time)\n",
    "plt.savefig(\"plots_results/pws_sparse_huffman_deep_fixed_ws.png\")"
   ]
  },
  {
   "cell_type": "code",
   "execution_count": 120,
   "metadata": {
    "scrolled": true
   },
   "outputs": [
    {
     "data": {
      "text/html": [
       "<div>\n",
       "<style scoped>\n",
       "    .dataframe tbody tr th:only-of-type {\n",
       "        vertical-align: middle;\n",
       "    }\n",
       "\n",
       "    .dataframe tbody tr th {\n",
       "        vertical-align: top;\n",
       "    }\n",
       "\n",
       "    .dataframe thead th {\n",
       "        text-align: right;\n",
       "    }\n",
       "</style>\n",
       "<table border=\"1\" class=\"dataframe\">\n",
       "  <thead>\n",
       "    <tr style=\"text-align: right;\">\n",
       "      <th></th>\n",
       "      <th>net</th>\n",
       "      <th>pruning</th>\n",
       "      <th>ws</th>\n",
       "      <th>ws_0</th>\n",
       "      <th>ws_1</th>\n",
       "      <th>ws_2</th>\n",
       "      <th>ws_3</th>\n",
       "      <th>unique</th>\n",
       "      <th>diff_acc</th>\n",
       "      <th>space</th>\n",
       "      <th>time</th>\n",
       "    </tr>\n",
       "  </thead>\n",
       "  <tbody>\n",
       "    <tr>\n",
       "      <th>65</th>\n",
       "      <td>DeepDTA-KIBA</td>\n",
       "      <td>30</td>\n",
       "      <td>[128, 128, 32, 2]</td>\n",
       "      <td>128</td>\n",
       "      <td>128</td>\n",
       "      <td>32</td>\n",
       "      <td>2</td>\n",
       "      <td>[128, 128, 32, 3]</td>\n",
       "      <td>0.01118</td>\n",
       "      <td>0.605</td>\n",
       "      <td>69</td>\n",
       "    </tr>\n",
       "  </tbody>\n",
       "</table>\n",
       "</div>"
      ],
      "text/plain": [
       "             net pruning                 ws ws_0 ws_1 ws_2 ws_3  \\\n",
       "65  DeepDTA-KIBA      30  [128, 128, 32, 2]  128  128   32    2   \n",
       "\n",
       "               unique  diff_acc  space time  \n",
       "65  [128, 128, 32, 3]   0.01118  0.605   69  "
      ]
     },
     "execution_count": 120,
     "metadata": {},
     "output_type": "execute_result"
    }
   ],
   "source": [
    "#BEST PERFORMANCE CONFIGURATION FOR DeepDTA-KIBA\n",
    "(df_ws[(df_ws.diff_acc>=0) & (df_ws.net==\"DeepDTA-KIBA\")].sort_values(by=[\"diff_acc\"], ascending=False)[:1])"
   ]
  },
  {
   "cell_type": "code",
   "execution_count": 121,
   "metadata": {},
   "outputs": [
    {
     "data": {
      "text/html": [
       "<div>\n",
       "<style scoped>\n",
       "    .dataframe tbody tr th:only-of-type {\n",
       "        vertical-align: middle;\n",
       "    }\n",
       "\n",
       "    .dataframe tbody tr th {\n",
       "        vertical-align: top;\n",
       "    }\n",
       "\n",
       "    .dataframe thead th {\n",
       "        text-align: right;\n",
       "    }\n",
       "</style>\n",
       "<table border=\"1\" class=\"dataframe\">\n",
       "  <thead>\n",
       "    <tr style=\"text-align: right;\">\n",
       "      <th></th>\n",
       "      <th>net</th>\n",
       "      <th>pruning</th>\n",
       "      <th>ws</th>\n",
       "      <th>ws_0</th>\n",
       "      <th>ws_1</th>\n",
       "      <th>ws_2</th>\n",
       "      <th>ws_3</th>\n",
       "      <th>unique</th>\n",
       "      <th>diff_acc</th>\n",
       "      <th>space</th>\n",
       "      <th>time</th>\n",
       "    </tr>\n",
       "  </thead>\n",
       "  <tbody>\n",
       "    <tr>\n",
       "      <th>1</th>\n",
       "      <td>DeepDTA-DAVIS</td>\n",
       "      <td>40</td>\n",
       "      <td>[128, 2, 128, 2]</td>\n",
       "      <td>128</td>\n",
       "      <td>2</td>\n",
       "      <td>128</td>\n",
       "      <td>2</td>\n",
       "      <td>[128, 3, 128, 3]</td>\n",
       "      <td>0.03969</td>\n",
       "      <td>0.413</td>\n",
       "      <td>45</td>\n",
       "    </tr>\n",
       "  </tbody>\n",
       "</table>\n",
       "</div>"
      ],
      "text/plain": [
       "             net pruning                ws ws_0 ws_1 ws_2 ws_3  \\\n",
       "1  DeepDTA-DAVIS      40  [128, 2, 128, 2]  128    2  128    2   \n",
       "\n",
       "             unique  diff_acc  space time  \n",
       "1  [128, 3, 128, 3]   0.03969  0.413   45  "
      ]
     },
     "execution_count": 121,
     "metadata": {},
     "output_type": "execute_result"
    }
   ],
   "source": [
    "#BEST PERFORMANCE CONFIGURATION FOR DeepDTA-DAVIS\n",
    "(df_ws[(df_ws.diff_acc>=0) & (df_ws.net==\"DeepDTA-DAVIS\")].sort_values(by=[\"diff_acc\"], ascending=False)[:1])"
   ]
  },
  {
   "cell_type": "code",
   "execution_count": 122,
   "metadata": {},
   "outputs": [
    {
     "data": {
      "text/html": [
       "<div>\n",
       "<style scoped>\n",
       "    .dataframe tbody tr th:only-of-type {\n",
       "        vertical-align: middle;\n",
       "    }\n",
       "\n",
       "    .dataframe tbody tr th {\n",
       "        vertical-align: top;\n",
       "    }\n",
       "\n",
       "    .dataframe thead th {\n",
       "        text-align: right;\n",
       "    }\n",
       "</style>\n",
       "<table border=\"1\" class=\"dataframe\">\n",
       "  <thead>\n",
       "    <tr style=\"text-align: right;\">\n",
       "      <th></th>\n",
       "      <th>net</th>\n",
       "      <th>pruning</th>\n",
       "      <th>ws</th>\n",
       "      <th>ws_0</th>\n",
       "      <th>ws_1</th>\n",
       "      <th>ws_2</th>\n",
       "      <th>ws_3</th>\n",
       "      <th>unique</th>\n",
       "      <th>diff_acc</th>\n",
       "      <th>space</th>\n",
       "      <th>time</th>\n",
       "    </tr>\n",
       "  </thead>\n",
       "  <tbody>\n",
       "    <tr>\n",
       "      <th>72</th>\n",
       "      <td>DeepDTA-KIBA</td>\n",
       "      <td>60</td>\n",
       "      <td>[128, 128, 32, 2]</td>\n",
       "      <td>128</td>\n",
       "      <td>128</td>\n",
       "      <td>32</td>\n",
       "      <td>2</td>\n",
       "      <td>[128, 128, 32, 3]</td>\n",
       "      <td>0.00433</td>\n",
       "      <td>0.349</td>\n",
       "      <td>50</td>\n",
       "    </tr>\n",
       "  </tbody>\n",
       "</table>\n",
       "</div>"
      ],
      "text/plain": [
       "             net pruning                 ws ws_0 ws_1 ws_2 ws_3  \\\n",
       "72  DeepDTA-KIBA      60  [128, 128, 32, 2]  128  128   32    2   \n",
       "\n",
       "               unique  diff_acc  space time  \n",
       "72  [128, 128, 32, 3]   0.00433  0.349   50  "
      ]
     },
     "execution_count": 122,
     "metadata": {},
     "output_type": "execute_result"
    }
   ],
   "source": [
    "#BEST SPACE CONFIGURATION FOR DeepDTA-KIBA\n",
    "df_ws[(df_ws.diff_acc>=0) & (df_ws.net==\"DeepDTA-KIBA\")].sort_values(by=[\"space\"], ascending=True)[:1]"
   ]
  },
  {
   "cell_type": "code",
   "execution_count": 123,
   "metadata": {
    "scrolled": false
   },
   "outputs": [
    {
     "data": {
      "text/html": [
       "<div>\n",
       "<style scoped>\n",
       "    .dataframe tbody tr th:only-of-type {\n",
       "        vertical-align: middle;\n",
       "    }\n",
       "\n",
       "    .dataframe tbody tr th {\n",
       "        vertical-align: top;\n",
       "    }\n",
       "\n",
       "    .dataframe thead th {\n",
       "        text-align: right;\n",
       "    }\n",
       "</style>\n",
       "<table border=\"1\" class=\"dataframe\">\n",
       "  <thead>\n",
       "    <tr style=\"text-align: right;\">\n",
       "      <th></th>\n",
       "      <th>net</th>\n",
       "      <th>pruning</th>\n",
       "      <th>ws</th>\n",
       "      <th>ws_0</th>\n",
       "      <th>ws_1</th>\n",
       "      <th>ws_2</th>\n",
       "      <th>ws_3</th>\n",
       "      <th>unique</th>\n",
       "      <th>diff_acc</th>\n",
       "      <th>space</th>\n",
       "      <th>time</th>\n",
       "    </tr>\n",
       "  </thead>\n",
       "  <tbody>\n",
       "    <tr>\n",
       "      <th>3</th>\n",
       "      <td>DeepDTA-DAVIS</td>\n",
       "      <td>60</td>\n",
       "      <td>[128, 2, 128, 2]</td>\n",
       "      <td>128</td>\n",
       "      <td>2</td>\n",
       "      <td>128</td>\n",
       "      <td>2</td>\n",
       "      <td>[128, 3, 128, 3]</td>\n",
       "      <td>0.0317</td>\n",
       "      <td>0.275</td>\n",
       "      <td>33</td>\n",
       "    </tr>\n",
       "  </tbody>\n",
       "</table>\n",
       "</div>"
      ],
      "text/plain": [
       "             net pruning                ws ws_0 ws_1 ws_2 ws_3  \\\n",
       "3  DeepDTA-DAVIS      60  [128, 2, 128, 2]  128    2  128    2   \n",
       "\n",
       "             unique  diff_acc  space time  \n",
       "3  [128, 3, 128, 3]    0.0317  0.275   33  "
      ]
     },
     "execution_count": 123,
     "metadata": {},
     "output_type": "execute_result"
    }
   ],
   "source": [
    "#BEST SPACE CONFIGURATION FOR DeepDTA-DAVIS\n",
    "df_ws[(df_ws.diff_acc>=0) & (df_ws.net==\"DeepDTA-DAVIS\")].sort_values(by=[\"space\"], ascending=True)[:1]"
   ]
  },
  {
   "cell_type": "markdown",
   "metadata": {},
   "source": [
    "## Pr-PQ with HAM"
   ]
  },
  {
   "cell_type": "code",
   "execution_count": 124,
   "metadata": {},
   "outputs": [],
   "source": [
    "file = open(directory_res+'huffman_pruningpq_deep.txt', 'r') "
   ]
  },
  {
   "cell_type": "code",
   "execution_count": 125,
   "metadata": {},
   "outputs": [],
   "source": [
    "Lines = file.readlines() \n",
    "df = pd.DataFrame(columns =['net', 'pruning', 'ws', 'ws_0', 'ws_1', 'ws_2', 'ws_3', 'unique', 'diff_acc', 'space', 'time'])\n",
    "for row, line in enumerate(Lines):\n",
    "    if row == 0:\n",
    "        net = line.split(\"/\")[1]\n",
    "        net += \"-\"+line.split(\"/\")[2]\n",
    "    elif row % 7 == 0:\n",
    "        df = read_block_pr_ws_huffman(net, pruning, clusters, unique, diff_acc, space, time, df)\n",
    "        net = line.split(\"/\")[1]\n",
    "        net += \"-\"+line.split(\"/\")[2]\n",
    "    else:\n",
    "        exec(line)\n",
    "df = read_block_pr_ws_huffman(net, pruning, clusters, unique, diff_acc, space, time, df)"
   ]
  },
  {
   "cell_type": "code",
   "execution_count": 126,
   "metadata": {},
   "outputs": [],
   "source": [
    "df_sorted = df.sort_values(by=['net', 'ws_0', 'ws_1', 'ws_2', 'ws_3'], ascending=True)\n",
    "df_sorted[\"diff_acc\"] = -1 * df_sorted[\"diff_acc\"]\n",
    "df_sorted = df_sorted[df_sorted.ws_3 != 128]"
   ]
  },
  {
   "cell_type": "code",
   "execution_count": 127,
   "metadata": {},
   "outputs": [],
   "source": [
    "df_pr = pd.concat([df_sorted[(df_sorted.net==\"DeepDTA-KIBA\") & (df_sorted.pruning=='60')],\n",
    "                   df_sorted[(df_sorted.net==\"DeepDTA-DAVIS\") & (df_sorted.pruning=='80')]])\n",
    "df_ws = pd.concat([df_sorted[(df_sorted.net==\"DeepDTA-KIBA\") & (df_sorted.ws=='[32, 128, 128, 32]')],\n",
    "                   df_sorted[(df_sorted.net==\"DeepDTA-DAVIS\") & (df_sorted.ws=='[128, 32, 32, 32]')]])"
   ]
  },
  {
   "cell_type": "code",
   "execution_count": 128,
   "metadata": {
    "scrolled": true
   },
   "outputs": [
    {
     "data": {
      "image/png": "[encoded data removed]",
      "text/plain": [
       "<Figure size 792x936 with 9 Axes>"
      ]
     },
     "metadata": {
      "needs_background": "light"
     },
     "output_type": "display_data"
    }
   ],
   "source": [
    "get_accuracy_bar_plots(df_pr, acc_lim, max_time)\n",
    "plt.savefig(\"plots_results/ppq_huffman_deep_fixed_pr.png\")"
   ]
  },
  {
   "cell_type": "code",
   "execution_count": 129,
   "metadata": {
    "scrolled": true
   },
   "outputs": [
    {
     "data": {
      "text/html": [
       "<div>\n",
       "<style scoped>\n",
       "    .dataframe tbody tr th:only-of-type {\n",
       "        vertical-align: middle;\n",
       "    }\n",
       "\n",
       "    .dataframe tbody tr th {\n",
       "        vertical-align: top;\n",
       "    }\n",
       "\n",
       "    .dataframe thead th {\n",
       "        text-align: right;\n",
       "    }\n",
       "</style>\n",
       "<table border=\"1\" class=\"dataframe\">\n",
       "  <thead>\n",
       "    <tr style=\"text-align: right;\">\n",
       "      <th></th>\n",
       "      <th>net</th>\n",
       "      <th>pruning</th>\n",
       "      <th>ws</th>\n",
       "      <th>ws_0</th>\n",
       "      <th>ws_1</th>\n",
       "      <th>ws_2</th>\n",
       "      <th>ws_3</th>\n",
       "      <th>unique</th>\n",
       "      <th>diff_acc</th>\n",
       "      <th>space</th>\n",
       "      <th>time</th>\n",
       "    </tr>\n",
       "  </thead>\n",
       "  <tbody>\n",
       "  </tbody>\n",
       "</table>\n",
       "</div>"
      ],
      "text/plain": [
       "Empty DataFrame\n",
       "Columns: [net, pruning, ws, ws_0, ws_1, ws_2, ws_3, unique, diff_acc, space, time]\n",
       "Index: []"
      ]
     },
     "execution_count": 129,
     "metadata": {},
     "output_type": "execute_result"
    }
   ],
   "source": [
    "#BEST PERFORMANCE CONFIGURATION FOR DeepDTA-KIBA\n",
    "(df_pr[(df_pr.diff_acc>=0) & (df_pr.net==\"DeepDTA-KIBA\")].sort_values(by=[\"diff_acc\"], ascending=False)[:1])"
   ]
  },
  {
   "cell_type": "code",
   "execution_count": 130,
   "metadata": {},
   "outputs": [
    {
     "data": {
      "text/html": [
       "<div>\n",
       "<style scoped>\n",
       "    .dataframe tbody tr th:only-of-type {\n",
       "        vertical-align: middle;\n",
       "    }\n",
       "\n",
       "    .dataframe tbody tr th {\n",
       "        vertical-align: top;\n",
       "    }\n",
       "\n",
       "    .dataframe thead th {\n",
       "        text-align: right;\n",
       "    }\n",
       "</style>\n",
       "<table border=\"1\" class=\"dataframe\">\n",
       "  <thead>\n",
       "    <tr style=\"text-align: right;\">\n",
       "      <th></th>\n",
       "      <th>net</th>\n",
       "      <th>pruning</th>\n",
       "      <th>ws</th>\n",
       "      <th>ws_0</th>\n",
       "      <th>ws_1</th>\n",
       "      <th>ws_2</th>\n",
       "      <th>ws_3</th>\n",
       "      <th>unique</th>\n",
       "      <th>diff_acc</th>\n",
       "      <th>space</th>\n",
       "      <th>time</th>\n",
       "    </tr>\n",
       "  </thead>\n",
       "  <tbody>\n",
       "    <tr>\n",
       "      <th>1</th>\n",
       "      <td>DeepDTA-DAVIS</td>\n",
       "      <td>80</td>\n",
       "      <td>[128, 128, 128, 32]</td>\n",
       "      <td>128</td>\n",
       "      <td>128</td>\n",
       "      <td>128</td>\n",
       "      <td>32</td>\n",
       "      <td>[29, 29, 28, 8]</td>\n",
       "      <td>0.09206</td>\n",
       "      <td>0.122</td>\n",
       "      <td>74</td>\n",
       "    </tr>\n",
       "  </tbody>\n",
       "</table>\n",
       "</div>"
      ],
      "text/plain": [
       "             net pruning                   ws ws_0 ws_1 ws_2 ws_3  \\\n",
       "1  DeepDTA-DAVIS      80  [128, 128, 128, 32]  128  128  128   32   \n",
       "\n",
       "            unique  diff_acc  space time  \n",
       "1  [29, 29, 28, 8]   0.09206  0.122   74  "
      ]
     },
     "execution_count": 130,
     "metadata": {},
     "output_type": "execute_result"
    }
   ],
   "source": [
    "#BEST PERFORMANCE CONFIGURATION FOR DeepDTA-DAVIS\n",
    "(df_pr[(df_pr.diff_acc>=0) & (df_pr.net==\"DeepDTA-DAVIS\")].sort_values(by=[\"diff_acc\"], ascending=False)[:1])"
   ]
  },
  {
   "cell_type": "code",
   "execution_count": 131,
   "metadata": {},
   "outputs": [
    {
     "data": {
      "text/html": [
       "<div>\n",
       "<style scoped>\n",
       "    .dataframe tbody tr th:only-of-type {\n",
       "        vertical-align: middle;\n",
       "    }\n",
       "\n",
       "    .dataframe tbody tr th {\n",
       "        vertical-align: top;\n",
       "    }\n",
       "\n",
       "    .dataframe thead th {\n",
       "        text-align: right;\n",
       "    }\n",
       "</style>\n",
       "<table border=\"1\" class=\"dataframe\">\n",
       "  <thead>\n",
       "    <tr style=\"text-align: right;\">\n",
       "      <th></th>\n",
       "      <th>net</th>\n",
       "      <th>pruning</th>\n",
       "      <th>ws</th>\n",
       "      <th>ws_0</th>\n",
       "      <th>ws_1</th>\n",
       "      <th>ws_2</th>\n",
       "      <th>ws_3</th>\n",
       "      <th>unique</th>\n",
       "      <th>diff_acc</th>\n",
       "      <th>space</th>\n",
       "      <th>time</th>\n",
       "    </tr>\n",
       "  </thead>\n",
       "  <tbody>\n",
       "  </tbody>\n",
       "</table>\n",
       "</div>"
      ],
      "text/plain": [
       "Empty DataFrame\n",
       "Columns: [net, pruning, ws, ws_0, ws_1, ws_2, ws_3, unique, diff_acc, space, time]\n",
       "Index: []"
      ]
     },
     "execution_count": 131,
     "metadata": {},
     "output_type": "execute_result"
    }
   ],
   "source": [
    "#BEST SPACE CONFIGURATION FOR DeepDTA-KIBA\n",
    "df_pr[(df_pr.diff_acc>=0) & (df_pr.net==\"DeepDTA-KIBA\")].sort_values(by=[\"space\"], ascending=True)[:1]"
   ]
  },
  {
   "cell_type": "code",
   "execution_count": 132,
   "metadata": {
    "scrolled": false
   },
   "outputs": [
    {
     "data": {
      "text/html": [
       "<div>\n",
       "<style scoped>\n",
       "    .dataframe tbody tr th:only-of-type {\n",
       "        vertical-align: middle;\n",
       "    }\n",
       "\n",
       "    .dataframe tbody tr th {\n",
       "        vertical-align: top;\n",
       "    }\n",
       "\n",
       "    .dataframe thead th {\n",
       "        text-align: right;\n",
       "    }\n",
       "</style>\n",
       "<table border=\"1\" class=\"dataframe\">\n",
       "  <thead>\n",
       "    <tr style=\"text-align: right;\">\n",
       "      <th></th>\n",
       "      <th>net</th>\n",
       "      <th>pruning</th>\n",
       "      <th>ws</th>\n",
       "      <th>ws_0</th>\n",
       "      <th>ws_1</th>\n",
       "      <th>ws_2</th>\n",
       "      <th>ws_3</th>\n",
       "      <th>unique</th>\n",
       "      <th>diff_acc</th>\n",
       "      <th>space</th>\n",
       "      <th>time</th>\n",
       "    </tr>\n",
       "  </thead>\n",
       "  <tbody>\n",
       "    <tr>\n",
       "      <th>44</th>\n",
       "      <td>DeepDTA-DAVIS</td>\n",
       "      <td>80</td>\n",
       "      <td>[32, 2, 2, 2]</td>\n",
       "      <td>32</td>\n",
       "      <td>2</td>\n",
       "      <td>2</td>\n",
       "      <td>2</td>\n",
       "      <td>[9, 3, 3, 3]</td>\n",
       "      <td>0.01195</td>\n",
       "      <td>0.077</td>\n",
       "      <td>57</td>\n",
       "    </tr>\n",
       "  </tbody>\n",
       "</table>\n",
       "</div>"
      ],
      "text/plain": [
       "              net pruning             ws ws_0 ws_1 ws_2 ws_3        unique  \\\n",
       "44  DeepDTA-DAVIS      80  [32, 2, 2, 2]   32    2    2    2  [9, 3, 3, 3]   \n",
       "\n",
       "    diff_acc  space time  \n",
       "44   0.01195  0.077   57  "
      ]
     },
     "execution_count": 132,
     "metadata": {},
     "output_type": "execute_result"
    }
   ],
   "source": [
    "#BEST SPACE CONFIGURATION FOR DeepDTA-DAVIS\n",
    "df_pr[(df_pr.diff_acc>=0) & (df_pr.net==\"DeepDTA-DAVIS\")].sort_values(by=[\"space\"], ascending=True)[:1]"
   ]
  },
  {
   "cell_type": "code",
   "execution_count": 133,
   "metadata": {},
   "outputs": [
    {
     "data": {
      "image/png": "[encoded data removed]",
      "text/plain": [
       "<Figure size 576x864 with 6 Axes>"
      ]
     },
     "metadata": {
      "needs_background": "light"
     },
     "output_type": "display_data"
    }
   ],
   "source": [
    "df_ws = df_ws.sort_values(by=[\"pruning\"])\n",
    "get_accuracy_bar_plots_ws(df_ws, acc_lim, max_time)\n",
    "plt.savefig(\"plots_results/ppq_huffman_deep_fixed_ws.png\")"
   ]
  },
  {
   "cell_type": "code",
   "execution_count": 134,
   "metadata": {
    "scrolled": true
   },
   "outputs": [
    {
     "data": {
      "text/html": [
       "<div>\n",
       "<style scoped>\n",
       "    .dataframe tbody tr th:only-of-type {\n",
       "        vertical-align: middle;\n",
       "    }\n",
       "\n",
       "    .dataframe tbody tr th {\n",
       "        vertical-align: top;\n",
       "    }\n",
       "\n",
       "    .dataframe thead th {\n",
       "        text-align: right;\n",
       "    }\n",
       "</style>\n",
       "<table border=\"1\" class=\"dataframe\">\n",
       "  <thead>\n",
       "    <tr style=\"text-align: right;\">\n",
       "      <th></th>\n",
       "      <th>net</th>\n",
       "      <th>pruning</th>\n",
       "      <th>ws</th>\n",
       "      <th>ws_0</th>\n",
       "      <th>ws_1</th>\n",
       "      <th>ws_2</th>\n",
       "      <th>ws_3</th>\n",
       "      <th>unique</th>\n",
       "      <th>diff_acc</th>\n",
       "      <th>space</th>\n",
       "      <th>time</th>\n",
       "    </tr>\n",
       "  </thead>\n",
       "  <tbody>\n",
       "    <tr>\n",
       "      <th>66</th>\n",
       "      <td>DeepDTA-KIBA</td>\n",
       "      <td>40</td>\n",
       "      <td>[32, 128, 128, 32]</td>\n",
       "      <td>32</td>\n",
       "      <td>128</td>\n",
       "      <td>128</td>\n",
       "      <td>32</td>\n",
       "      <td>[22, 79, 79, 22]</td>\n",
       "      <td>0.00724</td>\n",
       "      <td>0.291</td>\n",
       "      <td>49</td>\n",
       "    </tr>\n",
       "  </tbody>\n",
       "</table>\n",
       "</div>"
      ],
      "text/plain": [
       "             net pruning                  ws ws_0 ws_1 ws_2 ws_3  \\\n",
       "66  DeepDTA-KIBA      40  [32, 128, 128, 32]   32  128  128   32   \n",
       "\n",
       "              unique  diff_acc  space time  \n",
       "66  [22, 79, 79, 22]   0.00724  0.291   49  "
      ]
     },
     "execution_count": 134,
     "metadata": {},
     "output_type": "execute_result"
    }
   ],
   "source": [
    "#BEST PERFORMANCE CONFIGURATION FOR DeepDTA-KIBA\n",
    "(df_ws[(df_ws.diff_acc>=0) & (df_ws.net==\"DeepDTA-KIBA\")].sort_values(by=[\"diff_acc\"], ascending=False)[:1])"
   ]
  },
  {
   "cell_type": "code",
   "execution_count": 135,
   "metadata": {},
   "outputs": [
    {
     "data": {
      "text/html": [
       "<div>\n",
       "<style scoped>\n",
       "    .dataframe tbody tr th:only-of-type {\n",
       "        vertical-align: middle;\n",
       "    }\n",
       "\n",
       "    .dataframe tbody tr th {\n",
       "        vertical-align: top;\n",
       "    }\n",
       "\n",
       "    .dataframe thead th {\n",
       "        text-align: right;\n",
       "    }\n",
       "</style>\n",
       "<table border=\"1\" class=\"dataframe\">\n",
       "  <thead>\n",
       "    <tr style=\"text-align: right;\">\n",
       "      <th></th>\n",
       "      <th>net</th>\n",
       "      <th>pruning</th>\n",
       "      <th>ws</th>\n",
       "      <th>ws_0</th>\n",
       "      <th>ws_1</th>\n",
       "      <th>ws_2</th>\n",
       "      <th>ws_3</th>\n",
       "      <th>unique</th>\n",
       "      <th>diff_acc</th>\n",
       "      <th>space</th>\n",
       "      <th>time</th>\n",
       "    </tr>\n",
       "  </thead>\n",
       "  <tbody>\n",
       "    <tr>\n",
       "      <th>57</th>\n",
       "      <td>DeepDTA-DAVIS</td>\n",
       "      <td>60</td>\n",
       "      <td>[128, 32, 32, 32]</td>\n",
       "      <td>128</td>\n",
       "      <td>32</td>\n",
       "      <td>32</td>\n",
       "      <td>32</td>\n",
       "      <td>[54, 16, 15, 15]</td>\n",
       "      <td>0.08694</td>\n",
       "      <td>0.16</td>\n",
       "      <td>112</td>\n",
       "    </tr>\n",
       "  </tbody>\n",
       "</table>\n",
       "</div>"
      ],
      "text/plain": [
       "              net pruning                 ws ws_0 ws_1 ws_2 ws_3  \\\n",
       "57  DeepDTA-DAVIS      60  [128, 32, 32, 32]  128   32   32   32   \n",
       "\n",
       "              unique  diff_acc  space time  \n",
       "57  [54, 16, 15, 15]   0.08694   0.16  112  "
      ]
     },
     "execution_count": 135,
     "metadata": {},
     "output_type": "execute_result"
    }
   ],
   "source": [
    "#BEST PERFORMANCE CONFIGURATION FOR DeepDTA-DAVIS\n",
    "(df_ws[(df_ws.diff_acc>=0) & (df_ws.net==\"DeepDTA-DAVIS\")].sort_values(by=[\"diff_acc\"], ascending=False)[:1])"
   ]
  },
  {
   "cell_type": "code",
   "execution_count": 136,
   "metadata": {},
   "outputs": [
    {
     "data": {
      "text/html": [
       "<div>\n",
       "<style scoped>\n",
       "    .dataframe tbody tr th:only-of-type {\n",
       "        vertical-align: middle;\n",
       "    }\n",
       "\n",
       "    .dataframe tbody tr th {\n",
       "        vertical-align: top;\n",
       "    }\n",
       "\n",
       "    .dataframe thead th {\n",
       "        text-align: right;\n",
       "    }\n",
       "</style>\n",
       "<table border=\"1\" class=\"dataframe\">\n",
       "  <thead>\n",
       "    <tr style=\"text-align: right;\">\n",
       "      <th></th>\n",
       "      <th>net</th>\n",
       "      <th>pruning</th>\n",
       "      <th>ws</th>\n",
       "      <th>ws_0</th>\n",
       "      <th>ws_1</th>\n",
       "      <th>ws_2</th>\n",
       "      <th>ws_3</th>\n",
       "      <th>unique</th>\n",
       "      <th>diff_acc</th>\n",
       "      <th>space</th>\n",
       "      <th>time</th>\n",
       "    </tr>\n",
       "  </thead>\n",
       "  <tbody>\n",
       "    <tr>\n",
       "      <th>67</th>\n",
       "      <td>DeepDTA-KIBA</td>\n",
       "      <td>50</td>\n",
       "      <td>[32, 128, 128, 32]</td>\n",
       "      <td>32</td>\n",
       "      <td>128</td>\n",
       "      <td>128</td>\n",
       "      <td>32</td>\n",
       "      <td>[19, 67, 66, 19]</td>\n",
       "      <td>0.00538</td>\n",
       "      <td>0.243</td>\n",
       "      <td>49</td>\n",
       "    </tr>\n",
       "  </tbody>\n",
       "</table>\n",
       "</div>"
      ],
      "text/plain": [
       "             net pruning                  ws ws_0 ws_1 ws_2 ws_3  \\\n",
       "67  DeepDTA-KIBA      50  [32, 128, 128, 32]   32  128  128   32   \n",
       "\n",
       "              unique  diff_acc  space time  \n",
       "67  [19, 67, 66, 19]   0.00538  0.243   49  "
      ]
     },
     "execution_count": 136,
     "metadata": {},
     "output_type": "execute_result"
    }
   ],
   "source": [
    "#BEST SPACE CONFIGURATION FOR DeepDTA-KIBA\n",
    "df_ws[(df_ws.diff_acc>=0) & (df_ws.net==\"DeepDTA-KIBA\")].sort_values(by=[\"space\"], ascending=True)[:1]"
   ]
  },
  {
   "cell_type": "code",
   "execution_count": 137,
   "metadata": {
    "scrolled": false
   },
   "outputs": [
    {
     "data": {
      "text/html": [
       "<div>\n",
       "<style scoped>\n",
       "    .dataframe tbody tr th:only-of-type {\n",
       "        vertical-align: middle;\n",
       "    }\n",
       "\n",
       "    .dataframe tbody tr th {\n",
       "        vertical-align: top;\n",
       "    }\n",
       "\n",
       "    .dataframe thead th {\n",
       "        text-align: right;\n",
       "    }\n",
       "</style>\n",
       "<table border=\"1\" class=\"dataframe\">\n",
       "  <thead>\n",
       "    <tr style=\"text-align: right;\">\n",
       "      <th></th>\n",
       "      <th>net</th>\n",
       "      <th>pruning</th>\n",
       "      <th>ws</th>\n",
       "      <th>ws_0</th>\n",
       "      <th>ws_1</th>\n",
       "      <th>ws_2</th>\n",
       "      <th>ws_3</th>\n",
       "      <th>unique</th>\n",
       "      <th>diff_acc</th>\n",
       "      <th>space</th>\n",
       "      <th>time</th>\n",
       "    </tr>\n",
       "  </thead>\n",
       "  <tbody>\n",
       "    <tr>\n",
       "      <th>59</th>\n",
       "      <td>DeepDTA-DAVIS</td>\n",
       "      <td>90</td>\n",
       "      <td>[128, 32, 32, 32]</td>\n",
       "      <td>128</td>\n",
       "      <td>32</td>\n",
       "      <td>32</td>\n",
       "      <td>32</td>\n",
       "      <td>[16, 7, 6, 6]</td>\n",
       "      <td>0.05515</td>\n",
       "      <td>0.075</td>\n",
       "      <td>59</td>\n",
       "    </tr>\n",
       "  </tbody>\n",
       "</table>\n",
       "</div>"
      ],
      "text/plain": [
       "              net pruning                 ws ws_0 ws_1 ws_2 ws_3  \\\n",
       "59  DeepDTA-DAVIS      90  [128, 32, 32, 32]  128   32   32   32   \n",
       "\n",
       "           unique  diff_acc  space time  \n",
       "59  [16, 7, 6, 6]   0.05515  0.075   59  "
      ]
     },
     "execution_count": 137,
     "metadata": {},
     "output_type": "execute_result"
    }
   ],
   "source": [
    "#BEST SPACE CONFIGURATION FOR DeepDTA-DAVIS\n",
    "df_ws[(df_ws.diff_acc>=0) & (df_ws.net==\"DeepDTA-DAVIS\")].sort_values(by=[\"space\"], ascending=True)[:1]"
   ]
  },
  {
   "cell_type": "markdown",
   "metadata": {},
   "source": [
    "## Pr-PQ with sHAM"
   ]
  },
  {
   "cell_type": "code",
   "execution_count": 138,
   "metadata": {},
   "outputs": [],
   "source": [
    "file = open(directory_res+'sparse_huffman_pruningpq_deep.txt', 'r') "
   ]
  },
  {
   "cell_type": "code",
   "execution_count": 139,
   "metadata": {},
   "outputs": [],
   "source": [
    "Lines = file.readlines() \n",
    "df = pd.DataFrame(columns =['net', 'pruning', 'ws', 'ws_0', 'ws_1', 'ws_2', 'ws_3', 'unique', 'diff_acc', 'space', 'time'])\n",
    "for row, line in enumerate(Lines):\n",
    "    if row == 0:\n",
    "        net = line.split(\"/\")[1]\n",
    "        net += \"-\"+line.split(\"/\")[2]\n",
    "    elif row % 7 == 0:\n",
    "        df = read_block_pr_ws_huffman(net, pruning, clusters, unique, diff_acc, space, time, df)\n",
    "        net = line.split(\"/\")[1]\n",
    "        net += \"-\"+line.split(\"/\")[2]\n",
    "    else:\n",
    "        exec(line)\n",
    "df = read_block_pr_ws_huffman(net, pruning, clusters, unique, diff_acc, space, time, df)"
   ]
  },
  {
   "cell_type": "code",
   "execution_count": 140,
   "metadata": {},
   "outputs": [],
   "source": [
    "df_sorted = df.sort_values(by=['net', 'ws_0', 'ws_1', 'ws_2', 'ws_3'], ascending=True)\n",
    "df_sorted[\"diff_acc\"] = -1 * df_sorted[\"diff_acc\"]\n",
    "df_sorted = df_sorted[df_sorted.ws_3 != 128]"
   ]
  },
  {
   "cell_type": "code",
   "execution_count": 141,
   "metadata": {},
   "outputs": [],
   "source": [
    "df_pr = pd.concat([df_sorted[(df_sorted.net==\"DeepDTA-KIBA\") & (df_sorted.pruning=='60')],\n",
    "                   df_sorted[(df_sorted.net==\"DeepDTA-DAVIS\") & (df_sorted.pruning=='80')]])\n",
    "df_ws = pd.concat([df_sorted[(df_sorted.net==\"DeepDTA-KIBA\") & (df_sorted.ws=='[32, 128, 128, 32]')],\n",
    "                   df_sorted[(df_sorted.net==\"DeepDTA-DAVIS\") & (df_sorted.ws=='[128, 32, 32, 32]')]])"
   ]
  },
  {
   "cell_type": "code",
   "execution_count": 142,
   "metadata": {},
   "outputs": [
    {
     "data": {
      "image/png": "[encoded data removed]",
      "text/plain": [
       "<Figure size 792x936 with 9 Axes>"
      ]
     },
     "metadata": {
      "needs_background": "light"
     },
     "output_type": "display_data"
    }
   ],
   "source": [
    "get_accuracy_bar_plots(df_pr, acc_lim, max_time)\n",
    "plt.savefig(\"plots_results/ppq_sparse_huffman_deep_fixed_pr.png\")"
   ]
  },
  {
   "cell_type": "code",
   "execution_count": 143,
   "metadata": {
    "scrolled": true
   },
   "outputs": [
    {
     "data": {
      "text/html": [
       "<div>\n",
       "<style scoped>\n",
       "    .dataframe tbody tr th:only-of-type {\n",
       "        vertical-align: middle;\n",
       "    }\n",
       "\n",
       "    .dataframe tbody tr th {\n",
       "        vertical-align: top;\n",
       "    }\n",
       "\n",
       "    .dataframe thead th {\n",
       "        text-align: right;\n",
       "    }\n",
       "</style>\n",
       "<table border=\"1\" class=\"dataframe\">\n",
       "  <thead>\n",
       "    <tr style=\"text-align: right;\">\n",
       "      <th></th>\n",
       "      <th>net</th>\n",
       "      <th>pruning</th>\n",
       "      <th>ws</th>\n",
       "      <th>ws_0</th>\n",
       "      <th>ws_1</th>\n",
       "      <th>ws_2</th>\n",
       "      <th>ws_3</th>\n",
       "      <th>unique</th>\n",
       "      <th>diff_acc</th>\n",
       "      <th>space</th>\n",
       "      <th>time</th>\n",
       "    </tr>\n",
       "  </thead>\n",
       "  <tbody>\n",
       "  </tbody>\n",
       "</table>\n",
       "</div>"
      ],
      "text/plain": [
       "Empty DataFrame\n",
       "Columns: [net, pruning, ws, ws_0, ws_1, ws_2, ws_3, unique, diff_acc, space, time]\n",
       "Index: []"
      ]
     },
     "execution_count": 143,
     "metadata": {},
     "output_type": "execute_result"
    }
   ],
   "source": [
    "#BEST PERFORMANCE CONFIGURATION FOR DeepDTA-KIBA\n",
    "(df_pr[(df_pr.diff_acc>=0) & (df_pr.net==\"DeepDTA-KIBA\")].sort_values(by=[\"diff_acc\"], ascending=False)[:1])"
   ]
  },
  {
   "cell_type": "code",
   "execution_count": 144,
   "metadata": {},
   "outputs": [
    {
     "data": {
      "text/html": [
       "<div>\n",
       "<style scoped>\n",
       "    .dataframe tbody tr th:only-of-type {\n",
       "        vertical-align: middle;\n",
       "    }\n",
       "\n",
       "    .dataframe tbody tr th {\n",
       "        vertical-align: top;\n",
       "    }\n",
       "\n",
       "    .dataframe thead th {\n",
       "        text-align: right;\n",
       "    }\n",
       "</style>\n",
       "<table border=\"1\" class=\"dataframe\">\n",
       "  <thead>\n",
       "    <tr style=\"text-align: right;\">\n",
       "      <th></th>\n",
       "      <th>net</th>\n",
       "      <th>pruning</th>\n",
       "      <th>ws</th>\n",
       "      <th>ws_0</th>\n",
       "      <th>ws_1</th>\n",
       "      <th>ws_2</th>\n",
       "      <th>ws_3</th>\n",
       "      <th>unique</th>\n",
       "      <th>diff_acc</th>\n",
       "      <th>space</th>\n",
       "      <th>time</th>\n",
       "    </tr>\n",
       "  </thead>\n",
       "  <tbody>\n",
       "    <tr>\n",
       "      <th>1</th>\n",
       "      <td>DeepDTA-DAVIS</td>\n",
       "      <td>80</td>\n",
       "      <td>[128, 128, 128, 32]</td>\n",
       "      <td>128</td>\n",
       "      <td>128</td>\n",
       "      <td>128</td>\n",
       "      <td>32</td>\n",
       "      <td>[29, 29, 28, 8]</td>\n",
       "      <td>0.09206</td>\n",
       "      <td>0.154</td>\n",
       "      <td>22</td>\n",
       "    </tr>\n",
       "  </tbody>\n",
       "</table>\n",
       "</div>"
      ],
      "text/plain": [
       "             net pruning                   ws ws_0 ws_1 ws_2 ws_3  \\\n",
       "1  DeepDTA-DAVIS      80  [128, 128, 128, 32]  128  128  128   32   \n",
       "\n",
       "            unique  diff_acc  space time  \n",
       "1  [29, 29, 28, 8]   0.09206  0.154   22  "
      ]
     },
     "execution_count": 144,
     "metadata": {},
     "output_type": "execute_result"
    }
   ],
   "source": [
    "#BEST PERFORMANCE CONFIGURATION FOR DeepDTA-DAVIS\n",
    "(df_pr[(df_pr.diff_acc>=0) & (df_pr.net==\"DeepDTA-DAVIS\")].sort_values(by=[\"diff_acc\"], ascending=False)[:1])"
   ]
  },
  {
   "cell_type": "code",
   "execution_count": 145,
   "metadata": {},
   "outputs": [
    {
     "data": {
      "text/html": [
       "<div>\n",
       "<style scoped>\n",
       "    .dataframe tbody tr th:only-of-type {\n",
       "        vertical-align: middle;\n",
       "    }\n",
       "\n",
       "    .dataframe tbody tr th {\n",
       "        vertical-align: top;\n",
       "    }\n",
       "\n",
       "    .dataframe thead th {\n",
       "        text-align: right;\n",
       "    }\n",
       "</style>\n",
       "<table border=\"1\" class=\"dataframe\">\n",
       "  <thead>\n",
       "    <tr style=\"text-align: right;\">\n",
       "      <th></th>\n",
       "      <th>net</th>\n",
       "      <th>pruning</th>\n",
       "      <th>ws</th>\n",
       "      <th>ws_0</th>\n",
       "      <th>ws_1</th>\n",
       "      <th>ws_2</th>\n",
       "      <th>ws_3</th>\n",
       "      <th>unique</th>\n",
       "      <th>diff_acc</th>\n",
       "      <th>space</th>\n",
       "      <th>time</th>\n",
       "    </tr>\n",
       "  </thead>\n",
       "  <tbody>\n",
       "  </tbody>\n",
       "</table>\n",
       "</div>"
      ],
      "text/plain": [
       "Empty DataFrame\n",
       "Columns: [net, pruning, ws, ws_0, ws_1, ws_2, ws_3, unique, diff_acc, space, time]\n",
       "Index: []"
      ]
     },
     "execution_count": 145,
     "metadata": {},
     "output_type": "execute_result"
    }
   ],
   "source": [
    "#BEST SPACE CONFIGURATION FOR DeepDTA-KIBA\n",
    "df_pr[(df_pr.diff_acc>=0) & (df_pr.net==\"DeepDTA-KIBA\")].sort_values(by=[\"space\"], ascending=True)[:1]"
   ]
  },
  {
   "cell_type": "code",
   "execution_count": 146,
   "metadata": {
    "scrolled": false
   },
   "outputs": [
    {
     "data": {
      "text/html": [
       "<div>\n",
       "<style scoped>\n",
       "    .dataframe tbody tr th:only-of-type {\n",
       "        vertical-align: middle;\n",
       "    }\n",
       "\n",
       "    .dataframe tbody tr th {\n",
       "        vertical-align: top;\n",
       "    }\n",
       "\n",
       "    .dataframe thead th {\n",
       "        text-align: right;\n",
       "    }\n",
       "</style>\n",
       "<table border=\"1\" class=\"dataframe\">\n",
       "  <thead>\n",
       "    <tr style=\"text-align: right;\">\n",
       "      <th></th>\n",
       "      <th>net</th>\n",
       "      <th>pruning</th>\n",
       "      <th>ws</th>\n",
       "      <th>ws_0</th>\n",
       "      <th>ws_1</th>\n",
       "      <th>ws_2</th>\n",
       "      <th>ws_3</th>\n",
       "      <th>unique</th>\n",
       "      <th>diff_acc</th>\n",
       "      <th>space</th>\n",
       "      <th>time</th>\n",
       "    </tr>\n",
       "  </thead>\n",
       "  <tbody>\n",
       "    <tr>\n",
       "      <th>44</th>\n",
       "      <td>DeepDTA-DAVIS</td>\n",
       "      <td>80</td>\n",
       "      <td>[32, 2, 2, 2]</td>\n",
       "      <td>32</td>\n",
       "      <td>2</td>\n",
       "      <td>2</td>\n",
       "      <td>2</td>\n",
       "      <td>[9, 3, 3, 3]</td>\n",
       "      <td>0.01195</td>\n",
       "      <td>0.11</td>\n",
       "      <td>15</td>\n",
       "    </tr>\n",
       "  </tbody>\n",
       "</table>\n",
       "</div>"
      ],
      "text/plain": [
       "              net pruning             ws ws_0 ws_1 ws_2 ws_3        unique  \\\n",
       "44  DeepDTA-DAVIS      80  [32, 2, 2, 2]   32    2    2    2  [9, 3, 3, 3]   \n",
       "\n",
       "    diff_acc  space time  \n",
       "44   0.01195   0.11   15  "
      ]
     },
     "execution_count": 146,
     "metadata": {},
     "output_type": "execute_result"
    }
   ],
   "source": [
    "#BEST SPACE CONFIGURATION FOR DeepDTA-DAVIS\n",
    "df_pr[(df_pr.diff_acc>=0) & (df_pr.net==\"DeepDTA-DAVIS\")].sort_values(by=[\"space\"], ascending=True)[:1]"
   ]
  },
  {
   "cell_type": "code",
   "execution_count": 147,
   "metadata": {
    "scrolled": true
   },
   "outputs": [
    {
     "data": {
      "image/png": "[encoded data removed]",
      "text/plain": [
       "<Figure size 576x864 with 6 Axes>"
      ]
     },
     "metadata": {
      "needs_background": "light"
     },
     "output_type": "display_data"
    }
   ],
   "source": [
    "df_ws = df_ws.sort_values(by=[\"pruning\"])\n",
    "get_accuracy_bar_plots_ws(df_ws, acc_lim, max_time)\n",
    "plt.savefig(\"plots_results/ppq_sparse_huffman_deep_fixed_ws.png\")"
   ]
  },
  {
   "cell_type": "code",
   "execution_count": 148,
   "metadata": {
    "scrolled": true
   },
   "outputs": [
    {
     "data": {
      "text/html": [
       "<div>\n",
       "<style scoped>\n",
       "    .dataframe tbody tr th:only-of-type {\n",
       "        vertical-align: middle;\n",
       "    }\n",
       "\n",
       "    .dataframe tbody tr th {\n",
       "        vertical-align: top;\n",
       "    }\n",
       "\n",
       "    .dataframe thead th {\n",
       "        text-align: right;\n",
       "    }\n",
       "</style>\n",
       "<table border=\"1\" class=\"dataframe\">\n",
       "  <thead>\n",
       "    <tr style=\"text-align: right;\">\n",
       "      <th></th>\n",
       "      <th>net</th>\n",
       "      <th>pruning</th>\n",
       "      <th>ws</th>\n",
       "      <th>ws_0</th>\n",
       "      <th>ws_1</th>\n",
       "      <th>ws_2</th>\n",
       "      <th>ws_3</th>\n",
       "      <th>unique</th>\n",
       "      <th>diff_acc</th>\n",
       "      <th>space</th>\n",
       "      <th>time</th>\n",
       "    </tr>\n",
       "  </thead>\n",
       "  <tbody>\n",
       "    <tr>\n",
       "      <th>66</th>\n",
       "      <td>DeepDTA-KIBA</td>\n",
       "      <td>40</td>\n",
       "      <td>[32, 128, 128, 32]</td>\n",
       "      <td>32</td>\n",
       "      <td>128</td>\n",
       "      <td>128</td>\n",
       "      <td>32</td>\n",
       "      <td>[22, 79, 79, 22]</td>\n",
       "      <td>0.00724</td>\n",
       "      <td>0.512</td>\n",
       "      <td>39</td>\n",
       "    </tr>\n",
       "  </tbody>\n",
       "</table>\n",
       "</div>"
      ],
      "text/plain": [
       "             net pruning                  ws ws_0 ws_1 ws_2 ws_3  \\\n",
       "66  DeepDTA-KIBA      40  [32, 128, 128, 32]   32  128  128   32   \n",
       "\n",
       "              unique  diff_acc  space time  \n",
       "66  [22, 79, 79, 22]   0.00724  0.512   39  "
      ]
     },
     "execution_count": 148,
     "metadata": {},
     "output_type": "execute_result"
    }
   ],
   "source": [
    "#BEST PERFORMANCE CONFIGURATION FOR DeepDTA-KIBA\n",
    "(df_ws[(df_ws.diff_acc>=0) & (df_ws.net==\"DeepDTA-KIBA\")].sort_values(by=[\"diff_acc\"], ascending=False)[:1])"
   ]
  },
  {
   "cell_type": "code",
   "execution_count": 149,
   "metadata": {},
   "outputs": [
    {
     "data": {
      "text/html": [
       "<div>\n",
       "<style scoped>\n",
       "    .dataframe tbody tr th:only-of-type {\n",
       "        vertical-align: middle;\n",
       "    }\n",
       "\n",
       "    .dataframe tbody tr th {\n",
       "        vertical-align: top;\n",
       "    }\n",
       "\n",
       "    .dataframe thead th {\n",
       "        text-align: right;\n",
       "    }\n",
       "</style>\n",
       "<table border=\"1\" class=\"dataframe\">\n",
       "  <thead>\n",
       "    <tr style=\"text-align: right;\">\n",
       "      <th></th>\n",
       "      <th>net</th>\n",
       "      <th>pruning</th>\n",
       "      <th>ws</th>\n",
       "      <th>ws_0</th>\n",
       "      <th>ws_1</th>\n",
       "      <th>ws_2</th>\n",
       "      <th>ws_3</th>\n",
       "      <th>unique</th>\n",
       "      <th>diff_acc</th>\n",
       "      <th>space</th>\n",
       "      <th>time</th>\n",
       "    </tr>\n",
       "  </thead>\n",
       "  <tbody>\n",
       "    <tr>\n",
       "      <th>57</th>\n",
       "      <td>DeepDTA-DAVIS</td>\n",
       "      <td>60</td>\n",
       "      <td>[128, 32, 32, 32]</td>\n",
       "      <td>128</td>\n",
       "      <td>32</td>\n",
       "      <td>32</td>\n",
       "      <td>32</td>\n",
       "      <td>[54, 16, 15, 15]</td>\n",
       "      <td>0.08694</td>\n",
       "      <td>0.287</td>\n",
       "      <td>41</td>\n",
       "    </tr>\n",
       "  </tbody>\n",
       "</table>\n",
       "</div>"
      ],
      "text/plain": [
       "              net pruning                 ws ws_0 ws_1 ws_2 ws_3  \\\n",
       "57  DeepDTA-DAVIS      60  [128, 32, 32, 32]  128   32   32   32   \n",
       "\n",
       "              unique  diff_acc  space time  \n",
       "57  [54, 16, 15, 15]   0.08694  0.287   41  "
      ]
     },
     "execution_count": 149,
     "metadata": {},
     "output_type": "execute_result"
    }
   ],
   "source": [
    "#BEST PERFORMANCE CONFIGURATION FOR DeepDTA-DAVIS\n",
    "(df_ws[(df_ws.diff_acc>=0) & (df_ws.net==\"DeepDTA-DAVIS\")].sort_values(by=[\"diff_acc\"], ascending=False)[:1])"
   ]
  },
  {
   "cell_type": "code",
   "execution_count": 150,
   "metadata": {},
   "outputs": [
    {
     "data": {
      "text/html": [
       "<div>\n",
       "<style scoped>\n",
       "    .dataframe tbody tr th:only-of-type {\n",
       "        vertical-align: middle;\n",
       "    }\n",
       "\n",
       "    .dataframe tbody tr th {\n",
       "        vertical-align: top;\n",
       "    }\n",
       "\n",
       "    .dataframe thead th {\n",
       "        text-align: right;\n",
       "    }\n",
       "</style>\n",
       "<table border=\"1\" class=\"dataframe\">\n",
       "  <thead>\n",
       "    <tr style=\"text-align: right;\">\n",
       "      <th></th>\n",
       "      <th>net</th>\n",
       "      <th>pruning</th>\n",
       "      <th>ws</th>\n",
       "      <th>ws_0</th>\n",
       "      <th>ws_1</th>\n",
       "      <th>ws_2</th>\n",
       "      <th>ws_3</th>\n",
       "      <th>unique</th>\n",
       "      <th>diff_acc</th>\n",
       "      <th>space</th>\n",
       "      <th>time</th>\n",
       "    </tr>\n",
       "  </thead>\n",
       "  <tbody>\n",
       "    <tr>\n",
       "      <th>67</th>\n",
       "      <td>DeepDTA-KIBA</td>\n",
       "      <td>50</td>\n",
       "      <td>[32, 128, 128, 32]</td>\n",
       "      <td>32</td>\n",
       "      <td>128</td>\n",
       "      <td>128</td>\n",
       "      <td>32</td>\n",
       "      <td>[19, 67, 66, 19]</td>\n",
       "      <td>0.00538</td>\n",
       "      <td>0.418</td>\n",
       "      <td>33</td>\n",
       "    </tr>\n",
       "  </tbody>\n",
       "</table>\n",
       "</div>"
      ],
      "text/plain": [
       "             net pruning                  ws ws_0 ws_1 ws_2 ws_3  \\\n",
       "67  DeepDTA-KIBA      50  [32, 128, 128, 32]   32  128  128   32   \n",
       "\n",
       "              unique  diff_acc  space time  \n",
       "67  [19, 67, 66, 19]   0.00538  0.418   33  "
      ]
     },
     "execution_count": 150,
     "metadata": {},
     "output_type": "execute_result"
    }
   ],
   "source": [
    "#BEST SPACE CONFIGURATION FOR DeepDTA-KIBA\n",
    "df_ws[(df_ws.diff_acc>=0) & (df_ws.net==\"DeepDTA-KIBA\")].sort_values(by=[\"space\"], ascending=True)[:1]"
   ]
  },
  {
   "cell_type": "code",
   "execution_count": 151,
   "metadata": {
    "scrolled": false
   },
   "outputs": [
    {
     "data": {
      "text/html": [
       "<div>\n",
       "<style scoped>\n",
       "    .dataframe tbody tr th:only-of-type {\n",
       "        vertical-align: middle;\n",
       "    }\n",
       "\n",
       "    .dataframe tbody tr th {\n",
       "        vertical-align: top;\n",
       "    }\n",
       "\n",
       "    .dataframe thead th {\n",
       "        text-align: right;\n",
       "    }\n",
       "</style>\n",
       "<table border=\"1\" class=\"dataframe\">\n",
       "  <thead>\n",
       "    <tr style=\"text-align: right;\">\n",
       "      <th></th>\n",
       "      <th>net</th>\n",
       "      <th>pruning</th>\n",
       "      <th>ws</th>\n",
       "      <th>ws_0</th>\n",
       "      <th>ws_1</th>\n",
       "      <th>ws_2</th>\n",
       "      <th>ws_3</th>\n",
       "      <th>unique</th>\n",
       "      <th>diff_acc</th>\n",
       "      <th>space</th>\n",
       "      <th>time</th>\n",
       "    </tr>\n",
       "  </thead>\n",
       "  <tbody>\n",
       "    <tr>\n",
       "      <th>59</th>\n",
       "      <td>DeepDTA-DAVIS</td>\n",
       "      <td>90</td>\n",
       "      <td>[128, 32, 32, 32]</td>\n",
       "      <td>128</td>\n",
       "      <td>32</td>\n",
       "      <td>32</td>\n",
       "      <td>32</td>\n",
       "      <td>[16, 7, 6, 6]</td>\n",
       "      <td>0.05515</td>\n",
       "      <td>0.06</td>\n",
       "      <td>12</td>\n",
       "    </tr>\n",
       "  </tbody>\n",
       "</table>\n",
       "</div>"
      ],
      "text/plain": [
       "              net pruning                 ws ws_0 ws_1 ws_2 ws_3  \\\n",
       "59  DeepDTA-DAVIS      90  [128, 32, 32, 32]  128   32   32   32   \n",
       "\n",
       "           unique  diff_acc  space time  \n",
       "59  [16, 7, 6, 6]   0.05515   0.06   12  "
      ]
     },
     "execution_count": 151,
     "metadata": {},
     "output_type": "execute_result"
    }
   ],
   "source": [
    "#BEST SPACE CONFIGURATION FOR DeepDTA-DAVIS\n",
    "df_ws[(df_ws.diff_acc>=0) & (df_ws.net==\"DeepDTA-DAVIS\")].sort_values(by=[\"space\"], ascending=True)[:1]"
   ]
  },
  {
   "cell_type": "code",
   "execution_count": null,
   "metadata": {},
   "outputs": [],
   "source": []
  }
 ],
 "metadata": {
  "kernelspec": {
   "display_name": "Python 3",
   "language": "python",
   "name": "python3"
  },
  "language_info": {
   "codemirror_mode": {
    "name": "ipython",
    "version": 3
   },
   "file_extension": ".py",
   "mimetype": "text/x-python",
   "name": "python",
   "nbconvert_exporter": "python",
   "pygments_lexer": "ipython3",
   "version": "3.7.6"
  }
 },
 "nbformat": 4,
 "nbformat_minor": 4
}
